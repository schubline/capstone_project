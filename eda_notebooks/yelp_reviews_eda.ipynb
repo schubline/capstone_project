{
 "cells": [
  {
   "cell_type": "markdown",
   "metadata": {},
   "source": [
    "<img src=\"https://ga-dash.s3.amazonaws.com/production/assets/logo-9f88ae6c9c3871690e33280fcf557f33.png\" style=\"float: left; margin: 15px;\">\n",
    "\n",
    "# Capstone Project Milestone 2.5: Yelp Reviews EDA\n",
    "\n",
    "_Author: Schubert H. Laforest (BOS)_"
   ]
  },
  {
   "cell_type": "markdown",
   "metadata": {},
   "source": [
    "# Overview \n",
    "The goal of this notebook is to do extensive EDA on the Yelp review dataset specifically. Here, I will be getting a feel for the data, see what cleaning needs to be done, and get some general inferential statistics. Trying this."
   ]
  },
  {
   "cell_type": "markdown",
   "metadata": {},
   "source": [
    "## Guiding Questions\n",
    "1) What can we learn from reviews? Can they be used to predict ratings "
   ]
  },
  {
   "cell_type": "markdown",
   "metadata": {},
   "source": [
    "## Methodology\n",
    "- Randomly Sample the dataset: Since the CSV is over 3GBs large, it isn't feasible to perform EDA on the entire dataset. \n",
    "    - Basically, doing EDA on a random sample will give me a good idea of what the data looks like and I can deploy quick models to get a sense of how they perform on the given data. \n",
    "- "
   ]
  },
  {
   "cell_type": "markdown",
   "metadata": {},
   "source": [
    "**To do**:\n",
    "- Subsection dataframe by year (cf Time Series in pandas lecture)\n",
    "- Subsection by market (exploratory)\n",
    "- Save to read-only csv (Thick carefully about how much data that will be, may need to be more judicious...)\n",
    "- Test out new NLP packages "
   ]
  },
  {
   "cell_type": "markdown",
   "metadata": {},
   "source": [
    "# Notebook Guide"
   ]
  },
  {
   "cell_type": "markdown",
   "metadata": {},
   "source": [
    "## Preprocessing "
   ]
  },
  {
   "cell_type": "code",
   "execution_count": 1,
   "metadata": {},
   "outputs": [],
   "source": [
    "# Loading up the Imports \n",
    "import pandas as pd \n",
    "import numpy as np \n",
    "import matplotlib.pyplot as plt \n",
    "import seaborn as sns\n",
    "\n",
    "import warnings\n",
    "warnings.filterwarnings('ignore')"
   ]
  },
  {
   "cell_type": "code",
   "execution_count": 5,
   "metadata": {},
   "outputs": [],
   "source": [
    "# Loading in the dataset \n",
    "reviews = pd.read_csv(\"~/DSI/capstone_project/yelp_review.csv\")"
   ]
  },
  {
   "cell_type": "code",
   "execution_count": 6,
   "metadata": {},
   "outputs": [],
   "source": [
    "# randomly sampling the data\n",
    "chosen_idx = np.random.choice(1000, replace=False, size=1000)\n",
    "reviews_trimmed = reviews.iloc[chosen_idx]"
   ]
  },
  {
   "cell_type": "code",
   "execution_count": 7,
   "metadata": {},
   "outputs": [
    {
     "data": {
      "text/plain": [
       "(1000, 9)"
      ]
     },
     "execution_count": 7,
     "metadata": {},
     "output_type": "execute_result"
    }
   ],
   "source": [
    "reviews_trimmed.shape"
   ]
  },
  {
   "cell_type": "code",
   "execution_count": 8,
   "metadata": {},
   "outputs": [
    {
     "name": "stdout",
     "output_type": "stream",
     "text": [
      "<class 'pandas.core.frame.DataFrame'>\n",
      "RangeIndex: 5261668 entries, 0 to 5261667\n",
      "Data columns (total 9 columns):\n",
      "review_id      object\n",
      "user_id        object\n",
      "business_id    object\n",
      "stars          int64\n",
      "date           object\n",
      "text           object\n",
      "useful         int64\n",
      "funny          int64\n",
      "cool           int64\n",
      "dtypes: int64(4), object(5)\n",
      "memory usage: 361.3+ MB\n"
     ]
    }
   ],
   "source": [
    "reviews.info()"
   ]
  },
  {
   "cell_type": "code",
   "execution_count": 15,
   "metadata": {},
   "outputs": [
    {
     "data": {
      "text/html": [
       "<div>\n",
       "<style scoped>\n",
       "    .dataframe tbody tr th:only-of-type {\n",
       "        vertical-align: middle;\n",
       "    }\n",
       "\n",
       "    .dataframe tbody tr th {\n",
       "        vertical-align: top;\n",
       "    }\n",
       "\n",
       "    .dataframe thead th {\n",
       "        text-align: right;\n",
       "    }\n",
       "</style>\n",
       "<table border=\"1\" class=\"dataframe\">\n",
       "  <thead>\n",
       "    <tr style=\"text-align: right;\">\n",
       "      <th></th>\n",
       "      <th>review_id</th>\n",
       "      <th>user_id</th>\n",
       "      <th>business_id</th>\n",
       "      <th>stars</th>\n",
       "      <th>date</th>\n",
       "      <th>text</th>\n",
       "      <th>useful</th>\n",
       "      <th>funny</th>\n",
       "      <th>cool</th>\n",
       "    </tr>\n",
       "  </thead>\n",
       "  <tbody>\n",
       "    <tr>\n",
       "      <th>0</th>\n",
       "      <td>vkVSCC7xljjrAI4UGfnKEQ</td>\n",
       "      <td>bv2nCi5Qv5vroFiqKGopiw</td>\n",
       "      <td>AEx2SYEUJmTxVVB18LlCwA</td>\n",
       "      <td>5</td>\n",
       "      <td>2016-05-28</td>\n",
       "      <td>Super simple place but amazing nonetheless. It...</td>\n",
       "      <td>0</td>\n",
       "      <td>0</td>\n",
       "      <td>0</td>\n",
       "    </tr>\n",
       "    <tr>\n",
       "      <th>1</th>\n",
       "      <td>n6QzIUObkYshz4dz2QRJTw</td>\n",
       "      <td>bv2nCi5Qv5vroFiqKGopiw</td>\n",
       "      <td>VR6GpWIda3SfvPC-lg9H3w</td>\n",
       "      <td>5</td>\n",
       "      <td>2016-05-28</td>\n",
       "      <td>Small unassuming place that changes their menu...</td>\n",
       "      <td>0</td>\n",
       "      <td>0</td>\n",
       "      <td>0</td>\n",
       "    </tr>\n",
       "    <tr>\n",
       "      <th>2</th>\n",
       "      <td>MV3CcKScW05u5LVfF6ok0g</td>\n",
       "      <td>bv2nCi5Qv5vroFiqKGopiw</td>\n",
       "      <td>CKC0-MOWMqoeWf6s-szl8g</td>\n",
       "      <td>5</td>\n",
       "      <td>2016-05-28</td>\n",
       "      <td>Lester's is located in a beautiful neighborhoo...</td>\n",
       "      <td>0</td>\n",
       "      <td>0</td>\n",
       "      <td>0</td>\n",
       "    </tr>\n",
       "    <tr>\n",
       "      <th>3</th>\n",
       "      <td>IXvOzsEMYtiJI0CARmj77Q</td>\n",
       "      <td>bv2nCi5Qv5vroFiqKGopiw</td>\n",
       "      <td>ACFtxLv8pGrrxMm6EgjreA</td>\n",
       "      <td>4</td>\n",
       "      <td>2016-05-28</td>\n",
       "      <td>Love coming here. Yes the place always needs t...</td>\n",
       "      <td>0</td>\n",
       "      <td>0</td>\n",
       "      <td>0</td>\n",
       "    </tr>\n",
       "    <tr>\n",
       "      <th>4</th>\n",
       "      <td>L_9BTb55X0GDtThi6GlZ6w</td>\n",
       "      <td>bv2nCi5Qv5vroFiqKGopiw</td>\n",
       "      <td>s2I_Ni76bjJNK9yG60iD-Q</td>\n",
       "      <td>4</td>\n",
       "      <td>2016-05-28</td>\n",
       "      <td>Had their chocolate almond croissant and it wa...</td>\n",
       "      <td>0</td>\n",
       "      <td>0</td>\n",
       "      <td>0</td>\n",
       "    </tr>\n",
       "    <tr>\n",
       "      <th>5</th>\n",
       "      <td>HRPm3vEZ_F-33TYVT7Pebw</td>\n",
       "      <td>_4iMDXbXZ1p1ONG297YEAQ</td>\n",
       "      <td>8QWPlVQ6D-OExqXoaD2Z1g</td>\n",
       "      <td>5</td>\n",
       "      <td>2014-09-24</td>\n",
       "      <td>Cycle Pub Las Vegas was a blast! Got a groupon...</td>\n",
       "      <td>1</td>\n",
       "      <td>0</td>\n",
       "      <td>0</td>\n",
       "    </tr>\n",
       "    <tr>\n",
       "      <th>6</th>\n",
       "      <td>ymAUG8DZfQcFTBSOiaNN4w</td>\n",
       "      <td>u0LXt3Uea_GidxRW1xcsfg</td>\n",
       "      <td>9_CGhHMz8698M9-PkVf0CQ</td>\n",
       "      <td>4</td>\n",
       "      <td>2012-05-11</td>\n",
       "      <td>Who would have guess that you would be able to...</td>\n",
       "      <td>0</td>\n",
       "      <td>0</td>\n",
       "      <td>2</td>\n",
       "    </tr>\n",
       "    <tr>\n",
       "      <th>7</th>\n",
       "      <td>8UIishPUD92hXtScSga_gw</td>\n",
       "      <td>u0LXt3Uea_GidxRW1xcsfg</td>\n",
       "      <td>gkCorLgPyQLsptTHalL61g</td>\n",
       "      <td>4</td>\n",
       "      <td>2015-10-27</td>\n",
       "      <td>Always drove past this coffee house and wonder...</td>\n",
       "      <td>1</td>\n",
       "      <td>0</td>\n",
       "      <td>0</td>\n",
       "    </tr>\n",
       "    <tr>\n",
       "      <th>8</th>\n",
       "      <td>w41ZS9shepfO3uEyhXEWuQ</td>\n",
       "      <td>u0LXt3Uea_GidxRW1xcsfg</td>\n",
       "      <td>5r6-G9C4YLbC7Ziz57l3rQ</td>\n",
       "      <td>3</td>\n",
       "      <td>2013-02-09</td>\n",
       "      <td>Not bad!! Love that there is a gluten-free, ve...</td>\n",
       "      <td>1</td>\n",
       "      <td>0</td>\n",
       "      <td>0</td>\n",
       "    </tr>\n",
       "    <tr>\n",
       "      <th>9</th>\n",
       "      <td>WF_QTN3p-thD74hqpp2j-Q</td>\n",
       "      <td>u0LXt3Uea_GidxRW1xcsfg</td>\n",
       "      <td>fDF_o2JPU8BR1Gya--jRIA</td>\n",
       "      <td>5</td>\n",
       "      <td>2016-04-06</td>\n",
       "      <td>Love this place!\\n\\nPeggy is great with dogs a...</td>\n",
       "      <td>3</td>\n",
       "      <td>0</td>\n",
       "      <td>0</td>\n",
       "    </tr>\n",
       "    <tr>\n",
       "      <th>10</th>\n",
       "      <td>PIsUSmvaUWB00qv5KTF1xA</td>\n",
       "      <td>u0LXt3Uea_GidxRW1xcsfg</td>\n",
       "      <td>z8oIoCT1cXz7gZP5GeU5OA</td>\n",
       "      <td>4</td>\n",
       "      <td>2013-05-01</td>\n",
       "      <td>This is currently my parents new favourite res...</td>\n",
       "      <td>1</td>\n",
       "      <td>0</td>\n",
       "      <td>0</td>\n",
       "    </tr>\n",
       "    <tr>\n",
       "      <th>11</th>\n",
       "      <td>PdZ_uFjbbkjtm3SCY_KrZw</td>\n",
       "      <td>u0LXt3Uea_GidxRW1xcsfg</td>\n",
       "      <td>XWTPNfskXoUL-Lf32wSk0Q</td>\n",
       "      <td>3</td>\n",
       "      <td>2011-09-28</td>\n",
       "      <td>Server was a little rude.\\n\\nOrdered the calam...</td>\n",
       "      <td>5</td>\n",
       "      <td>0</td>\n",
       "      <td>1</td>\n",
       "    </tr>\n",
       "    <tr>\n",
       "      <th>12</th>\n",
       "      <td>x5oV6wm9_Pb1QQ6jkjDjwQ</td>\n",
       "      <td>u0LXt3Uea_GidxRW1xcsfg</td>\n",
       "      <td>13nKUHH-uEUXVZylgxchPA</td>\n",
       "      <td>1</td>\n",
       "      <td>2011-02-16</td>\n",
       "      <td>I thought Tidy's Flowers had a great reputatio...</td>\n",
       "      <td>9</td>\n",
       "      <td>0</td>\n",
       "      <td>1</td>\n",
       "    </tr>\n",
       "    <tr>\n",
       "      <th>13</th>\n",
       "      <td>lsoSqIrrDbQvWpMvsSj2xw</td>\n",
       "      <td>u0LXt3Uea_GidxRW1xcsfg</td>\n",
       "      <td>RtUvSWO_UZ8V3Wpj0n077w</td>\n",
       "      <td>3</td>\n",
       "      <td>2012-12-03</td>\n",
       "      <td>Wanted to check out this place due to all the ...</td>\n",
       "      <td>2</td>\n",
       "      <td>1</td>\n",
       "      <td>1</td>\n",
       "    </tr>\n",
       "    <tr>\n",
       "      <th>14</th>\n",
       "      <td>23eqwlZzCWZkADWfd9atZw</td>\n",
       "      <td>u0LXt3Uea_GidxRW1xcsfg</td>\n",
       "      <td>Aov96CM4FZAXeZvKtsStdA</td>\n",
       "      <td>5</td>\n",
       "      <td>2010-07-16</td>\n",
       "      <td>This place is awesome! Definitely authentic!!!...</td>\n",
       "      <td>2</td>\n",
       "      <td>0</td>\n",
       "      <td>1</td>\n",
       "    </tr>\n",
       "    <tr>\n",
       "      <th>15</th>\n",
       "      <td>FunI9om-aK5oMIIJmhMlZA</td>\n",
       "      <td>u0LXt3Uea_GidxRW1xcsfg</td>\n",
       "      <td>0W4lkclzZThpx3V65bVgig</td>\n",
       "      <td>4</td>\n",
       "      <td>2011-09-28</td>\n",
       "      <td>a must stop when you are in montreal!\\n\\nI was...</td>\n",
       "      <td>0</td>\n",
       "      <td>0</td>\n",
       "      <td>0</td>\n",
       "    </tr>\n",
       "    <tr>\n",
       "      <th>16</th>\n",
       "      <td>FKu4iU62EmWT6GZXPJ2sgA</td>\n",
       "      <td>u0LXt3Uea_GidxRW1xcsfg</td>\n",
       "      <td>fdnNZMk1NP7ZhL-YMidMpw</td>\n",
       "      <td>1</td>\n",
       "      <td>2012-10-23</td>\n",
       "      <td>I too have been trying to book an appt to use ...</td>\n",
       "      <td>0</td>\n",
       "      <td>0</td>\n",
       "      <td>0</td>\n",
       "    </tr>\n",
       "    <tr>\n",
       "      <th>17</th>\n",
       "      <td>xdu8nXrbNKeaywCX79KZSw</td>\n",
       "      <td>u0LXt3Uea_GidxRW1xcsfg</td>\n",
       "      <td>PFPUMF38-lraKzLcTiz5gQ</td>\n",
       "      <td>3</td>\n",
       "      <td>2010-09-15</td>\n",
       "      <td>Came here with my girlfriends one Sunday after...</td>\n",
       "      <td>2</td>\n",
       "      <td>0</td>\n",
       "      <td>0</td>\n",
       "    </tr>\n",
       "    <tr>\n",
       "      <th>18</th>\n",
       "      <td>K7o5jDInfmX3cY5oH6ATNw</td>\n",
       "      <td>u0LXt3Uea_GidxRW1xcsfg</td>\n",
       "      <td>oWTn2IzrprsRkPfULtjZtQ</td>\n",
       "      <td>3</td>\n",
       "      <td>2012-09-23</td>\n",
       "      <td>Came here for a burger as one of my friends sa...</td>\n",
       "      <td>4</td>\n",
       "      <td>0</td>\n",
       "      <td>0</td>\n",
       "    </tr>\n",
       "    <tr>\n",
       "      <th>19</th>\n",
       "      <td>WYDFJOBOl7cycd7gN-c_xA</td>\n",
       "      <td>u0LXt3Uea_GidxRW1xcsfg</td>\n",
       "      <td>zgQHtqX0gqMw1nlBZl2VnQ</td>\n",
       "      <td>1</td>\n",
       "      <td>2012-10-30</td>\n",
       "      <td>really excited to hear of this restaurant comi...</td>\n",
       "      <td>9</td>\n",
       "      <td>2</td>\n",
       "      <td>1</td>\n",
       "    </tr>\n",
       "  </tbody>\n",
       "</table>\n",
       "</div>"
      ],
      "text/plain": [
       "                 review_id                 user_id             business_id  \\\n",
       "0   vkVSCC7xljjrAI4UGfnKEQ  bv2nCi5Qv5vroFiqKGopiw  AEx2SYEUJmTxVVB18LlCwA   \n",
       "1   n6QzIUObkYshz4dz2QRJTw  bv2nCi5Qv5vroFiqKGopiw  VR6GpWIda3SfvPC-lg9H3w   \n",
       "2   MV3CcKScW05u5LVfF6ok0g  bv2nCi5Qv5vroFiqKGopiw  CKC0-MOWMqoeWf6s-szl8g   \n",
       "3   IXvOzsEMYtiJI0CARmj77Q  bv2nCi5Qv5vroFiqKGopiw  ACFtxLv8pGrrxMm6EgjreA   \n",
       "4   L_9BTb55X0GDtThi6GlZ6w  bv2nCi5Qv5vroFiqKGopiw  s2I_Ni76bjJNK9yG60iD-Q   \n",
       "5   HRPm3vEZ_F-33TYVT7Pebw  _4iMDXbXZ1p1ONG297YEAQ  8QWPlVQ6D-OExqXoaD2Z1g   \n",
       "6   ymAUG8DZfQcFTBSOiaNN4w  u0LXt3Uea_GidxRW1xcsfg  9_CGhHMz8698M9-PkVf0CQ   \n",
       "7   8UIishPUD92hXtScSga_gw  u0LXt3Uea_GidxRW1xcsfg  gkCorLgPyQLsptTHalL61g   \n",
       "8   w41ZS9shepfO3uEyhXEWuQ  u0LXt3Uea_GidxRW1xcsfg  5r6-G9C4YLbC7Ziz57l3rQ   \n",
       "9   WF_QTN3p-thD74hqpp2j-Q  u0LXt3Uea_GidxRW1xcsfg  fDF_o2JPU8BR1Gya--jRIA   \n",
       "10  PIsUSmvaUWB00qv5KTF1xA  u0LXt3Uea_GidxRW1xcsfg  z8oIoCT1cXz7gZP5GeU5OA   \n",
       "11  PdZ_uFjbbkjtm3SCY_KrZw  u0LXt3Uea_GidxRW1xcsfg  XWTPNfskXoUL-Lf32wSk0Q   \n",
       "12  x5oV6wm9_Pb1QQ6jkjDjwQ  u0LXt3Uea_GidxRW1xcsfg  13nKUHH-uEUXVZylgxchPA   \n",
       "13  lsoSqIrrDbQvWpMvsSj2xw  u0LXt3Uea_GidxRW1xcsfg  RtUvSWO_UZ8V3Wpj0n077w   \n",
       "14  23eqwlZzCWZkADWfd9atZw  u0LXt3Uea_GidxRW1xcsfg  Aov96CM4FZAXeZvKtsStdA   \n",
       "15  FunI9om-aK5oMIIJmhMlZA  u0LXt3Uea_GidxRW1xcsfg  0W4lkclzZThpx3V65bVgig   \n",
       "16  FKu4iU62EmWT6GZXPJ2sgA  u0LXt3Uea_GidxRW1xcsfg  fdnNZMk1NP7ZhL-YMidMpw   \n",
       "17  xdu8nXrbNKeaywCX79KZSw  u0LXt3Uea_GidxRW1xcsfg  PFPUMF38-lraKzLcTiz5gQ   \n",
       "18  K7o5jDInfmX3cY5oH6ATNw  u0LXt3Uea_GidxRW1xcsfg  oWTn2IzrprsRkPfULtjZtQ   \n",
       "19  WYDFJOBOl7cycd7gN-c_xA  u0LXt3Uea_GidxRW1xcsfg  zgQHtqX0gqMw1nlBZl2VnQ   \n",
       "\n",
       "    stars        date                                               text  \\\n",
       "0       5  2016-05-28  Super simple place but amazing nonetheless. It...   \n",
       "1       5  2016-05-28  Small unassuming place that changes their menu...   \n",
       "2       5  2016-05-28  Lester's is located in a beautiful neighborhoo...   \n",
       "3       4  2016-05-28  Love coming here. Yes the place always needs t...   \n",
       "4       4  2016-05-28  Had their chocolate almond croissant and it wa...   \n",
       "5       5  2014-09-24  Cycle Pub Las Vegas was a blast! Got a groupon...   \n",
       "6       4  2012-05-11  Who would have guess that you would be able to...   \n",
       "7       4  2015-10-27  Always drove past this coffee house and wonder...   \n",
       "8       3  2013-02-09  Not bad!! Love that there is a gluten-free, ve...   \n",
       "9       5  2016-04-06  Love this place!\\n\\nPeggy is great with dogs a...   \n",
       "10      4  2013-05-01  This is currently my parents new favourite res...   \n",
       "11      3  2011-09-28  Server was a little rude.\\n\\nOrdered the calam...   \n",
       "12      1  2011-02-16  I thought Tidy's Flowers had a great reputatio...   \n",
       "13      3  2012-12-03  Wanted to check out this place due to all the ...   \n",
       "14      5  2010-07-16  This place is awesome! Definitely authentic!!!...   \n",
       "15      4  2011-09-28  a must stop when you are in montreal!\\n\\nI was...   \n",
       "16      1  2012-10-23  I too have been trying to book an appt to use ...   \n",
       "17      3  2010-09-15  Came here with my girlfriends one Sunday after...   \n",
       "18      3  2012-09-23  Came here for a burger as one of my friends sa...   \n",
       "19      1  2012-10-30  really excited to hear of this restaurant comi...   \n",
       "\n",
       "    useful  funny  cool  \n",
       "0        0      0     0  \n",
       "1        0      0     0  \n",
       "2        0      0     0  \n",
       "3        0      0     0  \n",
       "4        0      0     0  \n",
       "5        1      0     0  \n",
       "6        0      0     2  \n",
       "7        1      0     0  \n",
       "8        1      0     0  \n",
       "9        3      0     0  \n",
       "10       1      0     0  \n",
       "11       5      0     1  \n",
       "12       9      0     1  \n",
       "13       2      1     1  \n",
       "14       2      0     1  \n",
       "15       0      0     0  \n",
       "16       0      0     0  \n",
       "17       2      0     0  \n",
       "18       4      0     0  \n",
       "19       9      2     1  "
      ]
     },
     "execution_count": 15,
     "metadata": {},
     "output_type": "execute_result"
    }
   ],
   "source": [
    "reviews.head(20)"
   ]
  },
  {
   "cell_type": "code",
   "execution_count": 25,
   "metadata": {},
   "outputs": [
    {
     "data": {
      "text/plain": [
       "1326101"
      ]
     },
     "execution_count": 25,
     "metadata": {},
     "output_type": "execute_result"
    }
   ],
   "source": [
    "len(reviews[\"user_id\"].unique())"
   ]
  },
  {
   "cell_type": "code",
   "execution_count": 16,
   "metadata": {},
   "outputs": [
    {
     "data": {
      "text/plain": [
       "\"Super simple place but amazing nonetheless. It's been around since the 30's and they still serve the same thing they started with: a bologna and salami sandwich with mustard. \\n\\nStaff was very helpful and friendly.\""
      ]
     },
     "execution_count": 16,
     "metadata": {},
     "output_type": "execute_result"
    }
   ],
   "source": [
    "reviews[\"text\"][0]"
   ]
  },
  {
   "cell_type": "code",
   "execution_count": 10,
   "metadata": {},
   "outputs": [
    {
     "data": {
      "image/png": "[encoded data removed]",
      "text/plain": [
       "<matplotlib.figure.Figure at 0x7fc81ddb64e0>"
      ]
     },
     "metadata": {},
     "output_type": "display_data"
    }
   ],
   "source": [
    "sns.set(style=\"darkgrid\")\n",
    "ax = sns.countplot(x=\"stars\", data=reviews_trimmed)"
   ]
  },
  {
   "cell_type": "code",
   "execution_count": 11,
   "metadata": {},
   "outputs": [
    {
     "data": {
      "image/png": "[encoded data removed]",
      "text/plain": [
       "<matplotlib.figure.Figure at 0x7fc81d5b0438>"
      ]
     },
     "metadata": {},
     "output_type": "display_data"
    }
   ],
   "source": [
    "fig, axs = plt.subplots(ncols=3)\n",
    "sns.countplot(x=\"useful\", data=reviews_trimmed, ax=axs[0])\n",
    "sns.countplot(x=\"cool\", data=reviews_trimmed, ax=axs[1])\n",
    "sns.countplot(x=\"funny\", data=reviews_trimmed, ax=axs[2])\n",
    "fig.tight_layout();"
   ]
  },
  {
   "cell_type": "code",
   "execution_count": 12,
   "metadata": {},
   "outputs": [
    {
     "data": {
      "image/png": "[encoded data removed]",
      "text/plain": [
       "<matplotlib.figure.Figure at 0x7fc7d72c3c88>"
      ]
     },
     "metadata": {},
     "output_type": "display_data"
    }
   ],
   "source": [
    "ax = sns.countplot(x=\"useful\", data=reviews_trimmed)"
   ]
  },
  {
   "cell_type": "code",
   "execution_count": 13,
   "metadata": {},
   "outputs": [
    {
     "data": {
      "image/png": "[encoded data removed]",
      "text/plain": [
       "<matplotlib.figure.Figure at 0x7fc81d358cc0>"
      ]
     },
     "metadata": {},
     "output_type": "display_data"
    }
   ],
   "source": [
    "ax = sns.countplot(x=\"cool\", data=reviews_trimmed)"
   ]
  },
  {
   "cell_type": "code",
   "execution_count": 14,
   "metadata": {},
   "outputs": [
    {
     "data": {
      "image/png": "[encoded data removed]",
      "text/plain": [
       "<matplotlib.figure.Figure at 0x7fc81d21f278>"
      ]
     },
     "metadata": {},
     "output_type": "display_data"
    }
   ],
   "source": [
    "ax = sns.countplot(x=\"funny\", data=reviews_trimmed)"
   ]
  },
  {
   "cell_type": "code",
   "execution_count": 33,
   "metadata": {},
   "outputs": [
    {
     "data": {
      "text/plain": [
       "40     2010-03-31\n",
       "164    2011-07-17\n",
       "222    2015-09-26\n",
       "252    2013-04-01\n",
       "187    2014-04-27\n",
       "515    2015-04-11\n",
       "979    2017-11-30\n",
       "955    2011-05-18\n",
       "369    2016-03-12\n",
       "347    2014-05-26\n",
       "1      2016-05-28\n",
       "302    2013-04-01\n",
       "814    2011-01-01\n",
       "942    2011-05-26\n",
       "601    2009-07-17\n",
       "49     2017-01-04\n",
       "291    2017-04-20\n",
       "913    2010-05-03\n",
       "226    2013-02-03\n",
       "135    2014-04-02\n",
       "899    2010-04-17\n",
       "353    2013-01-23\n",
       "403    2016-05-22\n",
       "431    2016-11-26\n",
       "817    2009-09-21\n",
       "63     2016-02-08\n",
       "581    2017-04-20\n",
       "866    2010-04-05\n",
       "674    2015-08-16\n",
       "159    2016-10-23\n",
       "          ...    \n",
       "430    2017-01-27\n",
       "246    2013-04-04\n",
       "0      2016-05-28\n",
       "288    2017-04-20\n",
       "16     2012-10-23\n",
       "544    2007-06-16\n",
       "432    2017-07-14\n",
       "741    2011-05-18\n",
       "747    2012-05-30\n",
       "689    2015-11-08\n",
       "465    2009-06-11\n",
       "62     2016-02-08\n",
       "950    2009-08-03\n",
       "278    2017-04-25\n",
       "795    2010-05-03\n",
       "761    2009-08-24\n",
       "297    2013-01-22\n",
       "336    2017-02-16\n",
       "799    2009-10-12\n",
       "321    2014-04-26\n",
       "652    2015-07-09\n",
       "243    2014-04-25\n",
       "550    2008-01-28\n",
       "152    2016-12-18\n",
       "79     2012-12-18\n",
       "562    2007-09-12\n",
       "272    2017-03-29\n",
       "777    2009-10-07\n",
       "46     2014-08-21\n",
       "703    2015-10-01\n",
       "Name: date, Length: 1000, dtype: object"
      ]
     },
     "execution_count": 33,
     "metadata": {},
     "output_type": "execute_result"
    }
   ],
   "source": [
    "reviews_trimmed[\"date\"]"
   ]
  },
  {
   "cell_type": "markdown",
   "metadata": {},
   "source": [
    "Interesting.. We need to double check exactly over what course of time our data spans. "
   ]
  },
  {
   "cell_type": "code",
   "execution_count": 34,
   "metadata": {},
   "outputs": [],
   "source": [
    "# converting date column to datetime \n",
    "import datetime\n",
    "reviews_trimmed[\"date\"] = pd.to_datetime(reviews_trimmed[\"date\"])"
   ]
  },
  {
   "cell_type": "markdown",
   "metadata": {},
   "source": [
    "## Exploratory NLP"
   ]
  },
  {
   "cell_type": "code",
   "execution_count": 37,
   "metadata": {},
   "outputs": [
    {
     "data": {
      "text/plain": [
       "\"Super simple place but amazing nonetheless. It's been around since the 30's and they still serve the same thing they started with: a bologna and salami sandwich with mustard. \\n\\nStaff was very helpful and friendly.\""
      ]
     },
     "execution_count": 37,
     "metadata": {},
     "output_type": "execute_result"
    }
   ],
   "source": [
    "reviews_trimmed[\"text\"][0]"
   ]
  },
  {
   "cell_type": "code",
   "execution_count": 38,
   "metadata": {},
   "outputs": [
    {
     "data": {
      "text/plain": [
       "4    0.332\n",
       "3    0.259\n",
       "5    0.229\n",
       "2    0.111\n",
       "1    0.069\n",
       "Name: stars, dtype: float64"
      ]
     },
     "execution_count": 38,
     "metadata": {},
     "output_type": "execute_result"
    }
   ],
   "source": [
    "# baseline\n",
    "target = pd.Series(reviews_trimmed[\"stars\"])\n",
    "target.value_counts()/len(target)"
   ]
  },
  {
   "cell_type": "code",
   "execution_count": 39,
   "metadata": {},
   "outputs": [],
   "source": [
    "# NLP Using a count vectorizer.  \n",
    "from sklearn.feature_extraction.text import CountVectorizer"
   ]
  },
  {
   "cell_type": "code",
   "execution_count": 41,
   "metadata": {},
   "outputs": [
    {
     "data": {
      "text/plain": [
       "CountVectorizer(analyzer='word', binary=False, decode_error='strict',\n",
       "        dtype=<class 'numpy.int64'>, encoding='utf-8', input='content',\n",
       "        lowercase=True, max_df=1.0, max_features=None, min_df=1,\n",
       "        ngram_range=(1, 1), preprocessor=None, stop_words=None,\n",
       "        strip_accents=None, token_pattern='(?u)\\\\b\\\\w\\\\w+\\\\b',\n",
       "        tokenizer=None, vocabulary=None)"
      ]
     },
     "execution_count": 41,
     "metadata": {},
     "output_type": "execute_result"
    }
   ],
   "source": [
    "# Seting up CVEC and fitting \n",
    "cvec = CountVectorizer()\n",
    "cvec.fit(reviews_trimmed[\"text\"]) # we have a bagillion data so not setting up test, this is exploratory"
   ]
  },
  {
   "cell_type": "code",
   "execution_count": 42,
   "metadata": {},
   "outputs": [
    {
     "data": {
      "text/plain": [
       "10406"
      ]
     },
     "execution_count": 42,
     "metadata": {},
     "output_type": "execute_result"
    }
   ],
   "source": [
    "# Lets check the length of our data that is in a vectorized state\n",
    "len(cvec.get_feature_names())"
   ]
  },
  {
   "cell_type": "code",
   "execution_count": 43,
   "metadata": {},
   "outputs": [],
   "source": [
    "# Transforming our x_train data using our fit cvec.\n",
    "# And converting the result to a DataFrame.\n",
    "X_train = pd.DataFrame(cvec.transform(reviews_trimmed['text']).todense(),\n",
    "                       columns=cvec.get_feature_names())"
   ]
  },
  {
   "cell_type": "code",
   "execution_count": 44,
   "metadata": {},
   "outputs": [
    {
     "data": {
      "text/plain": [
       "the     8630\n",
       "and     5592\n",
       "to      4414\n",
       "it      3334\n",
       "was     2897\n",
       "of      2878\n",
       "is      2038\n",
       "in      2034\n",
       "for     1932\n",
       "that    1898\n",
       "you     1641\n",
       "my      1488\n",
       "but     1436\n",
       "with    1404\n",
       "they    1336\n",
       "this    1327\n",
       "on      1285\n",
       "we      1118\n",
       "have    1052\n",
       "not     1032\n",
       "dtype: int64"
      ]
     },
     "execution_count": 44,
     "metadata": {},
     "output_type": "execute_result"
    }
   ],
   "source": [
    "# Which words appear the most?\n",
    "word_counts = X_train.sum(axis=0)\n",
    "word_counts.sort_values(ascending = False).head(20)"
   ]
  },
  {
   "cell_type": "code",
   "execution_count": null,
   "metadata": {},
   "outputs": [],
   "source": [
    "# # Setting y, as we want to predict # of stars\n",
    "# y_train = reviews_trimmed[\"stars\"]"
   ]
  },
  {
   "cell_type": "code",
   "execution_count": null,
   "metadata": {},
   "outputs": [],
   "source": []
  },
  {
   "cell_type": "markdown",
   "metadata": {},
   "source": [
    "## More Robust NLP "
   ]
  },
  {
   "cell_type": "code",
   "execution_count": 53,
   "metadata": {},
   "outputs": [],
   "source": [
    "# NLP imports \n",
    "from nltk.stem.porter import PorterStemmer\n",
    "from nltk.stem import WordNetLemmatizer\n",
    "from nltk.corpus import stopwords\n",
    "from nltk import word_tokenize\n",
    "import re\n",
    "\n",
    "from sklearn.linear_model import LogisticRegression\n",
    "from sklearn.feature_extraction.text import HashingVectorizer, TfidfVectorizer\n",
    "from sklearn.pipeline import make_pipeline\n",
    "from sklearn.metrics import accuracy_score\n",
    "from sklearn.metrics import classification_report"
   ]
  },
  {
   "cell_type": "code",
   "execution_count": 48,
   "metadata": {},
   "outputs": [],
   "source": [
    "# # randomly sampling the data to create test set\n",
    "# chosen_idx = np.random.choice(1000, replace=False, size=1000)\n",
    "# reviews_tr_test = reviews.iloc[chosen_idx]"
   ]
  },
  {
   "cell_type": "code",
   "execution_count": 46,
   "metadata": {},
   "outputs": [],
   "source": [
    "def process_stem(text):\n",
    "    text = text.lower()\n",
    "    text = re.sub(r'[^a-zA-Z]', ' ', text)\n",
    "    tokens = word_tokenize(text)\n",
    "    \n",
    "    p_stemmer = PorterStemmer()\n",
    "    stop_words = stopwords.words(\"english\")\n",
    "    return ' '.join([p_stemmer.stem(word) for word in tokens if not word in stop_words])"
   ]
  },
  {
   "cell_type": "code",
   "execution_count": 47,
   "metadata": {},
   "outputs": [],
   "source": [
    "def process_lem(text):\n",
    "    text = text.lower()\n",
    "    text = re.sub(r'[^a-zA-Z]', ' ', text)\n",
    "    tokens = word_tokenize(text)\n",
    "    \n",
    "    lemmer = WordNetLemmatizer()\n",
    "    stop_words = stopwords.words(\"english\")\n",
    "    return ' '.join([lemmer.lemmatize(word) for word in tokens if not word in stop_words])"
   ]
  },
  {
   "cell_type": "code",
   "execution_count": 49,
   "metadata": {},
   "outputs": [],
   "source": [
    "data_train_proc = [process_stem(text) for text in reviews_trimmed['text']]\n",
    "data_test_proc = [process_stem(text) for text in reviews_tr_test['text']]"
   ]
  },
  {
   "cell_type": "code",
   "execution_count": null,
   "metadata": {},
   "outputs": [],
   "source": []
  },
  {
   "cell_type": "code",
   "execution_count": null,
   "metadata": {},
   "outputs": [],
   "source": []
  }
 ],
 "metadata": {
  "kernelspec": {
   "display_name": "Python [default]",
   "language": "python",
   "name": "python3"
  },
  "language_info": {
   "codemirror_mode": {
    "name": "ipython",
    "version": 3
   },
   "file_extension": ".py",
   "mimetype": "text/x-python",
   "name": "python",
   "nbconvert_exporter": "python",
   "pygments_lexer": "ipython3",
   "version": "3.6.4"
  }
 },
 "nbformat": 4,
 "nbformat_minor": 2
}
