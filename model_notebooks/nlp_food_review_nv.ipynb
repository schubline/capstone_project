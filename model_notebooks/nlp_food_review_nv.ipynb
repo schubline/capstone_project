{
 "cells": [
  {
   "cell_type": "markdown",
   "metadata": {},
   "source": [
    "# NLP on Nevada Food Reviews"
   ]
  },
  {
   "cell_type": "markdown",
   "metadata": {},
   "source": [
    "The goal of this notebook is to do some rudimentary NLP on Reviews on South Carolina"
   ]
  },
  {
   "cell_type": "code",
   "execution_count": 1,
   "metadata": {},
   "outputs": [],
   "source": [
    "import pandas as pd \n",
    "import numpy as np\n",
    "import matplotlib.pyplot as plt \n",
    "import seaborn as sns\n",
    "import spacy\n",
    "import itertools as it\n",
    "%matplotlib inline \n",
    "import warnings\n",
    "warnings.simplefilter(action='ignore')\n",
    "\n",
    "# NLP imports \n",
    "from sklearn.feature_extraction.text import CountVectorizer, HashingVectorizer, TfidfVectorizer\n",
    "from sklearn.feature_extraction import stop_words\n",
    "from sklearn.model_selection import train_test_split\n",
    "from sklearn.linear_model import LogisticRegression\n",
    "from nltk.tokenize import RegexpTokenizer\n",
    "from nltk.corpus import stopwords\n",
    "from nltk.stem.snowball import SnowballStemmer\n",
    "from gensim import models, corpora\n",
    "from nltk.sentiment.vader import SentimentIntensityAnalyzer\n",
    "from langdetect import detect\n",
    "from collections import Counter\n",
    "from langdetect import detect\n",
    "from collections import Counter\n",
    "from textblob import TextBlob\n",
    "import pyLDAvis.gensim"
   ]
  },
  {
   "cell_type": "code",
   "execution_count": 2,
   "metadata": {},
   "outputs": [],
   "source": [
    "import matplotlib.patches as mpatches\n",
    "import pyLDAvis.gensim\n",
    "pyLDAvis.enable_notebook() # in order for our visual to show up"
   ]
  },
  {
   "cell_type": "markdown",
   "metadata": {},
   "source": [
    "## Inspecting the Data"
   ]
  },
  {
   "cell_type": "code",
   "execution_count": 4,
   "metadata": {},
   "outputs": [],
   "source": [
    "data = pd.read_csv(\"/home/schubert/DSI/capstone_project/data/food_reviews_nv\")"
   ]
  },
  {
   "cell_type": "code",
   "execution_count": 5,
   "metadata": {
    "scrolled": true
   },
   "outputs": [
    {
     "data": {
      "text/html": [
       "<div>\n",
       "<style scoped>\n",
       "    .dataframe tbody tr th:only-of-type {\n",
       "        vertical-align: middle;\n",
       "    }\n",
       "\n",
       "    .dataframe tbody tr th {\n",
       "        vertical-align: top;\n",
       "    }\n",
       "\n",
       "    .dataframe thead th {\n",
       "        text-align: right;\n",
       "    }\n",
       "</style>\n",
       "<table border=\"1\" class=\"dataframe\">\n",
       "  <thead>\n",
       "    <tr style=\"text-align: right;\">\n",
       "      <th></th>\n",
       "      <th>business_id</th>\n",
       "      <th>review_id</th>\n",
       "      <th>user_id</th>\n",
       "      <th>stars</th>\n",
       "      <th>date</th>\n",
       "      <th>text</th>\n",
       "      <th>useful</th>\n",
       "      <th>funny</th>\n",
       "      <th>cool</th>\n",
       "      <th>name</th>\n",
       "      <th>...</th>\n",
       "      <th>address</th>\n",
       "      <th>city</th>\n",
       "      <th>state</th>\n",
       "      <th>postal_code</th>\n",
       "      <th>latitude</th>\n",
       "      <th>longitude</th>\n",
       "      <th>review_count</th>\n",
       "      <th>is_open</th>\n",
       "      <th>categories</th>\n",
       "      <th>avg_stars</th>\n",
       "    </tr>\n",
       "  </thead>\n",
       "  <tbody>\n",
       "    <tr>\n",
       "      <th>0</th>\n",
       "      <td>--9e1ONYQuAa-CB_Rrw7Tw</td>\n",
       "      <td>KEAHrqN-1DV0gmuNHM6Eww</td>\n",
       "      <td>xP1IYu2eGfxMWV9tjrurIw</td>\n",
       "      <td>5</td>\n",
       "      <td>2011-08-24</td>\n",
       "      <td>As part of a birthday celebration weekend for ...</td>\n",
       "      <td>1</td>\n",
       "      <td>0</td>\n",
       "      <td>0</td>\n",
       "      <td>\"Delmonico Steakhouse\"</td>\n",
       "      <td>...</td>\n",
       "      <td>\"3355 Las Vegas Blvd S\"</td>\n",
       "      <td>Las Vegas</td>\n",
       "      <td>NV</td>\n",
       "      <td>89109</td>\n",
       "      <td>36.123183</td>\n",
       "      <td>-115.16919</td>\n",
       "      <td>1451.0</td>\n",
       "      <td>1.0</td>\n",
       "      <td>Cajun/Creole;Steakhouses;Restaurants</td>\n",
       "      <td>4.0</td>\n",
       "    </tr>\n",
       "    <tr>\n",
       "      <th>1</th>\n",
       "      <td>--9e1ONYQuAa-CB_Rrw7Tw</td>\n",
       "      <td>6SgvNWJltnZhW7duJgZ42w</td>\n",
       "      <td>oFyOUOeGTRZhFPF9uTqrTQ</td>\n",
       "      <td>5</td>\n",
       "      <td>2016-03-31</td>\n",
       "      <td>This is mine and my fiancé's favorite steakhou...</td>\n",
       "      <td>0</td>\n",
       "      <td>0</td>\n",
       "      <td>0</td>\n",
       "      <td>\"Delmonico Steakhouse\"</td>\n",
       "      <td>...</td>\n",
       "      <td>\"3355 Las Vegas Blvd S\"</td>\n",
       "      <td>Las Vegas</td>\n",
       "      <td>NV</td>\n",
       "      <td>89109</td>\n",
       "      <td>36.123183</td>\n",
       "      <td>-115.16919</td>\n",
       "      <td>1451.0</td>\n",
       "      <td>1.0</td>\n",
       "      <td>Cajun/Creole;Steakhouses;Restaurants</td>\n",
       "      <td>4.0</td>\n",
       "    </tr>\n",
       "    <tr>\n",
       "      <th>2</th>\n",
       "      <td>--9e1ONYQuAa-CB_Rrw7Tw</td>\n",
       "      <td>iwx6s6yQxc7yjS7NFANZig</td>\n",
       "      <td>2aeNFntqY2QDZLADNo8iQQ</td>\n",
       "      <td>4</td>\n",
       "      <td>2015-06-29</td>\n",
       "      <td>Nice atmosphere and wonderful service. I had t...</td>\n",
       "      <td>0</td>\n",
       "      <td>0</td>\n",
       "      <td>0</td>\n",
       "      <td>\"Delmonico Steakhouse\"</td>\n",
       "      <td>...</td>\n",
       "      <td>\"3355 Las Vegas Blvd S\"</td>\n",
       "      <td>Las Vegas</td>\n",
       "      <td>NV</td>\n",
       "      <td>89109</td>\n",
       "      <td>36.123183</td>\n",
       "      <td>-115.16919</td>\n",
       "      <td>1451.0</td>\n",
       "      <td>1.0</td>\n",
       "      <td>Cajun/Creole;Steakhouses;Restaurants</td>\n",
       "      <td>4.0</td>\n",
       "    </tr>\n",
       "    <tr>\n",
       "      <th>3</th>\n",
       "      <td>--9e1ONYQuAa-CB_Rrw7Tw</td>\n",
       "      <td>UVUMu_bELdA56Ryfbur-DA</td>\n",
       "      <td>gmPP4YFrgYsYQqPYokMgFA</td>\n",
       "      <td>5</td>\n",
       "      <td>2015-03-16</td>\n",
       "      <td>Every year a group of us (we had 6 this year) ...</td>\n",
       "      <td>1</td>\n",
       "      <td>0</td>\n",
       "      <td>0</td>\n",
       "      <td>\"Delmonico Steakhouse\"</td>\n",
       "      <td>...</td>\n",
       "      <td>\"3355 Las Vegas Blvd S\"</td>\n",
       "      <td>Las Vegas</td>\n",
       "      <td>NV</td>\n",
       "      <td>89109</td>\n",
       "      <td>36.123183</td>\n",
       "      <td>-115.16919</td>\n",
       "      <td>1451.0</td>\n",
       "      <td>1.0</td>\n",
       "      <td>Cajun/Creole;Steakhouses;Restaurants</td>\n",
       "      <td>4.0</td>\n",
       "    </tr>\n",
       "    <tr>\n",
       "      <th>4</th>\n",
       "      <td>--9e1ONYQuAa-CB_Rrw7Tw</td>\n",
       "      <td>Jjz9W-wBkoBoMcB8ZQs5zQ</td>\n",
       "      <td>9bxdPvAhP6cuipD5s2UnCg</td>\n",
       "      <td>5</td>\n",
       "      <td>2011-12-20</td>\n",
       "      <td>We had early reservations for a party of 9 for...</td>\n",
       "      <td>9</td>\n",
       "      <td>7</td>\n",
       "      <td>8</td>\n",
       "      <td>\"Delmonico Steakhouse\"</td>\n",
       "      <td>...</td>\n",
       "      <td>\"3355 Las Vegas Blvd S\"</td>\n",
       "      <td>Las Vegas</td>\n",
       "      <td>NV</td>\n",
       "      <td>89109</td>\n",
       "      <td>36.123183</td>\n",
       "      <td>-115.16919</td>\n",
       "      <td>1451.0</td>\n",
       "      <td>1.0</td>\n",
       "      <td>Cajun/Creole;Steakhouses;Restaurants</td>\n",
       "      <td>4.0</td>\n",
       "    </tr>\n",
       "    <tr>\n",
       "      <th>5</th>\n",
       "      <td>--9e1ONYQuAa-CB_Rrw7Tw</td>\n",
       "      <td>UxFpgng8dPMWOj99653k5Q</td>\n",
       "      <td>aVOGlN9fZ-BXcbtj6dbf0g</td>\n",
       "      <td>5</td>\n",
       "      <td>2016-02-10</td>\n",
       "      <td>Truly Fantastic!  Best Steak ever. Service was...</td>\n",
       "      <td>0</td>\n",
       "      <td>0</td>\n",
       "      <td>0</td>\n",
       "      <td>\"Delmonico Steakhouse\"</td>\n",
       "      <td>...</td>\n",
       "      <td>\"3355 Las Vegas Blvd S\"</td>\n",
       "      <td>Las Vegas</td>\n",
       "      <td>NV</td>\n",
       "      <td>89109</td>\n",
       "      <td>36.123183</td>\n",
       "      <td>-115.16919</td>\n",
       "      <td>1451.0</td>\n",
       "      <td>1.0</td>\n",
       "      <td>Cajun/Creole;Steakhouses;Restaurants</td>\n",
       "      <td>4.0</td>\n",
       "    </tr>\n",
       "    <tr>\n",
       "      <th>6</th>\n",
       "      <td>--9e1ONYQuAa-CB_Rrw7Tw</td>\n",
       "      <td>Xp3ppynEvVu1KxDHQ3ae8w</td>\n",
       "      <td>KC8H7qTZVPIEnanw9fG43g</td>\n",
       "      <td>5</td>\n",
       "      <td>2017-02-14</td>\n",
       "      <td>Delmonico Steakhouse is a steakhouse owned by ...</td>\n",
       "      <td>0</td>\n",
       "      <td>0</td>\n",
       "      <td>0</td>\n",
       "      <td>\"Delmonico Steakhouse\"</td>\n",
       "      <td>...</td>\n",
       "      <td>\"3355 Las Vegas Blvd S\"</td>\n",
       "      <td>Las Vegas</td>\n",
       "      <td>NV</td>\n",
       "      <td>89109</td>\n",
       "      <td>36.123183</td>\n",
       "      <td>-115.16919</td>\n",
       "      <td>1451.0</td>\n",
       "      <td>1.0</td>\n",
       "      <td>Cajun/Creole;Steakhouses;Restaurants</td>\n",
       "      <td>4.0</td>\n",
       "    </tr>\n",
       "    <tr>\n",
       "      <th>7</th>\n",
       "      <td>--9e1ONYQuAa-CB_Rrw7Tw</td>\n",
       "      <td>A5PsAqQYUR03DpV-30wKAA</td>\n",
       "      <td>3gEk6-HQ7DxjY99zypqa8w</td>\n",
       "      <td>4</td>\n",
       "      <td>2013-01-16</td>\n",
       "      <td>Its a fancy steakhouse in Vegas.  Sure it was ...</td>\n",
       "      <td>0</td>\n",
       "      <td>0</td>\n",
       "      <td>0</td>\n",
       "      <td>\"Delmonico Steakhouse\"</td>\n",
       "      <td>...</td>\n",
       "      <td>\"3355 Las Vegas Blvd S\"</td>\n",
       "      <td>Las Vegas</td>\n",
       "      <td>NV</td>\n",
       "      <td>89109</td>\n",
       "      <td>36.123183</td>\n",
       "      <td>-115.16919</td>\n",
       "      <td>1451.0</td>\n",
       "      <td>1.0</td>\n",
       "      <td>Cajun/Creole;Steakhouses;Restaurants</td>\n",
       "      <td>4.0</td>\n",
       "    </tr>\n",
       "    <tr>\n",
       "      <th>8</th>\n",
       "      <td>--9e1ONYQuAa-CB_Rrw7Tw</td>\n",
       "      <td>ICnIa2QhiQrGo2HVATQZDQ</td>\n",
       "      <td>HmN7p502YMJGkBNv5bzi1w</td>\n",
       "      <td>5</td>\n",
       "      <td>2011-09-03</td>\n",
       "      <td>This is what every restaurant aspires to be......</td>\n",
       "      <td>0</td>\n",
       "      <td>0</td>\n",
       "      <td>0</td>\n",
       "      <td>\"Delmonico Steakhouse\"</td>\n",
       "      <td>...</td>\n",
       "      <td>\"3355 Las Vegas Blvd S\"</td>\n",
       "      <td>Las Vegas</td>\n",
       "      <td>NV</td>\n",
       "      <td>89109</td>\n",
       "      <td>36.123183</td>\n",
       "      <td>-115.16919</td>\n",
       "      <td>1451.0</td>\n",
       "      <td>1.0</td>\n",
       "      <td>Cajun/Creole;Steakhouses;Restaurants</td>\n",
       "      <td>4.0</td>\n",
       "    </tr>\n",
       "    <tr>\n",
       "      <th>9</th>\n",
       "      <td>--9e1ONYQuAa-CB_Rrw7Tw</td>\n",
       "      <td>LEzphAnz0vKE32PUCbjLgQ</td>\n",
       "      <td>3RTesI_MAwct13LWm4rhLw</td>\n",
       "      <td>4</td>\n",
       "      <td>2017-05-28</td>\n",
       "      <td>One of the top steak places I've had in Vegas ...</td>\n",
       "      <td>2</td>\n",
       "      <td>0</td>\n",
       "      <td>1</td>\n",
       "      <td>\"Delmonico Steakhouse\"</td>\n",
       "      <td>...</td>\n",
       "      <td>\"3355 Las Vegas Blvd S\"</td>\n",
       "      <td>Las Vegas</td>\n",
       "      <td>NV</td>\n",
       "      <td>89109</td>\n",
       "      <td>36.123183</td>\n",
       "      <td>-115.16919</td>\n",
       "      <td>1451.0</td>\n",
       "      <td>1.0</td>\n",
       "      <td>Cajun/Creole;Steakhouses;Restaurants</td>\n",
       "      <td>4.0</td>\n",
       "    </tr>\n",
       "    <tr>\n",
       "      <th>10</th>\n",
       "      <td>--9e1ONYQuAa-CB_Rrw7Tw</td>\n",
       "      <td>1BQa5nKXLB3NnrVmGsXH6A</td>\n",
       "      <td>4PIcs3X-Ro_KoczDJ3y4ZQ</td>\n",
       "      <td>5</td>\n",
       "      <td>2010-02-20</td>\n",
       "      <td>if you're looking for a fancy steakhouse in ve...</td>\n",
       "      <td>6</td>\n",
       "      <td>5</td>\n",
       "      <td>2</td>\n",
       "      <td>\"Delmonico Steakhouse\"</td>\n",
       "      <td>...</td>\n",
       "      <td>\"3355 Las Vegas Blvd S\"</td>\n",
       "      <td>Las Vegas</td>\n",
       "      <td>NV</td>\n",
       "      <td>89109</td>\n",
       "      <td>36.123183</td>\n",
       "      <td>-115.16919</td>\n",
       "      <td>1451.0</td>\n",
       "      <td>1.0</td>\n",
       "      <td>Cajun/Creole;Steakhouses;Restaurants</td>\n",
       "      <td>4.0</td>\n",
       "    </tr>\n",
       "    <tr>\n",
       "      <th>11</th>\n",
       "      <td>--9e1ONYQuAa-CB_Rrw7Tw</td>\n",
       "      <td>4e-cxYVdlIu2ZDxVJqUfOQ</td>\n",
       "      <td>EAOt1UQhJD0GG3l_jv7rWA</td>\n",
       "      <td>5</td>\n",
       "      <td>2017-08-25</td>\n",
       "      <td>This place is superb from the customer service...</td>\n",
       "      <td>0</td>\n",
       "      <td>0</td>\n",
       "      <td>0</td>\n",
       "      <td>\"Delmonico Steakhouse\"</td>\n",
       "      <td>...</td>\n",
       "      <td>\"3355 Las Vegas Blvd S\"</td>\n",
       "      <td>Las Vegas</td>\n",
       "      <td>NV</td>\n",
       "      <td>89109</td>\n",
       "      <td>36.123183</td>\n",
       "      <td>-115.16919</td>\n",
       "      <td>1451.0</td>\n",
       "      <td>1.0</td>\n",
       "      <td>Cajun/Creole;Steakhouses;Restaurants</td>\n",
       "      <td>4.0</td>\n",
       "    </tr>\n",
       "    <tr>\n",
       "      <th>12</th>\n",
       "      <td>--9e1ONYQuAa-CB_Rrw7Tw</td>\n",
       "      <td>GN7KnAaxJDrYgfJzgsvmkA</td>\n",
       "      <td>C6kw0Rny7jZAGjTj0MWA3Q</td>\n",
       "      <td>5</td>\n",
       "      <td>2016-07-13</td>\n",
       "      <td>We decided to give Delmonico's a try because w...</td>\n",
       "      <td>0</td>\n",
       "      <td>0</td>\n",
       "      <td>0</td>\n",
       "      <td>\"Delmonico Steakhouse\"</td>\n",
       "      <td>...</td>\n",
       "      <td>\"3355 Las Vegas Blvd S\"</td>\n",
       "      <td>Las Vegas</td>\n",
       "      <td>NV</td>\n",
       "      <td>89109</td>\n",
       "      <td>36.123183</td>\n",
       "      <td>-115.16919</td>\n",
       "      <td>1451.0</td>\n",
       "      <td>1.0</td>\n",
       "      <td>Cajun/Creole;Steakhouses;Restaurants</td>\n",
       "      <td>4.0</td>\n",
       "    </tr>\n",
       "    <tr>\n",
       "      <th>13</th>\n",
       "      <td>--9e1ONYQuAa-CB_Rrw7Tw</td>\n",
       "      <td>-CKRAQEMJGP6nj9SOwossw</td>\n",
       "      <td>TVMmYI09y8-zJKiDfHEbSQ</td>\n",
       "      <td>4</td>\n",
       "      <td>2008-12-19</td>\n",
       "      <td>So I was in town again and felt like having st...</td>\n",
       "      <td>0</td>\n",
       "      <td>0</td>\n",
       "      <td>0</td>\n",
       "      <td>\"Delmonico Steakhouse\"</td>\n",
       "      <td>...</td>\n",
       "      <td>\"3355 Las Vegas Blvd S\"</td>\n",
       "      <td>Las Vegas</td>\n",
       "      <td>NV</td>\n",
       "      <td>89109</td>\n",
       "      <td>36.123183</td>\n",
       "      <td>-115.16919</td>\n",
       "      <td>1451.0</td>\n",
       "      <td>1.0</td>\n",
       "      <td>Cajun/Creole;Steakhouses;Restaurants</td>\n",
       "      <td>4.0</td>\n",
       "    </tr>\n",
       "    <tr>\n",
       "      <th>14</th>\n",
       "      <td>--9e1ONYQuAa-CB_Rrw7Tw</td>\n",
       "      <td>M4gqA4jIDMBu9tYZ2J9mTw</td>\n",
       "      <td>44nGn-w5iaPkp639RJfTWQ</td>\n",
       "      <td>4</td>\n",
       "      <td>2014-06-27</td>\n",
       "      <td>This was a great venue to have some dinner and...</td>\n",
       "      <td>0</td>\n",
       "      <td>0</td>\n",
       "      <td>0</td>\n",
       "      <td>\"Delmonico Steakhouse\"</td>\n",
       "      <td>...</td>\n",
       "      <td>\"3355 Las Vegas Blvd S\"</td>\n",
       "      <td>Las Vegas</td>\n",
       "      <td>NV</td>\n",
       "      <td>89109</td>\n",
       "      <td>36.123183</td>\n",
       "      <td>-115.16919</td>\n",
       "      <td>1451.0</td>\n",
       "      <td>1.0</td>\n",
       "      <td>Cajun/Creole;Steakhouses;Restaurants</td>\n",
       "      <td>4.0</td>\n",
       "    </tr>\n",
       "    <tr>\n",
       "      <th>15</th>\n",
       "      <td>--9e1ONYQuAa-CB_Rrw7Tw</td>\n",
       "      <td>i7xD3FY-EaF9O08QL69l5w</td>\n",
       "      <td>tTifjrXlRrUme-4c0UW9Bw</td>\n",
       "      <td>5</td>\n",
       "      <td>2016-04-01</td>\n",
       "      <td>Absolutely impressed with this restaurant. The...</td>\n",
       "      <td>0</td>\n",
       "      <td>0</td>\n",
       "      <td>0</td>\n",
       "      <td>\"Delmonico Steakhouse\"</td>\n",
       "      <td>...</td>\n",
       "      <td>\"3355 Las Vegas Blvd S\"</td>\n",
       "      <td>Las Vegas</td>\n",
       "      <td>NV</td>\n",
       "      <td>89109</td>\n",
       "      <td>36.123183</td>\n",
       "      <td>-115.16919</td>\n",
       "      <td>1451.0</td>\n",
       "      <td>1.0</td>\n",
       "      <td>Cajun/Creole;Steakhouses;Restaurants</td>\n",
       "      <td>4.0</td>\n",
       "    </tr>\n",
       "    <tr>\n",
       "      <th>16</th>\n",
       "      <td>--9e1ONYQuAa-CB_Rrw7Tw</td>\n",
       "      <td>IKqscSMGEw1v4omzytfKeA</td>\n",
       "      <td>lnZAC2F0Qx_17YQqvjxcEQ</td>\n",
       "      <td>4</td>\n",
       "      <td>2010-09-09</td>\n",
       "      <td>I went here for my friend's bachelor party's d...</td>\n",
       "      <td>1</td>\n",
       "      <td>0</td>\n",
       "      <td>1</td>\n",
       "      <td>\"Delmonico Steakhouse\"</td>\n",
       "      <td>...</td>\n",
       "      <td>\"3355 Las Vegas Blvd S\"</td>\n",
       "      <td>Las Vegas</td>\n",
       "      <td>NV</td>\n",
       "      <td>89109</td>\n",
       "      <td>36.123183</td>\n",
       "      <td>-115.16919</td>\n",
       "      <td>1451.0</td>\n",
       "      <td>1.0</td>\n",
       "      <td>Cajun/Creole;Steakhouses;Restaurants</td>\n",
       "      <td>4.0</td>\n",
       "    </tr>\n",
       "    <tr>\n",
       "      <th>17</th>\n",
       "      <td>--9e1ONYQuAa-CB_Rrw7Tw</td>\n",
       "      <td>qhcG6YfuD2XmA686b20QsA</td>\n",
       "      <td>M6ceu8Yqi13TEEQ8XuGnZQ</td>\n",
       "      <td>3</td>\n",
       "      <td>2008-06-18</td>\n",
       "      <td>(Jan\\/ 2006)\\n\\nTuna tartare-- take a back sea...</td>\n",
       "      <td>1</td>\n",
       "      <td>1</td>\n",
       "      <td>1</td>\n",
       "      <td>\"Delmonico Steakhouse\"</td>\n",
       "      <td>...</td>\n",
       "      <td>\"3355 Las Vegas Blvd S\"</td>\n",
       "      <td>Las Vegas</td>\n",
       "      <td>NV</td>\n",
       "      <td>89109</td>\n",
       "      <td>36.123183</td>\n",
       "      <td>-115.16919</td>\n",
       "      <td>1451.0</td>\n",
       "      <td>1.0</td>\n",
       "      <td>Cajun/Creole;Steakhouses;Restaurants</td>\n",
       "      <td>4.0</td>\n",
       "    </tr>\n",
       "    <tr>\n",
       "      <th>18</th>\n",
       "      <td>--9e1ONYQuAa-CB_Rrw7Tw</td>\n",
       "      <td>Nrr61gN4nVoGMyqj9LXdZw</td>\n",
       "      <td>PQ6-FZpUn2oFLyBGvdiG3w</td>\n",
       "      <td>2</td>\n",
       "      <td>2009-10-01</td>\n",
       "      <td>2nd strike emeril! i was diappointed with emer...</td>\n",
       "      <td>0</td>\n",
       "      <td>0</td>\n",
       "      <td>0</td>\n",
       "      <td>\"Delmonico Steakhouse\"</td>\n",
       "      <td>...</td>\n",
       "      <td>\"3355 Las Vegas Blvd S\"</td>\n",
       "      <td>Las Vegas</td>\n",
       "      <td>NV</td>\n",
       "      <td>89109</td>\n",
       "      <td>36.123183</td>\n",
       "      <td>-115.16919</td>\n",
       "      <td>1451.0</td>\n",
       "      <td>1.0</td>\n",
       "      <td>Cajun/Creole;Steakhouses;Restaurants</td>\n",
       "      <td>4.0</td>\n",
       "    </tr>\n",
       "    <tr>\n",
       "      <th>19</th>\n",
       "      <td>--9e1ONYQuAa-CB_Rrw7Tw</td>\n",
       "      <td>heZd0W3HuPJxZBrCYD3wDw</td>\n",
       "      <td>OtKA03ALQQ1CBhtaJod_Jw</td>\n",
       "      <td>2</td>\n",
       "      <td>2017-02-12</td>\n",
       "      <td>Lousy steak. \\n\\nThe service was great - Todd,...</td>\n",
       "      <td>3</td>\n",
       "      <td>1</td>\n",
       "      <td>1</td>\n",
       "      <td>\"Delmonico Steakhouse\"</td>\n",
       "      <td>...</td>\n",
       "      <td>\"3355 Las Vegas Blvd S\"</td>\n",
       "      <td>Las Vegas</td>\n",
       "      <td>NV</td>\n",
       "      <td>89109</td>\n",
       "      <td>36.123183</td>\n",
       "      <td>-115.16919</td>\n",
       "      <td>1451.0</td>\n",
       "      <td>1.0</td>\n",
       "      <td>Cajun/Creole;Steakhouses;Restaurants</td>\n",
       "      <td>4.0</td>\n",
       "    </tr>\n",
       "    <tr>\n",
       "      <th>20</th>\n",
       "      <td>--9e1ONYQuAa-CB_Rrw7Tw</td>\n",
       "      <td>wZS-PPflEIXH7DplZuCrPA</td>\n",
       "      <td>OkKNJpVWPZJRmPXbR2Bl8A</td>\n",
       "      <td>5</td>\n",
       "      <td>2014-10-27</td>\n",
       "      <td>Walked in on a Sunday evening, no reservations...</td>\n",
       "      <td>0</td>\n",
       "      <td>0</td>\n",
       "      <td>0</td>\n",
       "      <td>\"Delmonico Steakhouse\"</td>\n",
       "      <td>...</td>\n",
       "      <td>\"3355 Las Vegas Blvd S\"</td>\n",
       "      <td>Las Vegas</td>\n",
       "      <td>NV</td>\n",
       "      <td>89109</td>\n",
       "      <td>36.123183</td>\n",
       "      <td>-115.16919</td>\n",
       "      <td>1451.0</td>\n",
       "      <td>1.0</td>\n",
       "      <td>Cajun/Creole;Steakhouses;Restaurants</td>\n",
       "      <td>4.0</td>\n",
       "    </tr>\n",
       "    <tr>\n",
       "      <th>21</th>\n",
       "      <td>--9e1ONYQuAa-CB_Rrw7Tw</td>\n",
       "      <td>nXWgy1RHDzCKc8-pYC6JuA</td>\n",
       "      <td>P2tH2NIkseonvLhFG32M9w</td>\n",
       "      <td>5</td>\n",
       "      <td>2008-05-15</td>\n",
       "      <td>It's been a long time since I been to Delmonic...</td>\n",
       "      <td>0</td>\n",
       "      <td>0</td>\n",
       "      <td>0</td>\n",
       "      <td>\"Delmonico Steakhouse\"</td>\n",
       "      <td>...</td>\n",
       "      <td>\"3355 Las Vegas Blvd S\"</td>\n",
       "      <td>Las Vegas</td>\n",
       "      <td>NV</td>\n",
       "      <td>89109</td>\n",
       "      <td>36.123183</td>\n",
       "      <td>-115.16919</td>\n",
       "      <td>1451.0</td>\n",
       "      <td>1.0</td>\n",
       "      <td>Cajun/Creole;Steakhouses;Restaurants</td>\n",
       "      <td>4.0</td>\n",
       "    </tr>\n",
       "    <tr>\n",
       "      <th>22</th>\n",
       "      <td>--9e1ONYQuAa-CB_Rrw7Tw</td>\n",
       "      <td>CgAMejWWefRGG2LxKMC79Q</td>\n",
       "      <td>1dV5ct9dz1gYeOOgXPLG-w</td>\n",
       "      <td>4</td>\n",
       "      <td>2009-03-18</td>\n",
       "      <td>I came here for my 20th birthday just recently...</td>\n",
       "      <td>2</td>\n",
       "      <td>2</td>\n",
       "      <td>2</td>\n",
       "      <td>\"Delmonico Steakhouse\"</td>\n",
       "      <td>...</td>\n",
       "      <td>\"3355 Las Vegas Blvd S\"</td>\n",
       "      <td>Las Vegas</td>\n",
       "      <td>NV</td>\n",
       "      <td>89109</td>\n",
       "      <td>36.123183</td>\n",
       "      <td>-115.16919</td>\n",
       "      <td>1451.0</td>\n",
       "      <td>1.0</td>\n",
       "      <td>Cajun/Creole;Steakhouses;Restaurants</td>\n",
       "      <td>4.0</td>\n",
       "    </tr>\n",
       "    <tr>\n",
       "      <th>23</th>\n",
       "      <td>--9e1ONYQuAa-CB_Rrw7Tw</td>\n",
       "      <td>0Th5G-uyjyQqonBJk9-fSg</td>\n",
       "      <td>Zsfc3e_arKRDQuYuQ-rDRA</td>\n",
       "      <td>4</td>\n",
       "      <td>2011-05-13</td>\n",
       "      <td>Soo pricey but what a delicious meal.  My file...</td>\n",
       "      <td>0</td>\n",
       "      <td>0</td>\n",
       "      <td>0</td>\n",
       "      <td>\"Delmonico Steakhouse\"</td>\n",
       "      <td>...</td>\n",
       "      <td>\"3355 Las Vegas Blvd S\"</td>\n",
       "      <td>Las Vegas</td>\n",
       "      <td>NV</td>\n",
       "      <td>89109</td>\n",
       "      <td>36.123183</td>\n",
       "      <td>-115.16919</td>\n",
       "      <td>1451.0</td>\n",
       "      <td>1.0</td>\n",
       "      <td>Cajun/Creole;Steakhouses;Restaurants</td>\n",
       "      <td>4.0</td>\n",
       "    </tr>\n",
       "    <tr>\n",
       "      <th>24</th>\n",
       "      <td>--9e1ONYQuAa-CB_Rrw7Tw</td>\n",
       "      <td>TeYfZU8b7vknNF5R_yTa_g</td>\n",
       "      <td>BNIaIprs77ORSW7sy5cLDQ</td>\n",
       "      <td>4</td>\n",
       "      <td>2014-12-21</td>\n",
       "      <td>The food was okay\\/good and service was great....</td>\n",
       "      <td>2</td>\n",
       "      <td>0</td>\n",
       "      <td>1</td>\n",
       "      <td>\"Delmonico Steakhouse\"</td>\n",
       "      <td>...</td>\n",
       "      <td>\"3355 Las Vegas Blvd S\"</td>\n",
       "      <td>Las Vegas</td>\n",
       "      <td>NV</td>\n",
       "      <td>89109</td>\n",
       "      <td>36.123183</td>\n",
       "      <td>-115.16919</td>\n",
       "      <td>1451.0</td>\n",
       "      <td>1.0</td>\n",
       "      <td>Cajun/Creole;Steakhouses;Restaurants</td>\n",
       "      <td>4.0</td>\n",
       "    </tr>\n",
       "    <tr>\n",
       "      <th>25</th>\n",
       "      <td>--9e1ONYQuAa-CB_Rrw7Tw</td>\n",
       "      <td>3ocVp5YgRXdmrMs_b-si-w</td>\n",
       "      <td>Vkj42md-5O3VoOD9pBg6Sw</td>\n",
       "      <td>4</td>\n",
       "      <td>2012-10-19</td>\n",
       "      <td>As far as steakhouses goes in Las Vegas, you c...</td>\n",
       "      <td>0</td>\n",
       "      <td>0</td>\n",
       "      <td>0</td>\n",
       "      <td>\"Delmonico Steakhouse\"</td>\n",
       "      <td>...</td>\n",
       "      <td>\"3355 Las Vegas Blvd S\"</td>\n",
       "      <td>Las Vegas</td>\n",
       "      <td>NV</td>\n",
       "      <td>89109</td>\n",
       "      <td>36.123183</td>\n",
       "      <td>-115.16919</td>\n",
       "      <td>1451.0</td>\n",
       "      <td>1.0</td>\n",
       "      <td>Cajun/Creole;Steakhouses;Restaurants</td>\n",
       "      <td>4.0</td>\n",
       "    </tr>\n",
       "    <tr>\n",
       "      <th>26</th>\n",
       "      <td>--9e1ONYQuAa-CB_Rrw7Tw</td>\n",
       "      <td>TiT0ZS0OcIfUvuiay3zslA</td>\n",
       "      <td>et_GDGFfG2BFVkLzRK2mTQ</td>\n",
       "      <td>5</td>\n",
       "      <td>2014-06-03</td>\n",
       "      <td>Being from California where foie gras is banne...</td>\n",
       "      <td>1</td>\n",
       "      <td>0</td>\n",
       "      <td>0</td>\n",
       "      <td>\"Delmonico Steakhouse\"</td>\n",
       "      <td>...</td>\n",
       "      <td>\"3355 Las Vegas Blvd S\"</td>\n",
       "      <td>Las Vegas</td>\n",
       "      <td>NV</td>\n",
       "      <td>89109</td>\n",
       "      <td>36.123183</td>\n",
       "      <td>-115.16919</td>\n",
       "      <td>1451.0</td>\n",
       "      <td>1.0</td>\n",
       "      <td>Cajun/Creole;Steakhouses;Restaurants</td>\n",
       "      <td>4.0</td>\n",
       "    </tr>\n",
       "    <tr>\n",
       "      <th>27</th>\n",
       "      <td>--9e1ONYQuAa-CB_Rrw7Tw</td>\n",
       "      <td>d2RB9h616DybMdWqH1TDcg</td>\n",
       "      <td>t58-mCKixnzxZaAaowGUWA</td>\n",
       "      <td>4</td>\n",
       "      <td>2013-05-17</td>\n",
       "      <td>Great steak house. The spinach salad with baco...</td>\n",
       "      <td>1</td>\n",
       "      <td>0</td>\n",
       "      <td>1</td>\n",
       "      <td>\"Delmonico Steakhouse\"</td>\n",
       "      <td>...</td>\n",
       "      <td>\"3355 Las Vegas Blvd S\"</td>\n",
       "      <td>Las Vegas</td>\n",
       "      <td>NV</td>\n",
       "      <td>89109</td>\n",
       "      <td>36.123183</td>\n",
       "      <td>-115.16919</td>\n",
       "      <td>1451.0</td>\n",
       "      <td>1.0</td>\n",
       "      <td>Cajun/Creole;Steakhouses;Restaurants</td>\n",
       "      <td>4.0</td>\n",
       "    </tr>\n",
       "    <tr>\n",
       "      <th>28</th>\n",
       "      <td>--9e1ONYQuAa-CB_Rrw7Tw</td>\n",
       "      <td>FUvT6LSoRbZfcHlDGXbGaQ</td>\n",
       "      <td>PV0VEhlmhc2BjzMZEbpWlg</td>\n",
       "      <td>4</td>\n",
       "      <td>2011-02-18</td>\n",
       "      <td>Been here twice for lunch (once today and once...</td>\n",
       "      <td>1</td>\n",
       "      <td>0</td>\n",
       "      <td>0</td>\n",
       "      <td>\"Delmonico Steakhouse\"</td>\n",
       "      <td>...</td>\n",
       "      <td>\"3355 Las Vegas Blvd S\"</td>\n",
       "      <td>Las Vegas</td>\n",
       "      <td>NV</td>\n",
       "      <td>89109</td>\n",
       "      <td>36.123183</td>\n",
       "      <td>-115.16919</td>\n",
       "      <td>1451.0</td>\n",
       "      <td>1.0</td>\n",
       "      <td>Cajun/Creole;Steakhouses;Restaurants</td>\n",
       "      <td>4.0</td>\n",
       "    </tr>\n",
       "    <tr>\n",
       "      <th>29</th>\n",
       "      <td>--9e1ONYQuAa-CB_Rrw7Tw</td>\n",
       "      <td>VGqJMCXEHs3C2Jp7x9ISeQ</td>\n",
       "      <td>mY3mROf28N-vY1fpR-FFUw</td>\n",
       "      <td>4</td>\n",
       "      <td>2010-10-19</td>\n",
       "      <td>I've watched Emeril on the FoodNetwork Channel...</td>\n",
       "      <td>1</td>\n",
       "      <td>1</td>\n",
       "      <td>1</td>\n",
       "      <td>\"Delmonico Steakhouse\"</td>\n",
       "      <td>...</td>\n",
       "      <td>\"3355 Las Vegas Blvd S\"</td>\n",
       "      <td>Las Vegas</td>\n",
       "      <td>NV</td>\n",
       "      <td>89109</td>\n",
       "      <td>36.123183</td>\n",
       "      <td>-115.16919</td>\n",
       "      <td>1451.0</td>\n",
       "      <td>1.0</td>\n",
       "      <td>Cajun/Creole;Steakhouses;Restaurants</td>\n",
       "      <td>4.0</td>\n",
       "    </tr>\n",
       "    <tr>\n",
       "      <th>30</th>\n",
       "      <td>--9e1ONYQuAa-CB_Rrw7Tw</td>\n",
       "      <td>gkV5kYV3jmzTYINZJzDA9A</td>\n",
       "      <td>sKTc9Sst8L0RMZNL_5JWwA</td>\n",
       "      <td>4</td>\n",
       "      <td>2011-05-31</td>\n",
       "      <td>The lamb is delicious! The atmosphere is wonde...</td>\n",
       "      <td>1</td>\n",
       "      <td>0</td>\n",
       "      <td>0</td>\n",
       "      <td>\"Delmonico Steakhouse\"</td>\n",
       "      <td>...</td>\n",
       "      <td>\"3355 Las Vegas Blvd S\"</td>\n",
       "      <td>Las Vegas</td>\n",
       "      <td>NV</td>\n",
       "      <td>89109</td>\n",
       "      <td>36.123183</td>\n",
       "      <td>-115.16919</td>\n",
       "      <td>1451.0</td>\n",
       "      <td>1.0</td>\n",
       "      <td>Cajun/Creole;Steakhouses;Restaurants</td>\n",
       "      <td>4.0</td>\n",
       "    </tr>\n",
       "    <tr>\n",
       "      <th>31</th>\n",
       "      <td>--9e1ONYQuAa-CB_Rrw7Tw</td>\n",
       "      <td>UqI4YpmKIoAzU9TFUYBk3g</td>\n",
       "      <td>C-4a9xguoYZsmxXipo4p1Q</td>\n",
       "      <td>5</td>\n",
       "      <td>2013-09-22</td>\n",
       "      <td>The Ben:  This is my steakhouse when I'm in La...</td>\n",
       "      <td>11</td>\n",
       "      <td>7</td>\n",
       "      <td>8</td>\n",
       "      <td>\"Delmonico Steakhouse\"</td>\n",
       "      <td>...</td>\n",
       "      <td>\"3355 Las Vegas Blvd S\"</td>\n",
       "      <td>Las Vegas</td>\n",
       "      <td>NV</td>\n",
       "      <td>89109</td>\n",
       "      <td>36.123183</td>\n",
       "      <td>-115.16919</td>\n",
       "      <td>1451.0</td>\n",
       "      <td>1.0</td>\n",
       "      <td>Cajun/Creole;Steakhouses;Restaurants</td>\n",
       "      <td>4.0</td>\n",
       "    </tr>\n",
       "    <tr>\n",
       "      <th>32</th>\n",
       "      <td>--9e1ONYQuAa-CB_Rrw7Tw</td>\n",
       "      <td>_tqK-hTclbiY9SagkCZcXw</td>\n",
       "      <td>5dg3AJJNhDMonBlwBYg9vw</td>\n",
       "      <td>5</td>\n",
       "      <td>2011-01-20</td>\n",
       "      <td>Phenomenal!  Came back here to celebrate a bir...</td>\n",
       "      <td>2</td>\n",
       "      <td>0</td>\n",
       "      <td>0</td>\n",
       "      <td>\"Delmonico Steakhouse\"</td>\n",
       "      <td>...</td>\n",
       "      <td>\"3355 Las Vegas Blvd S\"</td>\n",
       "      <td>Las Vegas</td>\n",
       "      <td>NV</td>\n",
       "      <td>89109</td>\n",
       "      <td>36.123183</td>\n",
       "      <td>-115.16919</td>\n",
       "      <td>1451.0</td>\n",
       "      <td>1.0</td>\n",
       "      <td>Cajun/Creole;Steakhouses;Restaurants</td>\n",
       "      <td>4.0</td>\n",
       "    </tr>\n",
       "    <tr>\n",
       "      <th>33</th>\n",
       "      <td>--9e1ONYQuAa-CB_Rrw7Tw</td>\n",
       "      <td>pV4ycNgQ3xcULvF19ch3Pw</td>\n",
       "      <td>vtLGogUiDd1Xla-Rtxf5cg</td>\n",
       "      <td>4</td>\n",
       "      <td>2011-08-13</td>\n",
       "      <td>Looking for a good steakhouse while in Vegas w...</td>\n",
       "      <td>0</td>\n",
       "      <td>0</td>\n",
       "      <td>0</td>\n",
       "      <td>\"Delmonico Steakhouse\"</td>\n",
       "      <td>...</td>\n",
       "      <td>\"3355 Las Vegas Blvd S\"</td>\n",
       "      <td>Las Vegas</td>\n",
       "      <td>NV</td>\n",
       "      <td>89109</td>\n",
       "      <td>36.123183</td>\n",
       "      <td>-115.16919</td>\n",
       "      <td>1451.0</td>\n",
       "      <td>1.0</td>\n",
       "      <td>Cajun/Creole;Steakhouses;Restaurants</td>\n",
       "      <td>4.0</td>\n",
       "    </tr>\n",
       "    <tr>\n",
       "      <th>34</th>\n",
       "      <td>--9e1ONYQuAa-CB_Rrw7Tw</td>\n",
       "      <td>ZqMUHOJg9lGOmfqQ7RXj7A</td>\n",
       "      <td>kOll36Me-rM9NsqoDnejKA</td>\n",
       "      <td>1</td>\n",
       "      <td>2016-10-15</td>\n",
       "      <td>This was supposed to be a very special dinner ...</td>\n",
       "      <td>0</td>\n",
       "      <td>0</td>\n",
       "      <td>0</td>\n",
       "      <td>\"Delmonico Steakhouse\"</td>\n",
       "      <td>...</td>\n",
       "      <td>\"3355 Las Vegas Blvd S\"</td>\n",
       "      <td>Las Vegas</td>\n",
       "      <td>NV</td>\n",
       "      <td>89109</td>\n",
       "      <td>36.123183</td>\n",
       "      <td>-115.16919</td>\n",
       "      <td>1451.0</td>\n",
       "      <td>1.0</td>\n",
       "      <td>Cajun/Creole;Steakhouses;Restaurants</td>\n",
       "      <td>4.0</td>\n",
       "    </tr>\n",
       "    <tr>\n",
       "      <th>35</th>\n",
       "      <td>--9e1ONYQuAa-CB_Rrw7Tw</td>\n",
       "      <td>WdYZMA0dkrsm-KKX_CxexQ</td>\n",
       "      <td>lUPSEbFRd3jDOM5agGnjWQ</td>\n",
       "      <td>4</td>\n",
       "      <td>2015-02-03</td>\n",
       "      <td>First off, to make the most of your experience...</td>\n",
       "      <td>3</td>\n",
       "      <td>2</td>\n",
       "      <td>2</td>\n",
       "      <td>\"Delmonico Steakhouse\"</td>\n",
       "      <td>...</td>\n",
       "      <td>\"3355 Las Vegas Blvd S\"</td>\n",
       "      <td>Las Vegas</td>\n",
       "      <td>NV</td>\n",
       "      <td>89109</td>\n",
       "      <td>36.123183</td>\n",
       "      <td>-115.16919</td>\n",
       "      <td>1451.0</td>\n",
       "      <td>1.0</td>\n",
       "      <td>Cajun/Creole;Steakhouses;Restaurants</td>\n",
       "      <td>4.0</td>\n",
       "    </tr>\n",
       "    <tr>\n",
       "      <th>36</th>\n",
       "      <td>--9e1ONYQuAa-CB_Rrw7Tw</td>\n",
       "      <td>BKBXTJxnrxH2F7ACcooAuA</td>\n",
       "      <td>mD-JAucjMeNnp50OnmAMtQ</td>\n",
       "      <td>2</td>\n",
       "      <td>2016-03-03</td>\n",
       "      <td>My wife and I came here for our anniversary ce...</td>\n",
       "      <td>2</td>\n",
       "      <td>2</td>\n",
       "      <td>0</td>\n",
       "      <td>\"Delmonico Steakhouse\"</td>\n",
       "      <td>...</td>\n",
       "      <td>\"3355 Las Vegas Blvd S\"</td>\n",
       "      <td>Las Vegas</td>\n",
       "      <td>NV</td>\n",
       "      <td>89109</td>\n",
       "      <td>36.123183</td>\n",
       "      <td>-115.16919</td>\n",
       "      <td>1451.0</td>\n",
       "      <td>1.0</td>\n",
       "      <td>Cajun/Creole;Steakhouses;Restaurants</td>\n",
       "      <td>4.0</td>\n",
       "    </tr>\n",
       "    <tr>\n",
       "      <th>37</th>\n",
       "      <td>--9e1ONYQuAa-CB_Rrw7Tw</td>\n",
       "      <td>ULpE4aERqV9Y2K7VlQCHYQ</td>\n",
       "      <td>UYGG1_tgY5JERLLtMBaONw</td>\n",
       "      <td>5</td>\n",
       "      <td>2016-07-13</td>\n",
       "      <td>Wow, is the first word that comes to mind when...</td>\n",
       "      <td>0</td>\n",
       "      <td>0</td>\n",
       "      <td>0</td>\n",
       "      <td>\"Delmonico Steakhouse\"</td>\n",
       "      <td>...</td>\n",
       "      <td>\"3355 Las Vegas Blvd S\"</td>\n",
       "      <td>Las Vegas</td>\n",
       "      <td>NV</td>\n",
       "      <td>89109</td>\n",
       "      <td>36.123183</td>\n",
       "      <td>-115.16919</td>\n",
       "      <td>1451.0</td>\n",
       "      <td>1.0</td>\n",
       "      <td>Cajun/Creole;Steakhouses;Restaurants</td>\n",
       "      <td>4.0</td>\n",
       "    </tr>\n",
       "    <tr>\n",
       "      <th>38</th>\n",
       "      <td>--9e1ONYQuAa-CB_Rrw7Tw</td>\n",
       "      <td>H8UtSo-Q5gw_tEO1q-L5xA</td>\n",
       "      <td>idiYLiIdov2thAWyHt2trw</td>\n",
       "      <td>4</td>\n",
       "      <td>2012-10-09</td>\n",
       "      <td>This is not the Delmonicos restaurant of NY. T...</td>\n",
       "      <td>2</td>\n",
       "      <td>0</td>\n",
       "      <td>0</td>\n",
       "      <td>\"Delmonico Steakhouse\"</td>\n",
       "      <td>...</td>\n",
       "      <td>\"3355 Las Vegas Blvd S\"</td>\n",
       "      <td>Las Vegas</td>\n",
       "      <td>NV</td>\n",
       "      <td>89109</td>\n",
       "      <td>36.123183</td>\n",
       "      <td>-115.16919</td>\n",
       "      <td>1451.0</td>\n",
       "      <td>1.0</td>\n",
       "      <td>Cajun/Creole;Steakhouses;Restaurants</td>\n",
       "      <td>4.0</td>\n",
       "    </tr>\n",
       "    <tr>\n",
       "      <th>39</th>\n",
       "      <td>--9e1ONYQuAa-CB_Rrw7Tw</td>\n",
       "      <td>oy55J-NlQG0Fk8DHXzxqQA</td>\n",
       "      <td>y8akzsGLSn8rFvVOUW-EAQ</td>\n",
       "      <td>5</td>\n",
       "      <td>2012-05-14</td>\n",
       "      <td>This is my favorite restaurant in the United S...</td>\n",
       "      <td>1</td>\n",
       "      <td>1</td>\n",
       "      <td>1</td>\n",
       "      <td>\"Delmonico Steakhouse\"</td>\n",
       "      <td>...</td>\n",
       "      <td>\"3355 Las Vegas Blvd S\"</td>\n",
       "      <td>Las Vegas</td>\n",
       "      <td>NV</td>\n",
       "      <td>89109</td>\n",
       "      <td>36.123183</td>\n",
       "      <td>-115.16919</td>\n",
       "      <td>1451.0</td>\n",
       "      <td>1.0</td>\n",
       "      <td>Cajun/Creole;Steakhouses;Restaurants</td>\n",
       "      <td>4.0</td>\n",
       "    </tr>\n",
       "    <tr>\n",
       "      <th>40</th>\n",
       "      <td>--9e1ONYQuAa-CB_Rrw7Tw</td>\n",
       "      <td>x_vj4-4xTauSaL8oBBG6kg</td>\n",
       "      <td>T98RxxU5UB5WL05yl2CkAA</td>\n",
       "      <td>4</td>\n",
       "      <td>2014-05-30</td>\n",
       "      <td>Service was great... !! We sat down to a late ...</td>\n",
       "      <td>1</td>\n",
       "      <td>0</td>\n",
       "      <td>0</td>\n",
       "      <td>\"Delmonico Steakhouse\"</td>\n",
       "      <td>...</td>\n",
       "      <td>\"3355 Las Vegas Blvd S\"</td>\n",
       "      <td>Las Vegas</td>\n",
       "      <td>NV</td>\n",
       "      <td>89109</td>\n",
       "      <td>36.123183</td>\n",
       "      <td>-115.16919</td>\n",
       "      <td>1451.0</td>\n",
       "      <td>1.0</td>\n",
       "      <td>Cajun/Creole;Steakhouses;Restaurants</td>\n",
       "      <td>4.0</td>\n",
       "    </tr>\n",
       "    <tr>\n",
       "      <th>41</th>\n",
       "      <td>--9e1ONYQuAa-CB_Rrw7Tw</td>\n",
       "      <td>teIentDqBBjoo4Ds21gRfg</td>\n",
       "      <td>egtD3QDv__ldvbYgZf-kMg</td>\n",
       "      <td>5</td>\n",
       "      <td>2015-12-02</td>\n",
       "      <td>I forgot to review this restaurant from a few ...</td>\n",
       "      <td>0</td>\n",
       "      <td>0</td>\n",
       "      <td>0</td>\n",
       "      <td>\"Delmonico Steakhouse\"</td>\n",
       "      <td>...</td>\n",
       "      <td>\"3355 Las Vegas Blvd S\"</td>\n",
       "      <td>Las Vegas</td>\n",
       "      <td>NV</td>\n",
       "      <td>89109</td>\n",
       "      <td>36.123183</td>\n",
       "      <td>-115.16919</td>\n",
       "      <td>1451.0</td>\n",
       "      <td>1.0</td>\n",
       "      <td>Cajun/Creole;Steakhouses;Restaurants</td>\n",
       "      <td>4.0</td>\n",
       "    </tr>\n",
       "    <tr>\n",
       "      <th>42</th>\n",
       "      <td>--9e1ONYQuAa-CB_Rrw7Tw</td>\n",
       "      <td>l6vwYPrwIyAWPsjjkyjSiQ</td>\n",
       "      <td>-7hnKm0I8detrDCgsibKsA</td>\n",
       "      <td>5</td>\n",
       "      <td>2007-08-13</td>\n",
       "      <td>I blame my father for my inordinate love of al...</td>\n",
       "      <td>0</td>\n",
       "      <td>0</td>\n",
       "      <td>0</td>\n",
       "      <td>\"Delmonico Steakhouse\"</td>\n",
       "      <td>...</td>\n",
       "      <td>\"3355 Las Vegas Blvd S\"</td>\n",
       "      <td>Las Vegas</td>\n",
       "      <td>NV</td>\n",
       "      <td>89109</td>\n",
       "      <td>36.123183</td>\n",
       "      <td>-115.16919</td>\n",
       "      <td>1451.0</td>\n",
       "      <td>1.0</td>\n",
       "      <td>Cajun/Creole;Steakhouses;Restaurants</td>\n",
       "      <td>4.0</td>\n",
       "    </tr>\n",
       "    <tr>\n",
       "      <th>43</th>\n",
       "      <td>--9e1ONYQuAa-CB_Rrw7Tw</td>\n",
       "      <td>exzXjy7Y2ICX_BEVTDWpJA</td>\n",
       "      <td>Ymtd4cQypep_QZJ-qJsHuA</td>\n",
       "      <td>5</td>\n",
       "      <td>2017-12-10</td>\n",
       "      <td>I got the filet mignon with seared foigras and...</td>\n",
       "      <td>0</td>\n",
       "      <td>0</td>\n",
       "      <td>0</td>\n",
       "      <td>\"Delmonico Steakhouse\"</td>\n",
       "      <td>...</td>\n",
       "      <td>\"3355 Las Vegas Blvd S\"</td>\n",
       "      <td>Las Vegas</td>\n",
       "      <td>NV</td>\n",
       "      <td>89109</td>\n",
       "      <td>36.123183</td>\n",
       "      <td>-115.16919</td>\n",
       "      <td>1451.0</td>\n",
       "      <td>1.0</td>\n",
       "      <td>Cajun/Creole;Steakhouses;Restaurants</td>\n",
       "      <td>4.0</td>\n",
       "    </tr>\n",
       "    <tr>\n",
       "      <th>44</th>\n",
       "      <td>--9e1ONYQuAa-CB_Rrw7Tw</td>\n",
       "      <td>rCP-ch_235BvetH7-nUCjw</td>\n",
       "      <td>KcEfVfc5nTPBDonYjJ3wOw</td>\n",
       "      <td>3</td>\n",
       "      <td>2012-07-03</td>\n",
       "      <td>A bit torn about this place...\\n\\nI heard thro...</td>\n",
       "      <td>2</td>\n",
       "      <td>0</td>\n",
       "      <td>0</td>\n",
       "      <td>\"Delmonico Steakhouse\"</td>\n",
       "      <td>...</td>\n",
       "      <td>\"3355 Las Vegas Blvd S\"</td>\n",
       "      <td>Las Vegas</td>\n",
       "      <td>NV</td>\n",
       "      <td>89109</td>\n",
       "      <td>36.123183</td>\n",
       "      <td>-115.16919</td>\n",
       "      <td>1451.0</td>\n",
       "      <td>1.0</td>\n",
       "      <td>Cajun/Creole;Steakhouses;Restaurants</td>\n",
       "      <td>4.0</td>\n",
       "    </tr>\n",
       "    <tr>\n",
       "      <th>45</th>\n",
       "      <td>--9e1ONYQuAa-CB_Rrw7Tw</td>\n",
       "      <td>FpBeif79_T5J2JbFKaQllw</td>\n",
       "      <td>Zh13GuwMkq_6GQNM0j6lZA</td>\n",
       "      <td>5</td>\n",
       "      <td>2014-11-18</td>\n",
       "      <td>This is my second visit to one of emeril's ste...</td>\n",
       "      <td>0</td>\n",
       "      <td>0</td>\n",
       "      <td>0</td>\n",
       "      <td>\"Delmonico Steakhouse\"</td>\n",
       "      <td>...</td>\n",
       "      <td>\"3355 Las Vegas Blvd S\"</td>\n",
       "      <td>Las Vegas</td>\n",
       "      <td>NV</td>\n",
       "      <td>89109</td>\n",
       "      <td>36.123183</td>\n",
       "      <td>-115.16919</td>\n",
       "      <td>1451.0</td>\n",
       "      <td>1.0</td>\n",
       "      <td>Cajun/Creole;Steakhouses;Restaurants</td>\n",
       "      <td>4.0</td>\n",
       "    </tr>\n",
       "    <tr>\n",
       "      <th>46</th>\n",
       "      <td>--9e1ONYQuAa-CB_Rrw7Tw</td>\n",
       "      <td>tF8eLBFrz6t8UtvLDzvfjA</td>\n",
       "      <td>J2Whj5sj9acVngta80T4Yg</td>\n",
       "      <td>5</td>\n",
       "      <td>2013-05-27</td>\n",
       "      <td>Awesome food with excellent service\\nWe shared...</td>\n",
       "      <td>0</td>\n",
       "      <td>0</td>\n",
       "      <td>0</td>\n",
       "      <td>\"Delmonico Steakhouse\"</td>\n",
       "      <td>...</td>\n",
       "      <td>\"3355 Las Vegas Blvd S\"</td>\n",
       "      <td>Las Vegas</td>\n",
       "      <td>NV</td>\n",
       "      <td>89109</td>\n",
       "      <td>36.123183</td>\n",
       "      <td>-115.16919</td>\n",
       "      <td>1451.0</td>\n",
       "      <td>1.0</td>\n",
       "      <td>Cajun/Creole;Steakhouses;Restaurants</td>\n",
       "      <td>4.0</td>\n",
       "    </tr>\n",
       "    <tr>\n",
       "      <th>47</th>\n",
       "      <td>--9e1ONYQuAa-CB_Rrw7Tw</td>\n",
       "      <td>5NZMdncKIgJtrsUaGySiAg</td>\n",
       "      <td>3WUGp1Xel8AuOMix6feqqA</td>\n",
       "      <td>5</td>\n",
       "      <td>2017-07-07</td>\n",
       "      <td>Great service.  Perfect bone-in ribeye steak. ...</td>\n",
       "      <td>0</td>\n",
       "      <td>0</td>\n",
       "      <td>0</td>\n",
       "      <td>\"Delmonico Steakhouse\"</td>\n",
       "      <td>...</td>\n",
       "      <td>\"3355 Las Vegas Blvd S\"</td>\n",
       "      <td>Las Vegas</td>\n",
       "      <td>NV</td>\n",
       "      <td>89109</td>\n",
       "      <td>36.123183</td>\n",
       "      <td>-115.16919</td>\n",
       "      <td>1451.0</td>\n",
       "      <td>1.0</td>\n",
       "      <td>Cajun/Creole;Steakhouses;Restaurants</td>\n",
       "      <td>4.0</td>\n",
       "    </tr>\n",
       "    <tr>\n",
       "      <th>48</th>\n",
       "      <td>--9e1ONYQuAa-CB_Rrw7Tw</td>\n",
       "      <td>7URvy5Ea2dMZAPOlkRb6FA</td>\n",
       "      <td>KFn24Ew8Dj7PEylzKWO-uQ</td>\n",
       "      <td>2</td>\n",
       "      <td>2012-03-02</td>\n",
       "      <td>We were disappointed. Went there for anniversa...</td>\n",
       "      <td>0</td>\n",
       "      <td>0</td>\n",
       "      <td>0</td>\n",
       "      <td>\"Delmonico Steakhouse\"</td>\n",
       "      <td>...</td>\n",
       "      <td>\"3355 Las Vegas Blvd S\"</td>\n",
       "      <td>Las Vegas</td>\n",
       "      <td>NV</td>\n",
       "      <td>89109</td>\n",
       "      <td>36.123183</td>\n",
       "      <td>-115.16919</td>\n",
       "      <td>1451.0</td>\n",
       "      <td>1.0</td>\n",
       "      <td>Cajun/Creole;Steakhouses;Restaurants</td>\n",
       "      <td>4.0</td>\n",
       "    </tr>\n",
       "    <tr>\n",
       "      <th>49</th>\n",
       "      <td>--9e1ONYQuAa-CB_Rrw7Tw</td>\n",
       "      <td>6YNPXoq41qTMZ2TEi0BYUA</td>\n",
       "      <td>2S6gWE-K3DHNcKYYSgN7xA</td>\n",
       "      <td>2</td>\n",
       "      <td>2016-02-16</td>\n",
       "      <td>The food was decent, but the service was defin...</td>\n",
       "      <td>0</td>\n",
       "      <td>0</td>\n",
       "      <td>0</td>\n",
       "      <td>\"Delmonico Steakhouse\"</td>\n",
       "      <td>...</td>\n",
       "      <td>\"3355 Las Vegas Blvd S\"</td>\n",
       "      <td>Las Vegas</td>\n",
       "      <td>NV</td>\n",
       "      <td>89109</td>\n",
       "      <td>36.123183</td>\n",
       "      <td>-115.16919</td>\n",
       "      <td>1451.0</td>\n",
       "      <td>1.0</td>\n",
       "      <td>Cajun/Creole;Steakhouses;Restaurants</td>\n",
       "      <td>4.0</td>\n",
       "    </tr>\n",
       "  </tbody>\n",
       "</table>\n",
       "<p>50 rows × 21 columns</p>\n",
       "</div>"
      ],
      "text/plain": [
       "               business_id               review_id                 user_id  \\\n",
       "0   --9e1ONYQuAa-CB_Rrw7Tw  KEAHrqN-1DV0gmuNHM6Eww  xP1IYu2eGfxMWV9tjrurIw   \n",
       "1   --9e1ONYQuAa-CB_Rrw7Tw  6SgvNWJltnZhW7duJgZ42w  oFyOUOeGTRZhFPF9uTqrTQ   \n",
       "2   --9e1ONYQuAa-CB_Rrw7Tw  iwx6s6yQxc7yjS7NFANZig  2aeNFntqY2QDZLADNo8iQQ   \n",
       "3   --9e1ONYQuAa-CB_Rrw7Tw  UVUMu_bELdA56Ryfbur-DA  gmPP4YFrgYsYQqPYokMgFA   \n",
       "4   --9e1ONYQuAa-CB_Rrw7Tw  Jjz9W-wBkoBoMcB8ZQs5zQ  9bxdPvAhP6cuipD5s2UnCg   \n",
       "5   --9e1ONYQuAa-CB_Rrw7Tw  UxFpgng8dPMWOj99653k5Q  aVOGlN9fZ-BXcbtj6dbf0g   \n",
       "6   --9e1ONYQuAa-CB_Rrw7Tw  Xp3ppynEvVu1KxDHQ3ae8w  KC8H7qTZVPIEnanw9fG43g   \n",
       "7   --9e1ONYQuAa-CB_Rrw7Tw  A5PsAqQYUR03DpV-30wKAA  3gEk6-HQ7DxjY99zypqa8w   \n",
       "8   --9e1ONYQuAa-CB_Rrw7Tw  ICnIa2QhiQrGo2HVATQZDQ  HmN7p502YMJGkBNv5bzi1w   \n",
       "9   --9e1ONYQuAa-CB_Rrw7Tw  LEzphAnz0vKE32PUCbjLgQ  3RTesI_MAwct13LWm4rhLw   \n",
       "10  --9e1ONYQuAa-CB_Rrw7Tw  1BQa5nKXLB3NnrVmGsXH6A  4PIcs3X-Ro_KoczDJ3y4ZQ   \n",
       "11  --9e1ONYQuAa-CB_Rrw7Tw  4e-cxYVdlIu2ZDxVJqUfOQ  EAOt1UQhJD0GG3l_jv7rWA   \n",
       "12  --9e1ONYQuAa-CB_Rrw7Tw  GN7KnAaxJDrYgfJzgsvmkA  C6kw0Rny7jZAGjTj0MWA3Q   \n",
       "13  --9e1ONYQuAa-CB_Rrw7Tw  -CKRAQEMJGP6nj9SOwossw  TVMmYI09y8-zJKiDfHEbSQ   \n",
       "14  --9e1ONYQuAa-CB_Rrw7Tw  M4gqA4jIDMBu9tYZ2J9mTw  44nGn-w5iaPkp639RJfTWQ   \n",
       "15  --9e1ONYQuAa-CB_Rrw7Tw  i7xD3FY-EaF9O08QL69l5w  tTifjrXlRrUme-4c0UW9Bw   \n",
       "16  --9e1ONYQuAa-CB_Rrw7Tw  IKqscSMGEw1v4omzytfKeA  lnZAC2F0Qx_17YQqvjxcEQ   \n",
       "17  --9e1ONYQuAa-CB_Rrw7Tw  qhcG6YfuD2XmA686b20QsA  M6ceu8Yqi13TEEQ8XuGnZQ   \n",
       "18  --9e1ONYQuAa-CB_Rrw7Tw  Nrr61gN4nVoGMyqj9LXdZw  PQ6-FZpUn2oFLyBGvdiG3w   \n",
       "19  --9e1ONYQuAa-CB_Rrw7Tw  heZd0W3HuPJxZBrCYD3wDw  OtKA03ALQQ1CBhtaJod_Jw   \n",
       "20  --9e1ONYQuAa-CB_Rrw7Tw  wZS-PPflEIXH7DplZuCrPA  OkKNJpVWPZJRmPXbR2Bl8A   \n",
       "21  --9e1ONYQuAa-CB_Rrw7Tw  nXWgy1RHDzCKc8-pYC6JuA  P2tH2NIkseonvLhFG32M9w   \n",
       "22  --9e1ONYQuAa-CB_Rrw7Tw  CgAMejWWefRGG2LxKMC79Q  1dV5ct9dz1gYeOOgXPLG-w   \n",
       "23  --9e1ONYQuAa-CB_Rrw7Tw  0Th5G-uyjyQqonBJk9-fSg  Zsfc3e_arKRDQuYuQ-rDRA   \n",
       "24  --9e1ONYQuAa-CB_Rrw7Tw  TeYfZU8b7vknNF5R_yTa_g  BNIaIprs77ORSW7sy5cLDQ   \n",
       "25  --9e1ONYQuAa-CB_Rrw7Tw  3ocVp5YgRXdmrMs_b-si-w  Vkj42md-5O3VoOD9pBg6Sw   \n",
       "26  --9e1ONYQuAa-CB_Rrw7Tw  TiT0ZS0OcIfUvuiay3zslA  et_GDGFfG2BFVkLzRK2mTQ   \n",
       "27  --9e1ONYQuAa-CB_Rrw7Tw  d2RB9h616DybMdWqH1TDcg  t58-mCKixnzxZaAaowGUWA   \n",
       "28  --9e1ONYQuAa-CB_Rrw7Tw  FUvT6LSoRbZfcHlDGXbGaQ  PV0VEhlmhc2BjzMZEbpWlg   \n",
       "29  --9e1ONYQuAa-CB_Rrw7Tw  VGqJMCXEHs3C2Jp7x9ISeQ  mY3mROf28N-vY1fpR-FFUw   \n",
       "30  --9e1ONYQuAa-CB_Rrw7Tw  gkV5kYV3jmzTYINZJzDA9A  sKTc9Sst8L0RMZNL_5JWwA   \n",
       "31  --9e1ONYQuAa-CB_Rrw7Tw  UqI4YpmKIoAzU9TFUYBk3g  C-4a9xguoYZsmxXipo4p1Q   \n",
       "32  --9e1ONYQuAa-CB_Rrw7Tw  _tqK-hTclbiY9SagkCZcXw  5dg3AJJNhDMonBlwBYg9vw   \n",
       "33  --9e1ONYQuAa-CB_Rrw7Tw  pV4ycNgQ3xcULvF19ch3Pw  vtLGogUiDd1Xla-Rtxf5cg   \n",
       "34  --9e1ONYQuAa-CB_Rrw7Tw  ZqMUHOJg9lGOmfqQ7RXj7A  kOll36Me-rM9NsqoDnejKA   \n",
       "35  --9e1ONYQuAa-CB_Rrw7Tw  WdYZMA0dkrsm-KKX_CxexQ  lUPSEbFRd3jDOM5agGnjWQ   \n",
       "36  --9e1ONYQuAa-CB_Rrw7Tw  BKBXTJxnrxH2F7ACcooAuA  mD-JAucjMeNnp50OnmAMtQ   \n",
       "37  --9e1ONYQuAa-CB_Rrw7Tw  ULpE4aERqV9Y2K7VlQCHYQ  UYGG1_tgY5JERLLtMBaONw   \n",
       "38  --9e1ONYQuAa-CB_Rrw7Tw  H8UtSo-Q5gw_tEO1q-L5xA  idiYLiIdov2thAWyHt2trw   \n",
       "39  --9e1ONYQuAa-CB_Rrw7Tw  oy55J-NlQG0Fk8DHXzxqQA  y8akzsGLSn8rFvVOUW-EAQ   \n",
       "40  --9e1ONYQuAa-CB_Rrw7Tw  x_vj4-4xTauSaL8oBBG6kg  T98RxxU5UB5WL05yl2CkAA   \n",
       "41  --9e1ONYQuAa-CB_Rrw7Tw  teIentDqBBjoo4Ds21gRfg  egtD3QDv__ldvbYgZf-kMg   \n",
       "42  --9e1ONYQuAa-CB_Rrw7Tw  l6vwYPrwIyAWPsjjkyjSiQ  -7hnKm0I8detrDCgsibKsA   \n",
       "43  --9e1ONYQuAa-CB_Rrw7Tw  exzXjy7Y2ICX_BEVTDWpJA  Ymtd4cQypep_QZJ-qJsHuA   \n",
       "44  --9e1ONYQuAa-CB_Rrw7Tw  rCP-ch_235BvetH7-nUCjw  KcEfVfc5nTPBDonYjJ3wOw   \n",
       "45  --9e1ONYQuAa-CB_Rrw7Tw  FpBeif79_T5J2JbFKaQllw  Zh13GuwMkq_6GQNM0j6lZA   \n",
       "46  --9e1ONYQuAa-CB_Rrw7Tw  tF8eLBFrz6t8UtvLDzvfjA  J2Whj5sj9acVngta80T4Yg   \n",
       "47  --9e1ONYQuAa-CB_Rrw7Tw  5NZMdncKIgJtrsUaGySiAg  3WUGp1Xel8AuOMix6feqqA   \n",
       "48  --9e1ONYQuAa-CB_Rrw7Tw  7URvy5Ea2dMZAPOlkRb6FA  KFn24Ew8Dj7PEylzKWO-uQ   \n",
       "49  --9e1ONYQuAa-CB_Rrw7Tw  6YNPXoq41qTMZ2TEi0BYUA  2S6gWE-K3DHNcKYYSgN7xA   \n",
       "\n",
       "    stars        date                                               text  \\\n",
       "0       5  2011-08-24  As part of a birthday celebration weekend for ...   \n",
       "1       5  2016-03-31  This is mine and my fiancé's favorite steakhou...   \n",
       "2       4  2015-06-29  Nice atmosphere and wonderful service. I had t...   \n",
       "3       5  2015-03-16  Every year a group of us (we had 6 this year) ...   \n",
       "4       5  2011-12-20  We had early reservations for a party of 9 for...   \n",
       "5       5  2016-02-10  Truly Fantastic!  Best Steak ever. Service was...   \n",
       "6       5  2017-02-14  Delmonico Steakhouse is a steakhouse owned by ...   \n",
       "7       4  2013-01-16  Its a fancy steakhouse in Vegas.  Sure it was ...   \n",
       "8       5  2011-09-03  This is what every restaurant aspires to be......   \n",
       "9       4  2017-05-28  One of the top steak places I've had in Vegas ...   \n",
       "10      5  2010-02-20  if you're looking for a fancy steakhouse in ve...   \n",
       "11      5  2017-08-25  This place is superb from the customer service...   \n",
       "12      5  2016-07-13  We decided to give Delmonico's a try because w...   \n",
       "13      4  2008-12-19  So I was in town again and felt like having st...   \n",
       "14      4  2014-06-27  This was a great venue to have some dinner and...   \n",
       "15      5  2016-04-01  Absolutely impressed with this restaurant. The...   \n",
       "16      4  2010-09-09  I went here for my friend's bachelor party's d...   \n",
       "17      3  2008-06-18  (Jan\\/ 2006)\\n\\nTuna tartare-- take a back sea...   \n",
       "18      2  2009-10-01  2nd strike emeril! i was diappointed with emer...   \n",
       "19      2  2017-02-12  Lousy steak. \\n\\nThe service was great - Todd,...   \n",
       "20      5  2014-10-27  Walked in on a Sunday evening, no reservations...   \n",
       "21      5  2008-05-15  It's been a long time since I been to Delmonic...   \n",
       "22      4  2009-03-18  I came here for my 20th birthday just recently...   \n",
       "23      4  2011-05-13  Soo pricey but what a delicious meal.  My file...   \n",
       "24      4  2014-12-21  The food was okay\\/good and service was great....   \n",
       "25      4  2012-10-19  As far as steakhouses goes in Las Vegas, you c...   \n",
       "26      5  2014-06-03  Being from California where foie gras is banne...   \n",
       "27      4  2013-05-17  Great steak house. The spinach salad with baco...   \n",
       "28      4  2011-02-18  Been here twice for lunch (once today and once...   \n",
       "29      4  2010-10-19  I've watched Emeril on the FoodNetwork Channel...   \n",
       "30      4  2011-05-31  The lamb is delicious! The atmosphere is wonde...   \n",
       "31      5  2013-09-22  The Ben:  This is my steakhouse when I'm in La...   \n",
       "32      5  2011-01-20  Phenomenal!  Came back here to celebrate a bir...   \n",
       "33      4  2011-08-13  Looking for a good steakhouse while in Vegas w...   \n",
       "34      1  2016-10-15  This was supposed to be a very special dinner ...   \n",
       "35      4  2015-02-03  First off, to make the most of your experience...   \n",
       "36      2  2016-03-03  My wife and I came here for our anniversary ce...   \n",
       "37      5  2016-07-13  Wow, is the first word that comes to mind when...   \n",
       "38      4  2012-10-09  This is not the Delmonicos restaurant of NY. T...   \n",
       "39      5  2012-05-14  This is my favorite restaurant in the United S...   \n",
       "40      4  2014-05-30  Service was great... !! We sat down to a late ...   \n",
       "41      5  2015-12-02  I forgot to review this restaurant from a few ...   \n",
       "42      5  2007-08-13  I blame my father for my inordinate love of al...   \n",
       "43      5  2017-12-10  I got the filet mignon with seared foigras and...   \n",
       "44      3  2012-07-03  A bit torn about this place...\\n\\nI heard thro...   \n",
       "45      5  2014-11-18  This is my second visit to one of emeril's ste...   \n",
       "46      5  2013-05-27  Awesome food with excellent service\\nWe shared...   \n",
       "47      5  2017-07-07  Great service.  Perfect bone-in ribeye steak. ...   \n",
       "48      2  2012-03-02  We were disappointed. Went there for anniversa...   \n",
       "49      2  2016-02-16  The food was decent, but the service was defin...   \n",
       "\n",
       "   useful funny cool                    name    ...     \\\n",
       "0       1     0    0  \"Delmonico Steakhouse\"    ...      \n",
       "1       0     0    0  \"Delmonico Steakhouse\"    ...      \n",
       "2       0     0    0  \"Delmonico Steakhouse\"    ...      \n",
       "3       1     0    0  \"Delmonico Steakhouse\"    ...      \n",
       "4       9     7    8  \"Delmonico Steakhouse\"    ...      \n",
       "5       0     0    0  \"Delmonico Steakhouse\"    ...      \n",
       "6       0     0    0  \"Delmonico Steakhouse\"    ...      \n",
       "7       0     0    0  \"Delmonico Steakhouse\"    ...      \n",
       "8       0     0    0  \"Delmonico Steakhouse\"    ...      \n",
       "9       2     0    1  \"Delmonico Steakhouse\"    ...      \n",
       "10      6     5    2  \"Delmonico Steakhouse\"    ...      \n",
       "11      0     0    0  \"Delmonico Steakhouse\"    ...      \n",
       "12      0     0    0  \"Delmonico Steakhouse\"    ...      \n",
       "13      0     0    0  \"Delmonico Steakhouse\"    ...      \n",
       "14      0     0    0  \"Delmonico Steakhouse\"    ...      \n",
       "15      0     0    0  \"Delmonico Steakhouse\"    ...      \n",
       "16      1     0    1  \"Delmonico Steakhouse\"    ...      \n",
       "17      1     1    1  \"Delmonico Steakhouse\"    ...      \n",
       "18      0     0    0  \"Delmonico Steakhouse\"    ...      \n",
       "19      3     1    1  \"Delmonico Steakhouse\"    ...      \n",
       "20      0     0    0  \"Delmonico Steakhouse\"    ...      \n",
       "21      0     0    0  \"Delmonico Steakhouse\"    ...      \n",
       "22      2     2    2  \"Delmonico Steakhouse\"    ...      \n",
       "23      0     0    0  \"Delmonico Steakhouse\"    ...      \n",
       "24      2     0    1  \"Delmonico Steakhouse\"    ...      \n",
       "25      0     0    0  \"Delmonico Steakhouse\"    ...      \n",
       "26      1     0    0  \"Delmonico Steakhouse\"    ...      \n",
       "27      1     0    1  \"Delmonico Steakhouse\"    ...      \n",
       "28      1     0    0  \"Delmonico Steakhouse\"    ...      \n",
       "29      1     1    1  \"Delmonico Steakhouse\"    ...      \n",
       "30      1     0    0  \"Delmonico Steakhouse\"    ...      \n",
       "31     11     7    8  \"Delmonico Steakhouse\"    ...      \n",
       "32      2     0    0  \"Delmonico Steakhouse\"    ...      \n",
       "33      0     0    0  \"Delmonico Steakhouse\"    ...      \n",
       "34      0     0    0  \"Delmonico Steakhouse\"    ...      \n",
       "35      3     2    2  \"Delmonico Steakhouse\"    ...      \n",
       "36      2     2    0  \"Delmonico Steakhouse\"    ...      \n",
       "37      0     0    0  \"Delmonico Steakhouse\"    ...      \n",
       "38      2     0    0  \"Delmonico Steakhouse\"    ...      \n",
       "39      1     1    1  \"Delmonico Steakhouse\"    ...      \n",
       "40      1     0    0  \"Delmonico Steakhouse\"    ...      \n",
       "41      0     0    0  \"Delmonico Steakhouse\"    ...      \n",
       "42      0     0    0  \"Delmonico Steakhouse\"    ...      \n",
       "43      0     0    0  \"Delmonico Steakhouse\"    ...      \n",
       "44      2     0    0  \"Delmonico Steakhouse\"    ...      \n",
       "45      0     0    0  \"Delmonico Steakhouse\"    ...      \n",
       "46      0     0    0  \"Delmonico Steakhouse\"    ...      \n",
       "47      0     0    0  \"Delmonico Steakhouse\"    ...      \n",
       "48      0     0    0  \"Delmonico Steakhouse\"    ...      \n",
       "49      0     0    0  \"Delmonico Steakhouse\"    ...      \n",
       "\n",
       "                    address       city state postal_code   latitude  \\\n",
       "0   \"3355 Las Vegas Blvd S\"  Las Vegas    NV       89109  36.123183   \n",
       "1   \"3355 Las Vegas Blvd S\"  Las Vegas    NV       89109  36.123183   \n",
       "2   \"3355 Las Vegas Blvd S\"  Las Vegas    NV       89109  36.123183   \n",
       "3   \"3355 Las Vegas Blvd S\"  Las Vegas    NV       89109  36.123183   \n",
       "4   \"3355 Las Vegas Blvd S\"  Las Vegas    NV       89109  36.123183   \n",
       "5   \"3355 Las Vegas Blvd S\"  Las Vegas    NV       89109  36.123183   \n",
       "6   \"3355 Las Vegas Blvd S\"  Las Vegas    NV       89109  36.123183   \n",
       "7   \"3355 Las Vegas Blvd S\"  Las Vegas    NV       89109  36.123183   \n",
       "8   \"3355 Las Vegas Blvd S\"  Las Vegas    NV       89109  36.123183   \n",
       "9   \"3355 Las Vegas Blvd S\"  Las Vegas    NV       89109  36.123183   \n",
       "10  \"3355 Las Vegas Blvd S\"  Las Vegas    NV       89109  36.123183   \n",
       "11  \"3355 Las Vegas Blvd S\"  Las Vegas    NV       89109  36.123183   \n",
       "12  \"3355 Las Vegas Blvd S\"  Las Vegas    NV       89109  36.123183   \n",
       "13  \"3355 Las Vegas Blvd S\"  Las Vegas    NV       89109  36.123183   \n",
       "14  \"3355 Las Vegas Blvd S\"  Las Vegas    NV       89109  36.123183   \n",
       "15  \"3355 Las Vegas Blvd S\"  Las Vegas    NV       89109  36.123183   \n",
       "16  \"3355 Las Vegas Blvd S\"  Las Vegas    NV       89109  36.123183   \n",
       "17  \"3355 Las Vegas Blvd S\"  Las Vegas    NV       89109  36.123183   \n",
       "18  \"3355 Las Vegas Blvd S\"  Las Vegas    NV       89109  36.123183   \n",
       "19  \"3355 Las Vegas Blvd S\"  Las Vegas    NV       89109  36.123183   \n",
       "20  \"3355 Las Vegas Blvd S\"  Las Vegas    NV       89109  36.123183   \n",
       "21  \"3355 Las Vegas Blvd S\"  Las Vegas    NV       89109  36.123183   \n",
       "22  \"3355 Las Vegas Blvd S\"  Las Vegas    NV       89109  36.123183   \n",
       "23  \"3355 Las Vegas Blvd S\"  Las Vegas    NV       89109  36.123183   \n",
       "24  \"3355 Las Vegas Blvd S\"  Las Vegas    NV       89109  36.123183   \n",
       "25  \"3355 Las Vegas Blvd S\"  Las Vegas    NV       89109  36.123183   \n",
       "26  \"3355 Las Vegas Blvd S\"  Las Vegas    NV       89109  36.123183   \n",
       "27  \"3355 Las Vegas Blvd S\"  Las Vegas    NV       89109  36.123183   \n",
       "28  \"3355 Las Vegas Blvd S\"  Las Vegas    NV       89109  36.123183   \n",
       "29  \"3355 Las Vegas Blvd S\"  Las Vegas    NV       89109  36.123183   \n",
       "30  \"3355 Las Vegas Blvd S\"  Las Vegas    NV       89109  36.123183   \n",
       "31  \"3355 Las Vegas Blvd S\"  Las Vegas    NV       89109  36.123183   \n",
       "32  \"3355 Las Vegas Blvd S\"  Las Vegas    NV       89109  36.123183   \n",
       "33  \"3355 Las Vegas Blvd S\"  Las Vegas    NV       89109  36.123183   \n",
       "34  \"3355 Las Vegas Blvd S\"  Las Vegas    NV       89109  36.123183   \n",
       "35  \"3355 Las Vegas Blvd S\"  Las Vegas    NV       89109  36.123183   \n",
       "36  \"3355 Las Vegas Blvd S\"  Las Vegas    NV       89109  36.123183   \n",
       "37  \"3355 Las Vegas Blvd S\"  Las Vegas    NV       89109  36.123183   \n",
       "38  \"3355 Las Vegas Blvd S\"  Las Vegas    NV       89109  36.123183   \n",
       "39  \"3355 Las Vegas Blvd S\"  Las Vegas    NV       89109  36.123183   \n",
       "40  \"3355 Las Vegas Blvd S\"  Las Vegas    NV       89109  36.123183   \n",
       "41  \"3355 Las Vegas Blvd S\"  Las Vegas    NV       89109  36.123183   \n",
       "42  \"3355 Las Vegas Blvd S\"  Las Vegas    NV       89109  36.123183   \n",
       "43  \"3355 Las Vegas Blvd S\"  Las Vegas    NV       89109  36.123183   \n",
       "44  \"3355 Las Vegas Blvd S\"  Las Vegas    NV       89109  36.123183   \n",
       "45  \"3355 Las Vegas Blvd S\"  Las Vegas    NV       89109  36.123183   \n",
       "46  \"3355 Las Vegas Blvd S\"  Las Vegas    NV       89109  36.123183   \n",
       "47  \"3355 Las Vegas Blvd S\"  Las Vegas    NV       89109  36.123183   \n",
       "48  \"3355 Las Vegas Blvd S\"  Las Vegas    NV       89109  36.123183   \n",
       "49  \"3355 Las Vegas Blvd S\"  Las Vegas    NV       89109  36.123183   \n",
       "\n",
       "    longitude  review_count  is_open                            categories  \\\n",
       "0  -115.16919        1451.0      1.0  Cajun/Creole;Steakhouses;Restaurants   \n",
       "1  -115.16919        1451.0      1.0  Cajun/Creole;Steakhouses;Restaurants   \n",
       "2  -115.16919        1451.0      1.0  Cajun/Creole;Steakhouses;Restaurants   \n",
       "3  -115.16919        1451.0      1.0  Cajun/Creole;Steakhouses;Restaurants   \n",
       "4  -115.16919        1451.0      1.0  Cajun/Creole;Steakhouses;Restaurants   \n",
       "5  -115.16919        1451.0      1.0  Cajun/Creole;Steakhouses;Restaurants   \n",
       "6  -115.16919        1451.0      1.0  Cajun/Creole;Steakhouses;Restaurants   \n",
       "7  -115.16919        1451.0      1.0  Cajun/Creole;Steakhouses;Restaurants   \n",
       "8  -115.16919        1451.0      1.0  Cajun/Creole;Steakhouses;Restaurants   \n",
       "9  -115.16919        1451.0      1.0  Cajun/Creole;Steakhouses;Restaurants   \n",
       "10 -115.16919        1451.0      1.0  Cajun/Creole;Steakhouses;Restaurants   \n",
       "11 -115.16919        1451.0      1.0  Cajun/Creole;Steakhouses;Restaurants   \n",
       "12 -115.16919        1451.0      1.0  Cajun/Creole;Steakhouses;Restaurants   \n",
       "13 -115.16919        1451.0      1.0  Cajun/Creole;Steakhouses;Restaurants   \n",
       "14 -115.16919        1451.0      1.0  Cajun/Creole;Steakhouses;Restaurants   \n",
       "15 -115.16919        1451.0      1.0  Cajun/Creole;Steakhouses;Restaurants   \n",
       "16 -115.16919        1451.0      1.0  Cajun/Creole;Steakhouses;Restaurants   \n",
       "17 -115.16919        1451.0      1.0  Cajun/Creole;Steakhouses;Restaurants   \n",
       "18 -115.16919        1451.0      1.0  Cajun/Creole;Steakhouses;Restaurants   \n",
       "19 -115.16919        1451.0      1.0  Cajun/Creole;Steakhouses;Restaurants   \n",
       "20 -115.16919        1451.0      1.0  Cajun/Creole;Steakhouses;Restaurants   \n",
       "21 -115.16919        1451.0      1.0  Cajun/Creole;Steakhouses;Restaurants   \n",
       "22 -115.16919        1451.0      1.0  Cajun/Creole;Steakhouses;Restaurants   \n",
       "23 -115.16919        1451.0      1.0  Cajun/Creole;Steakhouses;Restaurants   \n",
       "24 -115.16919        1451.0      1.0  Cajun/Creole;Steakhouses;Restaurants   \n",
       "25 -115.16919        1451.0      1.0  Cajun/Creole;Steakhouses;Restaurants   \n",
       "26 -115.16919        1451.0      1.0  Cajun/Creole;Steakhouses;Restaurants   \n",
       "27 -115.16919        1451.0      1.0  Cajun/Creole;Steakhouses;Restaurants   \n",
       "28 -115.16919        1451.0      1.0  Cajun/Creole;Steakhouses;Restaurants   \n",
       "29 -115.16919        1451.0      1.0  Cajun/Creole;Steakhouses;Restaurants   \n",
       "30 -115.16919        1451.0      1.0  Cajun/Creole;Steakhouses;Restaurants   \n",
       "31 -115.16919        1451.0      1.0  Cajun/Creole;Steakhouses;Restaurants   \n",
       "32 -115.16919        1451.0      1.0  Cajun/Creole;Steakhouses;Restaurants   \n",
       "33 -115.16919        1451.0      1.0  Cajun/Creole;Steakhouses;Restaurants   \n",
       "34 -115.16919        1451.0      1.0  Cajun/Creole;Steakhouses;Restaurants   \n",
       "35 -115.16919        1451.0      1.0  Cajun/Creole;Steakhouses;Restaurants   \n",
       "36 -115.16919        1451.0      1.0  Cajun/Creole;Steakhouses;Restaurants   \n",
       "37 -115.16919        1451.0      1.0  Cajun/Creole;Steakhouses;Restaurants   \n",
       "38 -115.16919        1451.0      1.0  Cajun/Creole;Steakhouses;Restaurants   \n",
       "39 -115.16919        1451.0      1.0  Cajun/Creole;Steakhouses;Restaurants   \n",
       "40 -115.16919        1451.0      1.0  Cajun/Creole;Steakhouses;Restaurants   \n",
       "41 -115.16919        1451.0      1.0  Cajun/Creole;Steakhouses;Restaurants   \n",
       "42 -115.16919        1451.0      1.0  Cajun/Creole;Steakhouses;Restaurants   \n",
       "43 -115.16919        1451.0      1.0  Cajun/Creole;Steakhouses;Restaurants   \n",
       "44 -115.16919        1451.0      1.0  Cajun/Creole;Steakhouses;Restaurants   \n",
       "45 -115.16919        1451.0      1.0  Cajun/Creole;Steakhouses;Restaurants   \n",
       "46 -115.16919        1451.0      1.0  Cajun/Creole;Steakhouses;Restaurants   \n",
       "47 -115.16919        1451.0      1.0  Cajun/Creole;Steakhouses;Restaurants   \n",
       "48 -115.16919        1451.0      1.0  Cajun/Creole;Steakhouses;Restaurants   \n",
       "49 -115.16919        1451.0      1.0  Cajun/Creole;Steakhouses;Restaurants   \n",
       "\n",
       "   avg_stars  \n",
       "0        4.0  \n",
       "1        4.0  \n",
       "2        4.0  \n",
       "3        4.0  \n",
       "4        4.0  \n",
       "5        4.0  \n",
       "6        4.0  \n",
       "7        4.0  \n",
       "8        4.0  \n",
       "9        4.0  \n",
       "10       4.0  \n",
       "11       4.0  \n",
       "12       4.0  \n",
       "13       4.0  \n",
       "14       4.0  \n",
       "15       4.0  \n",
       "16       4.0  \n",
       "17       4.0  \n",
       "18       4.0  \n",
       "19       4.0  \n",
       "20       4.0  \n",
       "21       4.0  \n",
       "22       4.0  \n",
       "23       4.0  \n",
       "24       4.0  \n",
       "25       4.0  \n",
       "26       4.0  \n",
       "27       4.0  \n",
       "28       4.0  \n",
       "29       4.0  \n",
       "30       4.0  \n",
       "31       4.0  \n",
       "32       4.0  \n",
       "33       4.0  \n",
       "34       4.0  \n",
       "35       4.0  \n",
       "36       4.0  \n",
       "37       4.0  \n",
       "38       4.0  \n",
       "39       4.0  \n",
       "40       4.0  \n",
       "41       4.0  \n",
       "42       4.0  \n",
       "43       4.0  \n",
       "44       4.0  \n",
       "45       4.0  \n",
       "46       4.0  \n",
       "47       4.0  \n",
       "48       4.0  \n",
       "49       4.0  \n",
       "\n",
       "[50 rows x 21 columns]"
      ]
     },
     "execution_count": 5,
     "metadata": {},
     "output_type": "execute_result"
    }
   ],
   "source": [
    "data.head(50)"
   ]
  },
  {
   "cell_type": "code",
   "execution_count": 6,
   "metadata": {},
   "outputs": [
    {
     "data": {
      "text/plain": [
       "array(['Cajun/Creole;Steakhouses;Restaurants',\n",
       "       'Food;American (New);Nightlife;Bars;Beer;Wine & Spirits;Restaurants',\n",
       "       'Sports Bars;Pizza;Restaurants;Nightlife;Bars', ...,\n",
       "       'Hawaiian;Food;Filipino;Restaurants;Food Trucks',\n",
       "       'Sushi Bars;Japanese;Restaurants;Tapas Bars',\n",
       "       'Nightlife;Tex-Mex;Mexican;Restaurants;Bars'], dtype=object)"
      ]
     },
     "execution_count": 6,
     "metadata": {},
     "output_type": "execute_result"
    }
   ],
   "source": [
    "data[\"categories\"].unique()"
   ]
  },
  {
   "cell_type": "code",
   "execution_count": 7,
   "metadata": {},
   "outputs": [
    {
     "name": "stdout",
     "output_type": "stream",
     "text": [
      "<class 'pandas.core.frame.DataFrame'>\n",
      "RangeIndex: 1041834 entries, 0 to 1041833\n",
      "Data columns (total 21 columns):\n",
      "business_id     1041834 non-null object\n",
      "review_id       1041834 non-null object\n",
      "user_id         1041834 non-null object\n",
      "stars           1041834 non-null int64\n",
      "date            1041834 non-null object\n",
      "text            1041834 non-null object\n",
      "useful          1041833 non-null object\n",
      "funny           1041833 non-null object\n",
      "cool            1041833 non-null object\n",
      "name            1041833 non-null object\n",
      "neighborhood    874289 non-null object\n",
      "address         1041833 non-null object\n",
      "city            1041833 non-null object\n",
      "state           1041833 non-null object\n",
      "postal_code     1041524 non-null object\n",
      "latitude        1041833 non-null float64\n",
      "longitude       1041832 non-null float64\n",
      "review_count    1041832 non-null float64\n",
      "is_open         1041832 non-null float64\n",
      "categories      1041832 non-null object\n",
      "avg_stars       1041832 non-null float64\n",
      "dtypes: float64(5), int64(1), object(15)\n",
      "memory usage: 166.9+ MB\n"
     ]
    }
   ],
   "source": [
    "data.info()"
   ]
  },
  {
   "cell_type": "markdown",
   "metadata": {},
   "source": [
    "## General Cleaning of the Data"
   ]
  },
  {
   "cell_type": "markdown",
   "metadata": {},
   "source": [
    "Here, We will be dropping all features we will not be using in our analysis"
   ]
  },
  {
   "cell_type": "code",
   "execution_count": 10,
   "metadata": {},
   "outputs": [
    {
     "data": {
      "text/plain": [
       "Index(['business_id', 'review_id', 'user_id', 'stars', 'date', 'text',\n",
       "       'useful', 'funny', 'cool', 'name', 'neighborhood', 'address', 'city',\n",
       "       'state', 'postal_code', 'latitude', 'longitude', 'review_count',\n",
       "       'is_open', 'categories', 'avg_stars'],\n",
       "      dtype='object')"
      ]
     },
     "execution_count": 10,
     "metadata": {},
     "output_type": "execute_result"
    }
   ],
   "source": [
    "data.columns"
   ]
  },
  {
   "cell_type": "code",
   "execution_count": 10,
   "metadata": {},
   "outputs": [],
   "source": [
    "cols_to_drop = [\"neighborhood\", \"postal_code\", \"address\"]\n",
    "\n",
    "# dropping neighborhood \n",
    "data.drop(cols_to_drop, axis=1, inplace=True)\n",
    "\n",
    "# # dropping restaurants that are no longer open\n",
    "# data = data.drop(data[data[\"is_open\"] != 1.0].index)"
   ]
  },
  {
   "cell_type": "code",
   "execution_count": 11,
   "metadata": {
    "scrolled": true
   },
   "outputs": [
    {
     "data": {
      "text/html": [
       "<div>\n",
       "<style scoped>\n",
       "    .dataframe tbody tr th:only-of-type {\n",
       "        vertical-align: middle;\n",
       "    }\n",
       "\n",
       "    .dataframe tbody tr th {\n",
       "        vertical-align: top;\n",
       "    }\n",
       "\n",
       "    .dataframe thead th {\n",
       "        text-align: right;\n",
       "    }\n",
       "</style>\n",
       "<table border=\"1\" class=\"dataframe\">\n",
       "  <thead>\n",
       "    <tr style=\"text-align: right;\">\n",
       "      <th></th>\n",
       "      <th>business_id</th>\n",
       "      <th>review_id</th>\n",
       "      <th>user_id</th>\n",
       "      <th>stars</th>\n",
       "      <th>date</th>\n",
       "      <th>text</th>\n",
       "      <th>useful</th>\n",
       "      <th>funny</th>\n",
       "      <th>cool</th>\n",
       "      <th>name</th>\n",
       "      <th>city</th>\n",
       "      <th>state</th>\n",
       "      <th>latitude</th>\n",
       "      <th>longitude</th>\n",
       "      <th>review_count</th>\n",
       "      <th>is_open</th>\n",
       "      <th>categories</th>\n",
       "      <th>avg_stars</th>\n",
       "    </tr>\n",
       "  </thead>\n",
       "  <tbody>\n",
       "    <tr>\n",
       "      <th>0</th>\n",
       "      <td>--9e1ONYQuAa-CB_Rrw7Tw</td>\n",
       "      <td>KEAHrqN-1DV0gmuNHM6Eww</td>\n",
       "      <td>xP1IYu2eGfxMWV9tjrurIw</td>\n",
       "      <td>5</td>\n",
       "      <td>2011-08-24</td>\n",
       "      <td>As part of a birthday celebration weekend for ...</td>\n",
       "      <td>1</td>\n",
       "      <td>0</td>\n",
       "      <td>0</td>\n",
       "      <td>\"Delmonico Steakhouse\"</td>\n",
       "      <td>Las Vegas</td>\n",
       "      <td>NV</td>\n",
       "      <td>36.123183</td>\n",
       "      <td>-115.16919</td>\n",
       "      <td>1451.0</td>\n",
       "      <td>1.0</td>\n",
       "      <td>Cajun/Creole;Steakhouses;Restaurants</td>\n",
       "      <td>4.0</td>\n",
       "    </tr>\n",
       "    <tr>\n",
       "      <th>1</th>\n",
       "      <td>--9e1ONYQuAa-CB_Rrw7Tw</td>\n",
       "      <td>6SgvNWJltnZhW7duJgZ42w</td>\n",
       "      <td>oFyOUOeGTRZhFPF9uTqrTQ</td>\n",
       "      <td>5</td>\n",
       "      <td>2016-03-31</td>\n",
       "      <td>This is mine and my fiancé's favorite steakhou...</td>\n",
       "      <td>0</td>\n",
       "      <td>0</td>\n",
       "      <td>0</td>\n",
       "      <td>\"Delmonico Steakhouse\"</td>\n",
       "      <td>Las Vegas</td>\n",
       "      <td>NV</td>\n",
       "      <td>36.123183</td>\n",
       "      <td>-115.16919</td>\n",
       "      <td>1451.0</td>\n",
       "      <td>1.0</td>\n",
       "      <td>Cajun/Creole;Steakhouses;Restaurants</td>\n",
       "      <td>4.0</td>\n",
       "    </tr>\n",
       "    <tr>\n",
       "      <th>2</th>\n",
       "      <td>--9e1ONYQuAa-CB_Rrw7Tw</td>\n",
       "      <td>iwx6s6yQxc7yjS7NFANZig</td>\n",
       "      <td>2aeNFntqY2QDZLADNo8iQQ</td>\n",
       "      <td>4</td>\n",
       "      <td>2015-06-29</td>\n",
       "      <td>Nice atmosphere and wonderful service. I had t...</td>\n",
       "      <td>0</td>\n",
       "      <td>0</td>\n",
       "      <td>0</td>\n",
       "      <td>\"Delmonico Steakhouse\"</td>\n",
       "      <td>Las Vegas</td>\n",
       "      <td>NV</td>\n",
       "      <td>36.123183</td>\n",
       "      <td>-115.16919</td>\n",
       "      <td>1451.0</td>\n",
       "      <td>1.0</td>\n",
       "      <td>Cajun/Creole;Steakhouses;Restaurants</td>\n",
       "      <td>4.0</td>\n",
       "    </tr>\n",
       "    <tr>\n",
       "      <th>3</th>\n",
       "      <td>--9e1ONYQuAa-CB_Rrw7Tw</td>\n",
       "      <td>UVUMu_bELdA56Ryfbur-DA</td>\n",
       "      <td>gmPP4YFrgYsYQqPYokMgFA</td>\n",
       "      <td>5</td>\n",
       "      <td>2015-03-16</td>\n",
       "      <td>Every year a group of us (we had 6 this year) ...</td>\n",
       "      <td>1</td>\n",
       "      <td>0</td>\n",
       "      <td>0</td>\n",
       "      <td>\"Delmonico Steakhouse\"</td>\n",
       "      <td>Las Vegas</td>\n",
       "      <td>NV</td>\n",
       "      <td>36.123183</td>\n",
       "      <td>-115.16919</td>\n",
       "      <td>1451.0</td>\n",
       "      <td>1.0</td>\n",
       "      <td>Cajun/Creole;Steakhouses;Restaurants</td>\n",
       "      <td>4.0</td>\n",
       "    </tr>\n",
       "    <tr>\n",
       "      <th>4</th>\n",
       "      <td>--9e1ONYQuAa-CB_Rrw7Tw</td>\n",
       "      <td>Jjz9W-wBkoBoMcB8ZQs5zQ</td>\n",
       "      <td>9bxdPvAhP6cuipD5s2UnCg</td>\n",
       "      <td>5</td>\n",
       "      <td>2011-12-20</td>\n",
       "      <td>We had early reservations for a party of 9 for...</td>\n",
       "      <td>9</td>\n",
       "      <td>7</td>\n",
       "      <td>8</td>\n",
       "      <td>\"Delmonico Steakhouse\"</td>\n",
       "      <td>Las Vegas</td>\n",
       "      <td>NV</td>\n",
       "      <td>36.123183</td>\n",
       "      <td>-115.16919</td>\n",
       "      <td>1451.0</td>\n",
       "      <td>1.0</td>\n",
       "      <td>Cajun/Creole;Steakhouses;Restaurants</td>\n",
       "      <td>4.0</td>\n",
       "    </tr>\n",
       "  </tbody>\n",
       "</table>\n",
       "</div>"
      ],
      "text/plain": [
       "              business_id               review_id                 user_id  \\\n",
       "0  --9e1ONYQuAa-CB_Rrw7Tw  KEAHrqN-1DV0gmuNHM6Eww  xP1IYu2eGfxMWV9tjrurIw   \n",
       "1  --9e1ONYQuAa-CB_Rrw7Tw  6SgvNWJltnZhW7duJgZ42w  oFyOUOeGTRZhFPF9uTqrTQ   \n",
       "2  --9e1ONYQuAa-CB_Rrw7Tw  iwx6s6yQxc7yjS7NFANZig  2aeNFntqY2QDZLADNo8iQQ   \n",
       "3  --9e1ONYQuAa-CB_Rrw7Tw  UVUMu_bELdA56Ryfbur-DA  gmPP4YFrgYsYQqPYokMgFA   \n",
       "4  --9e1ONYQuAa-CB_Rrw7Tw  Jjz9W-wBkoBoMcB8ZQs5zQ  9bxdPvAhP6cuipD5s2UnCg   \n",
       "\n",
       "   stars        date                                               text  \\\n",
       "0      5  2011-08-24  As part of a birthday celebration weekend for ...   \n",
       "1      5  2016-03-31  This is mine and my fiancé's favorite steakhou...   \n",
       "2      4  2015-06-29  Nice atmosphere and wonderful service. I had t...   \n",
       "3      5  2015-03-16  Every year a group of us (we had 6 this year) ...   \n",
       "4      5  2011-12-20  We had early reservations for a party of 9 for...   \n",
       "\n",
       "  useful funny cool                    name       city state   latitude  \\\n",
       "0      1     0    0  \"Delmonico Steakhouse\"  Las Vegas    NV  36.123183   \n",
       "1      0     0    0  \"Delmonico Steakhouse\"  Las Vegas    NV  36.123183   \n",
       "2      0     0    0  \"Delmonico Steakhouse\"  Las Vegas    NV  36.123183   \n",
       "3      1     0    0  \"Delmonico Steakhouse\"  Las Vegas    NV  36.123183   \n",
       "4      9     7    8  \"Delmonico Steakhouse\"  Las Vegas    NV  36.123183   \n",
       "\n",
       "   longitude  review_count  is_open                            categories  \\\n",
       "0 -115.16919        1451.0      1.0  Cajun/Creole;Steakhouses;Restaurants   \n",
       "1 -115.16919        1451.0      1.0  Cajun/Creole;Steakhouses;Restaurants   \n",
       "2 -115.16919        1451.0      1.0  Cajun/Creole;Steakhouses;Restaurants   \n",
       "3 -115.16919        1451.0      1.0  Cajun/Creole;Steakhouses;Restaurants   \n",
       "4 -115.16919        1451.0      1.0  Cajun/Creole;Steakhouses;Restaurants   \n",
       "\n",
       "   avg_stars  \n",
       "0        4.0  \n",
       "1        4.0  \n",
       "2        4.0  \n",
       "3        4.0  \n",
       "4        4.0  "
      ]
     },
     "execution_count": 11,
     "metadata": {},
     "output_type": "execute_result"
    }
   ],
   "source": [
    "data.head()"
   ]
  },
  {
   "cell_type": "code",
   "execution_count": null,
   "metadata": {},
   "outputs": [],
   "source": []
  },
  {
   "cell_type": "markdown",
   "metadata": {},
   "source": [
    "Now, we need to identify the language the reviews are written in, and then decide whether or not to drop them. "
   ]
  },
  {
   "cell_type": "code",
   "execution_count": 13,
   "metadata": {},
   "outputs": [],
   "source": [
    "# checking out the types of languages we are dealing with\n",
    "lang = []\n",
    "for text in data[\"text\"]:\n",
    "    lang.append(detect(text))\n",
    "\n",
    "print(Counter(lang))"
   ]
  },
  {
   "cell_type": "code",
   "execution_count": 14,
   "metadata": {},
   "outputs": [],
   "source": [
    "# creating a language identifying feature \n",
    "data[\"lang\"] = data[\"text\"].apply(lambda x: detect(x))"
   ]
  },
  {
   "cell_type": "code",
   "execution_count": 15,
   "metadata": {},
   "outputs": [],
   "source": [
    "# dropping reviews that arent english \n",
    "data = data.drop(data[data[\"lang\"] != 'en'].index)"
   ]
  },
  {
   "cell_type": "markdown",
   "metadata": {},
   "source": [
    "## Feature Creation "
   ]
  },
  {
   "cell_type": "markdown",
   "metadata": {},
   "source": [
    "Here, we will be creating additional features we may wish to use for further exploration and analysis"
   ]
  },
  {
   "cell_type": "code",
   "execution_count": 17,
   "metadata": {},
   "outputs": [],
   "source": [
    "# creating a sentiment score feature \n",
    "data[\"sentiment_score\"] = data[\"text\"].apply(lambda x: TextBlob(x).polarity)"
   ]
  },
  {
   "cell_type": "code",
   "execution_count": 18,
   "metadata": {},
   "outputs": [],
   "source": [
    "# creating a length of review feature \n",
    "data[\"review_length\"] = data[\"text\"].apply(len)"
   ]
  },
  {
   "cell_type": "code",
   "execution_count": 19,
   "metadata": {},
   "outputs": [],
   "source": [
    "# creating a subjectivity score feature\n",
    "data[\"subjectivity_score\"] = data[\"text\"].apply(lambda x: TextBlob(x).subjectivity)"
   ]
  },
  {
   "cell_type": "code",
   "execution_count": 20,
   "metadata": {},
   "outputs": [
    {
     "data": {
      "text/html": [
       "<div>\n",
       "<style scoped>\n",
       "    .dataframe tbody tr th:only-of-type {\n",
       "        vertical-align: middle;\n",
       "    }\n",
       "\n",
       "    .dataframe tbody tr th {\n",
       "        vertical-align: top;\n",
       "    }\n",
       "\n",
       "    .dataframe thead th {\n",
       "        text-align: right;\n",
       "    }\n",
       "</style>\n",
       "<table border=\"1\" class=\"dataframe\">\n",
       "  <thead>\n",
       "    <tr style=\"text-align: right;\">\n",
       "      <th></th>\n",
       "      <th>business_id</th>\n",
       "      <th>review_id</th>\n",
       "      <th>user_id</th>\n",
       "      <th>stars</th>\n",
       "      <th>date</th>\n",
       "      <th>text</th>\n",
       "      <th>useful</th>\n",
       "      <th>funny</th>\n",
       "      <th>cool</th>\n",
       "      <th>name</th>\n",
       "      <th>...</th>\n",
       "      <th>latitude</th>\n",
       "      <th>longitude</th>\n",
       "      <th>review_count</th>\n",
       "      <th>is_open</th>\n",
       "      <th>categories</th>\n",
       "      <th>avg_stars</th>\n",
       "      <th>lang</th>\n",
       "      <th>sentiment_score</th>\n",
       "      <th>review_length</th>\n",
       "      <th>subjectivity_score</th>\n",
       "    </tr>\n",
       "  </thead>\n",
       "  <tbody>\n",
       "    <tr>\n",
       "      <th>0</th>\n",
       "      <td>--9e1ONYQuAa-CB_Rrw7Tw</td>\n",
       "      <td>KEAHrqN-1DV0gmuNHM6Eww</td>\n",
       "      <td>xP1IYu2eGfxMWV9tjrurIw</td>\n",
       "      <td>5</td>\n",
       "      <td>2011-08-24</td>\n",
       "      <td>As part of a birthday celebration weekend for ...</td>\n",
       "      <td>1</td>\n",
       "      <td>0</td>\n",
       "      <td>0</td>\n",
       "      <td>\"Delmonico Steakhouse\"</td>\n",
       "      <td>...</td>\n",
       "      <td>36.123183</td>\n",
       "      <td>-115.16919</td>\n",
       "      <td>1451.0</td>\n",
       "      <td>1.0</td>\n",
       "      <td>Cajun/Creole;Steakhouses;Restaurants</td>\n",
       "      <td>4.0</td>\n",
       "      <td>en</td>\n",
       "      <td>0.405723</td>\n",
       "      <td>1674</td>\n",
       "      <td>0.673525</td>\n",
       "    </tr>\n",
       "    <tr>\n",
       "      <th>1</th>\n",
       "      <td>--9e1ONYQuAa-CB_Rrw7Tw</td>\n",
       "      <td>6SgvNWJltnZhW7duJgZ42w</td>\n",
       "      <td>oFyOUOeGTRZhFPF9uTqrTQ</td>\n",
       "      <td>5</td>\n",
       "      <td>2016-03-31</td>\n",
       "      <td>This is mine and my fiancé's favorite steakhou...</td>\n",
       "      <td>0</td>\n",
       "      <td>0</td>\n",
       "      <td>0</td>\n",
       "      <td>\"Delmonico Steakhouse\"</td>\n",
       "      <td>...</td>\n",
       "      <td>36.123183</td>\n",
       "      <td>-115.16919</td>\n",
       "      <td>1451.0</td>\n",
       "      <td>1.0</td>\n",
       "      <td>Cajun/Creole;Steakhouses;Restaurants</td>\n",
       "      <td>4.0</td>\n",
       "      <td>en</td>\n",
       "      <td>0.284375</td>\n",
       "      <td>341</td>\n",
       "      <td>0.684226</td>\n",
       "    </tr>\n",
       "    <tr>\n",
       "      <th>2</th>\n",
       "      <td>--9e1ONYQuAa-CB_Rrw7Tw</td>\n",
       "      <td>iwx6s6yQxc7yjS7NFANZig</td>\n",
       "      <td>2aeNFntqY2QDZLADNo8iQQ</td>\n",
       "      <td>4</td>\n",
       "      <td>2015-06-29</td>\n",
       "      <td>Nice atmosphere and wonderful service. I had t...</td>\n",
       "      <td>0</td>\n",
       "      <td>0</td>\n",
       "      <td>0</td>\n",
       "      <td>\"Delmonico Steakhouse\"</td>\n",
       "      <td>...</td>\n",
       "      <td>36.123183</td>\n",
       "      <td>-115.16919</td>\n",
       "      <td>1451.0</td>\n",
       "      <td>1.0</td>\n",
       "      <td>Cajun/Creole;Steakhouses;Restaurants</td>\n",
       "      <td>4.0</td>\n",
       "      <td>en</td>\n",
       "      <td>0.383492</td>\n",
       "      <td>417</td>\n",
       "      <td>0.542698</td>\n",
       "    </tr>\n",
       "    <tr>\n",
       "      <th>3</th>\n",
       "      <td>--9e1ONYQuAa-CB_Rrw7Tw</td>\n",
       "      <td>UVUMu_bELdA56Ryfbur-DA</td>\n",
       "      <td>gmPP4YFrgYsYQqPYokMgFA</td>\n",
       "      <td>5</td>\n",
       "      <td>2015-03-16</td>\n",
       "      <td>Every year a group of us (we had 6 this year) ...</td>\n",
       "      <td>1</td>\n",
       "      <td>0</td>\n",
       "      <td>0</td>\n",
       "      <td>\"Delmonico Steakhouse\"</td>\n",
       "      <td>...</td>\n",
       "      <td>36.123183</td>\n",
       "      <td>-115.16919</td>\n",
       "      <td>1451.0</td>\n",
       "      <td>1.0</td>\n",
       "      <td>Cajun/Creole;Steakhouses;Restaurants</td>\n",
       "      <td>4.0</td>\n",
       "      <td>en</td>\n",
       "      <td>0.310536</td>\n",
       "      <td>493</td>\n",
       "      <td>0.625476</td>\n",
       "    </tr>\n",
       "    <tr>\n",
       "      <th>4</th>\n",
       "      <td>--9e1ONYQuAa-CB_Rrw7Tw</td>\n",
       "      <td>Jjz9W-wBkoBoMcB8ZQs5zQ</td>\n",
       "      <td>9bxdPvAhP6cuipD5s2UnCg</td>\n",
       "      <td>5</td>\n",
       "      <td>2011-12-20</td>\n",
       "      <td>We had early reservations for a party of 9 for...</td>\n",
       "      <td>9</td>\n",
       "      <td>7</td>\n",
       "      <td>8</td>\n",
       "      <td>\"Delmonico Steakhouse\"</td>\n",
       "      <td>...</td>\n",
       "      <td>36.123183</td>\n",
       "      <td>-115.16919</td>\n",
       "      <td>1451.0</td>\n",
       "      <td>1.0</td>\n",
       "      <td>Cajun/Creole;Steakhouses;Restaurants</td>\n",
       "      <td>4.0</td>\n",
       "      <td>en</td>\n",
       "      <td>0.272811</td>\n",
       "      <td>1997</td>\n",
       "      <td>0.688721</td>\n",
       "    </tr>\n",
       "  </tbody>\n",
       "</table>\n",
       "<p>5 rows × 22 columns</p>\n",
       "</div>"
      ],
      "text/plain": [
       "              business_id               review_id                 user_id  \\\n",
       "0  --9e1ONYQuAa-CB_Rrw7Tw  KEAHrqN-1DV0gmuNHM6Eww  xP1IYu2eGfxMWV9tjrurIw   \n",
       "1  --9e1ONYQuAa-CB_Rrw7Tw  6SgvNWJltnZhW7duJgZ42w  oFyOUOeGTRZhFPF9uTqrTQ   \n",
       "2  --9e1ONYQuAa-CB_Rrw7Tw  iwx6s6yQxc7yjS7NFANZig  2aeNFntqY2QDZLADNo8iQQ   \n",
       "3  --9e1ONYQuAa-CB_Rrw7Tw  UVUMu_bELdA56Ryfbur-DA  gmPP4YFrgYsYQqPYokMgFA   \n",
       "4  --9e1ONYQuAa-CB_Rrw7Tw  Jjz9W-wBkoBoMcB8ZQs5zQ  9bxdPvAhP6cuipD5s2UnCg   \n",
       "\n",
       "   stars        date                                               text  \\\n",
       "0      5  2011-08-24  As part of a birthday celebration weekend for ...   \n",
       "1      5  2016-03-31  This is mine and my fiancé's favorite steakhou...   \n",
       "2      4  2015-06-29  Nice atmosphere and wonderful service. I had t...   \n",
       "3      5  2015-03-16  Every year a group of us (we had 6 this year) ...   \n",
       "4      5  2011-12-20  We had early reservations for a party of 9 for...   \n",
       "\n",
       "  useful funny cool                    name         ...           latitude  \\\n",
       "0      1     0    0  \"Delmonico Steakhouse\"         ...          36.123183   \n",
       "1      0     0    0  \"Delmonico Steakhouse\"         ...          36.123183   \n",
       "2      0     0    0  \"Delmonico Steakhouse\"         ...          36.123183   \n",
       "3      1     0    0  \"Delmonico Steakhouse\"         ...          36.123183   \n",
       "4      9     7    8  \"Delmonico Steakhouse\"         ...          36.123183   \n",
       "\n",
       "   longitude  review_count  is_open                            categories  \\\n",
       "0 -115.16919        1451.0      1.0  Cajun/Creole;Steakhouses;Restaurants   \n",
       "1 -115.16919        1451.0      1.0  Cajun/Creole;Steakhouses;Restaurants   \n",
       "2 -115.16919        1451.0      1.0  Cajun/Creole;Steakhouses;Restaurants   \n",
       "3 -115.16919        1451.0      1.0  Cajun/Creole;Steakhouses;Restaurants   \n",
       "4 -115.16919        1451.0      1.0  Cajun/Creole;Steakhouses;Restaurants   \n",
       "\n",
       "   avg_stars lang  sentiment_score review_length  subjectivity_score  \n",
       "0        4.0   en         0.405723          1674            0.673525  \n",
       "1        4.0   en         0.284375           341            0.684226  \n",
       "2        4.0   en         0.383492           417            0.542698  \n",
       "3        4.0   en         0.310536           493            0.625476  \n",
       "4        4.0   en         0.272811          1997            0.688721  \n",
       "\n",
       "[5 rows x 22 columns]"
      ]
     },
     "execution_count": 20,
     "metadata": {},
     "output_type": "execute_result"
    }
   ],
   "source": [
    "data.head()"
   ]
  },
  {
   "cell_type": "code",
   "execution_count": 21,
   "metadata": {},
   "outputs": [
    {
     "data": {
      "text/plain": [
       "Index(['business_id', 'review_id', 'user_id', 'stars', 'date', 'text',\n",
       "       'useful', 'funny', 'cool', 'name', 'city', 'state', 'latitude',\n",
       "       'longitude', 'review_count', 'is_open', 'categories', 'avg_stars',\n",
       "       'lang', 'sentiment_score', 'review_length', 'subjectivity_score'],\n",
       "      dtype='object')"
      ]
     },
     "execution_count": 21,
     "metadata": {},
     "output_type": "execute_result"
    }
   ],
   "source": [
    "data.columns"
   ]
  },
  {
   "cell_type": "markdown",
   "metadata": {},
   "source": [
    "## General EDA Through Visualizations "
   ]
  },
  {
   "cell_type": "code",
   "execution_count": 22,
   "metadata": {},
   "outputs": [
    {
     "data": {
      "image/png": "[encoded data removed]",
      "text/plain": [
       "<matplotlib.figure.Figure at 0x7f18f9ba0f60>"
      ]
     },
     "metadata": {},
     "output_type": "display_data"
    }
   ],
   "source": [
    "# distribution of star raitings in our dataset \n",
    "sns.set(style=\"darkgrid\")\n",
    "ax = sns.countplot(x=\"stars\", data=data)\n",
    "plt.savefig('star_dist_bars.png');"
   ]
  },
  {
   "cell_type": "markdown",
   "metadata": {},
   "source": [
    "**Observations**: "
   ]
  },
  {
   "cell_type": "code",
   "execution_count": 23,
   "metadata": {
    "scrolled": true
   },
   "outputs": [
    {
     "data": {
      "image/png": "[encoded data removed]",
      "text/plain": [
       "<matplotlib.figure.Figure at 0x7f18f9d2d7f0>"
      ]
     },
     "metadata": {},
     "output_type": "display_data"
    }
   ],
   "source": [
    "# seeign how review length changed by star raiting \n",
    "g = sns.FacetGrid(data=data, col='stars')\n",
    "g.map(plt.hist, 'review_length', bins=50);\n",
    "plt.savefig('text_length.png')"
   ]
  },
  {
   "cell_type": "markdown",
   "metadata": {},
   "source": [
    "**Observations**: "
   ]
  },
  {
   "cell_type": "code",
   "execution_count": 24,
   "metadata": {},
   "outputs": [],
   "source": [
    "mask = [\"useful\", \"funny\", \"cool\", \"review_length\", \"sentiment_score\", \"subjectivity_score\", \"stars\"]"
   ]
  },
  {
   "cell_type": "code",
   "execution_count": 25,
   "metadata": {},
   "outputs": [],
   "source": [
    "data_feat = data[mask]"
   ]
  },
  {
   "cell_type": "code",
   "execution_count": 26,
   "metadata": {},
   "outputs": [
    {
     "data": {
      "text/html": [
       "<div>\n",
       "<style scoped>\n",
       "    .dataframe tbody tr th:only-of-type {\n",
       "        vertical-align: middle;\n",
       "    }\n",
       "\n",
       "    .dataframe tbody tr th {\n",
       "        vertical-align: top;\n",
       "    }\n",
       "\n",
       "    .dataframe thead th {\n",
       "        text-align: right;\n",
       "    }\n",
       "</style>\n",
       "<table border=\"1\" class=\"dataframe\">\n",
       "  <thead>\n",
       "    <tr style=\"text-align: right;\">\n",
       "      <th></th>\n",
       "      <th>review_length</th>\n",
       "      <th>sentiment_score</th>\n",
       "      <th>subjectivity_score</th>\n",
       "    </tr>\n",
       "  </thead>\n",
       "  <tbody>\n",
       "    <tr>\n",
       "      <th>review_length</th>\n",
       "      <td>1.000000</td>\n",
       "      <td>-0.674871</td>\n",
       "      <td>-0.875956</td>\n",
       "    </tr>\n",
       "    <tr>\n",
       "      <th>sentiment_score</th>\n",
       "      <td>-0.674871</td>\n",
       "      <td>1.000000</td>\n",
       "      <td>0.939763</td>\n",
       "    </tr>\n",
       "    <tr>\n",
       "      <th>subjectivity_score</th>\n",
       "      <td>-0.875956</td>\n",
       "      <td>0.939763</td>\n",
       "      <td>1.000000</td>\n",
       "    </tr>\n",
       "  </tbody>\n",
       "</table>\n",
       "</div>"
      ],
      "text/plain": [
       "                    review_length  sentiment_score  subjectivity_score\n",
       "review_length            1.000000        -0.674871           -0.875956\n",
       "sentiment_score         -0.674871         1.000000            0.939763\n",
       "subjectivity_score      -0.875956         0.939763            1.000000"
      ]
     },
     "execution_count": 26,
     "metadata": {},
     "output_type": "execute_result"
    }
   ],
   "source": [
    "stars = data_feat.groupby('stars').mean()\n",
    "star = stars.corr()\n",
    "star"
   ]
  },
  {
   "cell_type": "code",
   "execution_count": 27,
   "metadata": {},
   "outputs": [
    {
     "name": "stderr",
     "output_type": "stream",
     "text": [
      "/home/schubert/anaconda3/lib/python3.6/site-packages/seaborn/matrix.py:143: DeprecationWarning: elementwise == comparison failed; this will raise an error in the future.\n",
      "  if xticklabels == []:\n",
      "/home/schubert/anaconda3/lib/python3.6/site-packages/seaborn/matrix.py:151: DeprecationWarning: elementwise == comparison failed; this will raise an error in the future.\n",
      "  if yticklabels == []:\n"
     ]
    },
    {
     "data": {
      "image/png": "[encoded data removed]",
      "text/plain": [
       "<matplotlib.figure.Figure at 0x7f18f9c74d30>"
      ]
     },
     "metadata": {},
     "output_type": "display_data"
    }
   ],
   "source": [
    "sns.heatmap(data=stars.corr(), annot=True);"
   ]
  },
  {
   "cell_type": "code",
   "execution_count": 28,
   "metadata": {},
   "outputs": [
    {
     "name": "stderr",
     "output_type": "stream",
     "text": [
      "/home/schubert/anaconda3/lib/python3.6/site-packages/seaborn/matrix.py:143: DeprecationWarning: elementwise == comparison failed; this will raise an error in the future.\n",
      "  if xticklabels == []:\n",
      "/home/schubert/anaconda3/lib/python3.6/site-packages/seaborn/matrix.py:151: DeprecationWarning: elementwise == comparison failed; this will raise an error in the future.\n",
      "  if yticklabels == []:\n"
     ]
    },
    {
     "data": {
      "image/png": "[encoded data removed]",
      "text/plain": [
       "<matplotlib.figure.Figure at 0x7f191314af98>"
      ]
     },
     "metadata": {},
     "output_type": "display_data"
    },
    {
     "data": {
      "text/plain": [
       "<matplotlib.figure.Figure at 0x7f191045a6a0>"
      ]
     },
     "metadata": {},
     "output_type": "display_data"
    }
   ],
   "source": [
    "# Set the default matplotlib figure size to 7x7:\n",
    "fix, ax = plt.subplots(figsize=(15,7))\n",
    "\n",
    "# Generates a mask for the upper triangle (taken from seaborn example gallery)\n",
    "mask = np.zeros_like(star, dtype=np.bool)\n",
    "mask[np.triu_indices_from(mask)] = True\n",
    "\n",
    "# Generating our correlation heatmap\n",
    "ax = sns.heatmap(star, mask=mask, ax=ax, annot = True)\n",
    "\n",
    "# Resize the labels.\n",
    "ax.set_xticklabels(ax.xaxis.get_ticklabels(), fontsize=14)\n",
    "ax.set_yticklabels(ax.yaxis.get_ticklabels(), fontsize=14)\n",
    "\n",
    "plt.show();\n",
    "plt.savefig('feature_corr.png')"
   ]
  },
  {
   "cell_type": "markdown",
   "metadata": {},
   "source": [
    "**Observations**:"
   ]
  },
  {
   "cell_type": "markdown",
   "metadata": {},
   "source": [
    "Things to do\n",
    "- How sentiment affects stars; that whole criss cross match (stars)\n",
    "- "
   ]
  },
  {
   "cell_type": "code",
   "execution_count": 29,
   "metadata": {},
   "outputs": [
    {
     "data": {
      "text/html": [
       "<div>\n",
       "<style scoped>\n",
       "    .dataframe tbody tr th:only-of-type {\n",
       "        vertical-align: middle;\n",
       "    }\n",
       "\n",
       "    .dataframe tbody tr th {\n",
       "        vertical-align: top;\n",
       "    }\n",
       "\n",
       "    .dataframe thead th {\n",
       "        text-align: right;\n",
       "    }\n",
       "</style>\n",
       "<table border=\"1\" class=\"dataframe\">\n",
       "  <thead>\n",
       "    <tr style=\"text-align: right;\">\n",
       "      <th></th>\n",
       "      <th>business_id</th>\n",
       "      <th>review_id</th>\n",
       "      <th>user_id</th>\n",
       "      <th>stars</th>\n",
       "      <th>date</th>\n",
       "      <th>text</th>\n",
       "      <th>useful</th>\n",
       "      <th>funny</th>\n",
       "      <th>cool</th>\n",
       "      <th>name</th>\n",
       "      <th>...</th>\n",
       "      <th>latitude</th>\n",
       "      <th>longitude</th>\n",
       "      <th>review_count</th>\n",
       "      <th>is_open</th>\n",
       "      <th>categories</th>\n",
       "      <th>avg_stars</th>\n",
       "      <th>lang</th>\n",
       "      <th>sentiment_score</th>\n",
       "      <th>review_length</th>\n",
       "      <th>subjectivity_score</th>\n",
       "    </tr>\n",
       "  </thead>\n",
       "  <tbody>\n",
       "    <tr>\n",
       "      <th>0</th>\n",
       "      <td>--9e1ONYQuAa-CB_Rrw7Tw</td>\n",
       "      <td>KEAHrqN-1DV0gmuNHM6Eww</td>\n",
       "      <td>xP1IYu2eGfxMWV9tjrurIw</td>\n",
       "      <td>5</td>\n",
       "      <td>2011-08-24</td>\n",
       "      <td>As part of a birthday celebration weekend for ...</td>\n",
       "      <td>1</td>\n",
       "      <td>0</td>\n",
       "      <td>0</td>\n",
       "      <td>\"Delmonico Steakhouse\"</td>\n",
       "      <td>...</td>\n",
       "      <td>36.123183</td>\n",
       "      <td>-115.16919</td>\n",
       "      <td>1451.0</td>\n",
       "      <td>1.0</td>\n",
       "      <td>Cajun/Creole;Steakhouses;Restaurants</td>\n",
       "      <td>4.0</td>\n",
       "      <td>en</td>\n",
       "      <td>0.405723</td>\n",
       "      <td>1674</td>\n",
       "      <td>0.673525</td>\n",
       "    </tr>\n",
       "    <tr>\n",
       "      <th>1</th>\n",
       "      <td>--9e1ONYQuAa-CB_Rrw7Tw</td>\n",
       "      <td>6SgvNWJltnZhW7duJgZ42w</td>\n",
       "      <td>oFyOUOeGTRZhFPF9uTqrTQ</td>\n",
       "      <td>5</td>\n",
       "      <td>2016-03-31</td>\n",
       "      <td>This is mine and my fiancé's favorite steakhou...</td>\n",
       "      <td>0</td>\n",
       "      <td>0</td>\n",
       "      <td>0</td>\n",
       "      <td>\"Delmonico Steakhouse\"</td>\n",
       "      <td>...</td>\n",
       "      <td>36.123183</td>\n",
       "      <td>-115.16919</td>\n",
       "      <td>1451.0</td>\n",
       "      <td>1.0</td>\n",
       "      <td>Cajun/Creole;Steakhouses;Restaurants</td>\n",
       "      <td>4.0</td>\n",
       "      <td>en</td>\n",
       "      <td>0.284375</td>\n",
       "      <td>341</td>\n",
       "      <td>0.684226</td>\n",
       "    </tr>\n",
       "    <tr>\n",
       "      <th>2</th>\n",
       "      <td>--9e1ONYQuAa-CB_Rrw7Tw</td>\n",
       "      <td>iwx6s6yQxc7yjS7NFANZig</td>\n",
       "      <td>2aeNFntqY2QDZLADNo8iQQ</td>\n",
       "      <td>4</td>\n",
       "      <td>2015-06-29</td>\n",
       "      <td>Nice atmosphere and wonderful service. I had t...</td>\n",
       "      <td>0</td>\n",
       "      <td>0</td>\n",
       "      <td>0</td>\n",
       "      <td>\"Delmonico Steakhouse\"</td>\n",
       "      <td>...</td>\n",
       "      <td>36.123183</td>\n",
       "      <td>-115.16919</td>\n",
       "      <td>1451.0</td>\n",
       "      <td>1.0</td>\n",
       "      <td>Cajun/Creole;Steakhouses;Restaurants</td>\n",
       "      <td>4.0</td>\n",
       "      <td>en</td>\n",
       "      <td>0.383492</td>\n",
       "      <td>417</td>\n",
       "      <td>0.542698</td>\n",
       "    </tr>\n",
       "    <tr>\n",
       "      <th>3</th>\n",
       "      <td>--9e1ONYQuAa-CB_Rrw7Tw</td>\n",
       "      <td>UVUMu_bELdA56Ryfbur-DA</td>\n",
       "      <td>gmPP4YFrgYsYQqPYokMgFA</td>\n",
       "      <td>5</td>\n",
       "      <td>2015-03-16</td>\n",
       "      <td>Every year a group of us (we had 6 this year) ...</td>\n",
       "      <td>1</td>\n",
       "      <td>0</td>\n",
       "      <td>0</td>\n",
       "      <td>\"Delmonico Steakhouse\"</td>\n",
       "      <td>...</td>\n",
       "      <td>36.123183</td>\n",
       "      <td>-115.16919</td>\n",
       "      <td>1451.0</td>\n",
       "      <td>1.0</td>\n",
       "      <td>Cajun/Creole;Steakhouses;Restaurants</td>\n",
       "      <td>4.0</td>\n",
       "      <td>en</td>\n",
       "      <td>0.310536</td>\n",
       "      <td>493</td>\n",
       "      <td>0.625476</td>\n",
       "    </tr>\n",
       "    <tr>\n",
       "      <th>4</th>\n",
       "      <td>--9e1ONYQuAa-CB_Rrw7Tw</td>\n",
       "      <td>Jjz9W-wBkoBoMcB8ZQs5zQ</td>\n",
       "      <td>9bxdPvAhP6cuipD5s2UnCg</td>\n",
       "      <td>5</td>\n",
       "      <td>2011-12-20</td>\n",
       "      <td>We had early reservations for a party of 9 for...</td>\n",
       "      <td>9</td>\n",
       "      <td>7</td>\n",
       "      <td>8</td>\n",
       "      <td>\"Delmonico Steakhouse\"</td>\n",
       "      <td>...</td>\n",
       "      <td>36.123183</td>\n",
       "      <td>-115.16919</td>\n",
       "      <td>1451.0</td>\n",
       "      <td>1.0</td>\n",
       "      <td>Cajun/Creole;Steakhouses;Restaurants</td>\n",
       "      <td>4.0</td>\n",
       "      <td>en</td>\n",
       "      <td>0.272811</td>\n",
       "      <td>1997</td>\n",
       "      <td>0.688721</td>\n",
       "    </tr>\n",
       "  </tbody>\n",
       "</table>\n",
       "<p>5 rows × 22 columns</p>\n",
       "</div>"
      ],
      "text/plain": [
       "              business_id               review_id                 user_id  \\\n",
       "0  --9e1ONYQuAa-CB_Rrw7Tw  KEAHrqN-1DV0gmuNHM6Eww  xP1IYu2eGfxMWV9tjrurIw   \n",
       "1  --9e1ONYQuAa-CB_Rrw7Tw  6SgvNWJltnZhW7duJgZ42w  oFyOUOeGTRZhFPF9uTqrTQ   \n",
       "2  --9e1ONYQuAa-CB_Rrw7Tw  iwx6s6yQxc7yjS7NFANZig  2aeNFntqY2QDZLADNo8iQQ   \n",
       "3  --9e1ONYQuAa-CB_Rrw7Tw  UVUMu_bELdA56Ryfbur-DA  gmPP4YFrgYsYQqPYokMgFA   \n",
       "4  --9e1ONYQuAa-CB_Rrw7Tw  Jjz9W-wBkoBoMcB8ZQs5zQ  9bxdPvAhP6cuipD5s2UnCg   \n",
       "\n",
       "   stars        date                                               text  \\\n",
       "0      5  2011-08-24  As part of a birthday celebration weekend for ...   \n",
       "1      5  2016-03-31  This is mine and my fiancé's favorite steakhou...   \n",
       "2      4  2015-06-29  Nice atmosphere and wonderful service. I had t...   \n",
       "3      5  2015-03-16  Every year a group of us (we had 6 this year) ...   \n",
       "4      5  2011-12-20  We had early reservations for a party of 9 for...   \n",
       "\n",
       "  useful funny cool                    name         ...           latitude  \\\n",
       "0      1     0    0  \"Delmonico Steakhouse\"         ...          36.123183   \n",
       "1      0     0    0  \"Delmonico Steakhouse\"         ...          36.123183   \n",
       "2      0     0    0  \"Delmonico Steakhouse\"         ...          36.123183   \n",
       "3      1     0    0  \"Delmonico Steakhouse\"         ...          36.123183   \n",
       "4      9     7    8  \"Delmonico Steakhouse\"         ...          36.123183   \n",
       "\n",
       "   longitude  review_count  is_open                            categories  \\\n",
       "0 -115.16919        1451.0      1.0  Cajun/Creole;Steakhouses;Restaurants   \n",
       "1 -115.16919        1451.0      1.0  Cajun/Creole;Steakhouses;Restaurants   \n",
       "2 -115.16919        1451.0      1.0  Cajun/Creole;Steakhouses;Restaurants   \n",
       "3 -115.16919        1451.0      1.0  Cajun/Creole;Steakhouses;Restaurants   \n",
       "4 -115.16919        1451.0      1.0  Cajun/Creole;Steakhouses;Restaurants   \n",
       "\n",
       "   avg_stars lang  sentiment_score review_length  subjectivity_score  \n",
       "0        4.0   en         0.405723          1674            0.673525  \n",
       "1        4.0   en         0.284375           341            0.684226  \n",
       "2        4.0   en         0.383492           417            0.542698  \n",
       "3        4.0   en         0.310536           493            0.625476  \n",
       "4        4.0   en         0.272811          1997            0.688721  \n",
       "\n",
       "[5 rows x 22 columns]"
      ]
     },
     "execution_count": 29,
     "metadata": {},
     "output_type": "execute_result"
    }
   ],
   "source": [
    "data.head()"
   ]
  },
  {
   "cell_type": "code",
   "execution_count": 30,
   "metadata": {},
   "outputs": [
    {
     "data": {
      "image/png": "[encoded data removed]",
      "text/plain": [
       "<matplotlib.figure.Figure at 0x7f19118fd6d8>"
      ]
     },
     "metadata": {},
     "output_type": "display_data"
    }
   ],
   "source": [
    "# plotting sentiment score vs stars \n",
    "ax = sns.regplot(x=\"sentiment_score\", y=\"stars\", data=data)"
   ]
  },
  {
   "cell_type": "code",
   "execution_count": 31,
   "metadata": {},
   "outputs": [
    {
     "data": {
      "image/png": "[encoded data removed]",
      "text/plain": [
       "<matplotlib.figure.Figure at 0x7f19104cf080>"
      ]
     },
     "metadata": {},
     "output_type": "display_data"
    }
   ],
   "source": [
    "ax = sns.regplot(x=\"stars\", y=\"sentiment_score\", data=data)"
   ]
  },
  {
   "cell_type": "code",
   "execution_count": 32,
   "metadata": {},
   "outputs": [
    {
     "data": {
      "image/png": "[encoded data removed]",
      "text/plain": [
       "<matplotlib.figure.Figure at 0x7f18f9d4dd30>"
      ]
     },
     "metadata": {},
     "output_type": "display_data"
    }
   ],
   "source": [
    "ax = sns.violinplot(x=\"stars\", y=\"sentiment_score\", data=data)"
   ]
  },
  {
   "cell_type": "code",
   "execution_count": 33,
   "metadata": {},
   "outputs": [
    {
     "data": {
      "image/png": "[encoded data removed]",
      "text/plain": [
       "<matplotlib.figure.Figure at 0x7f18f9c94cf8>"
      ]
     },
     "metadata": {},
     "output_type": "display_data"
    }
   ],
   "source": [
    "ax = sns.violinplot(x=\"stars\", y=\"subjectivity_score\", data=data)"
   ]
  },
  {
   "cell_type": "code",
   "execution_count": 34,
   "metadata": {},
   "outputs": [
    {
     "data": {
      "image/png": "[encoded data removed]",
      "text/plain": [
       "<matplotlib.figure.Figure at 0x7f18f4c1c978>"
      ]
     },
     "metadata": {},
     "output_type": "display_data"
    }
   ],
   "source": [
    "# still checking sentiment score and star raiting\n",
    "g = sns.FacetGrid(data=data, col='stars')\n",
    "g.map(plt.hist, 'sentiment_score', bins=50)\n",
    "plt.savefig('sentiment_stars.png');"
   ]
  },
  {
   "cell_type": "code",
   "execution_count": 35,
   "metadata": {},
   "outputs": [
    {
     "data": {
      "image/png": "[encoded data removed]",
      "text/plain": [
       "<matplotlib.figure.Figure at 0x7f19126ed438>"
      ]
     },
     "metadata": {},
     "output_type": "display_data"
    }
   ],
   "source": [
    "g = sns.FacetGrid(data=data, col='stars')\n",
    "g.map(plt.hist, 'subjectivity_score', bins=50)\n",
    "plt.savefig('subjectivity_stars.png')"
   ]
  },
  {
   "cell_type": "markdown",
   "metadata": {},
   "source": [
    "Let's create a new feature where its 4 stars and above vs under four stars. My reasoning is the following: \n",
    "- 4 and above is pretty positive. Indicates a rather good dining experience with little to no qualms \n",
    "- 3 and below means that there was something \"less than ideal\" about the dining experience. It is from this category that we will be able to pull the key patron \"pain points\" via topic modeling and other methods. \n",
    "- This being said, the best way to do this in my opinion is to one hot encode `stars`. That way I still retain that level of filtering should I need it later down the line"
   ]
  },
  {
   "cell_type": "code",
   "execution_count": 36,
   "metadata": {
    "scrolled": true
   },
   "outputs": [],
   "source": [
    "# dummies of stars \n",
    "dummies = pd.get_dummies(data['stars'])\n",
    "data = pd.concat([data, dummies], axis=1) "
   ]
  },
  {
   "cell_type": "code",
   "execution_count": 37,
   "metadata": {},
   "outputs": [],
   "source": [
    "# creating categorical feature of above or below 4 stars \n",
    "data[\"above_4\"] = data[\"stars\"].map(lambda x: 1 if x>3 else 0)"
   ]
  },
  {
   "cell_type": "code",
   "execution_count": null,
   "metadata": {},
   "outputs": [],
   "source": []
  },
  {
   "cell_type": "code",
   "execution_count": 38,
   "metadata": {},
   "outputs": [
    {
     "data": {
      "image/png": "[encoded data removed]",
      "text/plain": [
       "<matplotlib.figure.Figure at 0x7f18f9d4d208>"
      ]
     },
     "metadata": {},
     "output_type": "display_data"
    }
   ],
   "source": [
    "# Setting style of scatterplot\n",
    "sns.set_context(\"notebook\", font_scale=1.1)\n",
    "sns.set_style(\"ticks\")\n",
    "\n",
    "# Create scatterplot of dataframe\n",
    "sns.lmplot('sentiment_score',\n",
    "           'review_length', \n",
    "           data=data,\n",
    "           fit_reg=False,\n",
    "           hue=\"stars\",\n",
    "           scatter_kws={\"marker\": \"D\", \n",
    "                        \"s\": 100}) \n",
    "\n",
    "plt.title('Relationship between Review Length and Sentiment Score')\n",
    "plt.xlabel('Sentiment Score')\n",
    "plt.ylabel('Review Length')\n",
    "plt.savefig('text_lenght_sentiment.png');"
   ]
  },
  {
   "cell_type": "code",
   "execution_count": 39,
   "metadata": {},
   "outputs": [
    {
     "data": {
      "image/png": "[encoded data removed]",
      "text/plain": [
       "<matplotlib.figure.Figure at 0x7f1911896780>"
      ]
     },
     "metadata": {},
     "output_type": "display_data"
    }
   ],
   "source": [
    "# plotting the distribution of sentiment \n",
    "sns.distplot(data[\"sentiment_score\"])\n",
    "plt.savefig('sent_gen.png');"
   ]
  },
  {
   "cell_type": "code",
   "execution_count": 40,
   "metadata": {},
   "outputs": [
    {
     "data": {
      "image/png": "[encoded data removed]",
      "text/plain": [
       "<matplotlib.figure.Figure at 0x7f18f4c3c1d0>"
      ]
     },
     "metadata": {},
     "output_type": "display_data"
    }
   ],
   "source": [
    "# plotting the distribution of subjectivity \n",
    "sns.distplot(data[\"subjectivity_score\"])\n",
    "plt.savefig('subj_gen.png');"
   ]
  },
  {
   "cell_type": "code",
   "execution_count": 41,
   "metadata": {},
   "outputs": [
    {
     "data": {
      "image/png": "[encoded data removed]",
      "text/plain": [
       "<matplotlib.figure.Figure at 0x7f18f96e2278>"
      ]
     },
     "metadata": {},
     "output_type": "display_data"
    }
   ],
   "source": [
    "sns.distplot(data[\"review_length\"])\n",
    "plt.savefig('review_lenght_gen.png');"
   ]
  },
  {
   "cell_type": "code",
   "execution_count": 42,
   "metadata": {},
   "outputs": [
    {
     "data": {
      "image/png": "[encoded data removed]",
      "text/plain": [
       "<matplotlib.figure.Figure at 0x7f18f50b5710>"
      ]
     },
     "metadata": {},
     "output_type": "display_data"
    }
   ],
   "source": [
    "ax = sns.regplot(x=\"sentiment_score\", y=\"subjectivity_score\", data=data)"
   ]
  },
  {
   "cell_type": "code",
   "execution_count": 43,
   "metadata": {},
   "outputs": [
    {
     "data": {
      "image/png": "[encoded data removed]",
      "text/plain": [
       "<matplotlib.figure.Figure at 0x7f18ce8db6a0>"
      ]
     },
     "metadata": {},
     "output_type": "display_data"
    }
   ],
   "source": [
    "# Setting style of scatterplot\n",
    "sns.set_context(\"notebook\", font_scale=1.1)\n",
    "sns.set_style(\"ticks\")\n",
    "\n",
    "# Create scatterplot of dataframe\n",
    "sns.lmplot('subjectivity_score',\n",
    "           'sentiment_score', \n",
    "           data=data,\n",
    "           fit_reg=False,\n",
    "           hue=\"above_4\",\n",
    "           scatter_kws={\"marker\": \"D\", \n",
    "                        \"s\": 100,\n",
    "                       #\"alpha\": 0.5\n",
    "                       })\n",
    "plt.savefig('sent_subj.png'); "
   ]
  },
  {
   "cell_type": "code",
   "execution_count": null,
   "metadata": {},
   "outputs": [],
   "source": []
  },
  {
   "cell_type": "markdown",
   "metadata": {},
   "source": [
    "## Creating Maps \n",
    "\n",
    "- When we get chance, try this out: http://folium.readthedocs.io/en/latest/quickstart.html"
   ]
  },
  {
   "cell_type": "code",
   "execution_count": null,
   "metadata": {},
   "outputs": [],
   "source": []
  },
  {
   "cell_type": "code",
   "execution_count": 69,
   "metadata": {},
   "outputs": [],
   "source": [
    "ratings = data[['business_id', 'user_id', 'name', 'sentiment_score']]"
   ]
  },
  {
   "cell_type": "code",
   "execution_count": 70,
   "metadata": {},
   "outputs": [
    {
     "data": {
      "text/html": [
       "<div>\n",
       "<style scoped>\n",
       "    .dataframe tbody tr th:only-of-type {\n",
       "        vertical-align: middle;\n",
       "    }\n",
       "\n",
       "    .dataframe tbody tr th {\n",
       "        vertical-align: top;\n",
       "    }\n",
       "\n",
       "    .dataframe thead th {\n",
       "        text-align: right;\n",
       "    }\n",
       "</style>\n",
       "<table border=\"1\" class=\"dataframe\">\n",
       "  <thead>\n",
       "    <tr style=\"text-align: right;\">\n",
       "      <th></th>\n",
       "      <th>business_id</th>\n",
       "      <th>user_id</th>\n",
       "      <th>name</th>\n",
       "      <th>sentiment_score</th>\n",
       "    </tr>\n",
       "  </thead>\n",
       "  <tbody>\n",
       "    <tr>\n",
       "      <th>0</th>\n",
       "      <td>--9e1ONYQuAa-CB_Rrw7Tw</td>\n",
       "      <td>xP1IYu2eGfxMWV9tjrurIw</td>\n",
       "      <td>\"Delmonico Steakhouse\"</td>\n",
       "      <td>0.405723</td>\n",
       "    </tr>\n",
       "    <tr>\n",
       "      <th>1</th>\n",
       "      <td>--9e1ONYQuAa-CB_Rrw7Tw</td>\n",
       "      <td>oFyOUOeGTRZhFPF9uTqrTQ</td>\n",
       "      <td>\"Delmonico Steakhouse\"</td>\n",
       "      <td>0.284375</td>\n",
       "    </tr>\n",
       "    <tr>\n",
       "      <th>2</th>\n",
       "      <td>--9e1ONYQuAa-CB_Rrw7Tw</td>\n",
       "      <td>2aeNFntqY2QDZLADNo8iQQ</td>\n",
       "      <td>\"Delmonico Steakhouse\"</td>\n",
       "      <td>0.383492</td>\n",
       "    </tr>\n",
       "    <tr>\n",
       "      <th>3</th>\n",
       "      <td>--9e1ONYQuAa-CB_Rrw7Tw</td>\n",
       "      <td>gmPP4YFrgYsYQqPYokMgFA</td>\n",
       "      <td>\"Delmonico Steakhouse\"</td>\n",
       "      <td>0.310536</td>\n",
       "    </tr>\n",
       "    <tr>\n",
       "      <th>4</th>\n",
       "      <td>--9e1ONYQuAa-CB_Rrw7Tw</td>\n",
       "      <td>9bxdPvAhP6cuipD5s2UnCg</td>\n",
       "      <td>\"Delmonico Steakhouse\"</td>\n",
       "      <td>0.272811</td>\n",
       "    </tr>\n",
       "  </tbody>\n",
       "</table>\n",
       "</div>"
      ],
      "text/plain": [
       "              business_id                 user_id                    name  \\\n",
       "0  --9e1ONYQuAa-CB_Rrw7Tw  xP1IYu2eGfxMWV9tjrurIw  \"Delmonico Steakhouse\"   \n",
       "1  --9e1ONYQuAa-CB_Rrw7Tw  oFyOUOeGTRZhFPF9uTqrTQ  \"Delmonico Steakhouse\"   \n",
       "2  --9e1ONYQuAa-CB_Rrw7Tw  2aeNFntqY2QDZLADNo8iQQ  \"Delmonico Steakhouse\"   \n",
       "3  --9e1ONYQuAa-CB_Rrw7Tw  gmPP4YFrgYsYQqPYokMgFA  \"Delmonico Steakhouse\"   \n",
       "4  --9e1ONYQuAa-CB_Rrw7Tw  9bxdPvAhP6cuipD5s2UnCg  \"Delmonico Steakhouse\"   \n",
       "\n",
       "   sentiment_score  \n",
       "0         0.405723  \n",
       "1         0.284375  \n",
       "2         0.383492  \n",
       "3         0.310536  \n",
       "4         0.272811  "
      ]
     },
     "execution_count": 70,
     "metadata": {},
     "output_type": "execute_result"
    }
   ],
   "source": [
    "ratings.head()"
   ]
  },
  {
   "cell_type": "code",
   "execution_count": 71,
   "metadata": {},
   "outputs": [],
   "source": [
    "# ratings.to_csv('sent_rec_data_nv', encoding='utf-8', index=False)"
   ]
  },
  {
   "cell_type": "raw",
   "metadata": {},
   "source": []
  },
  {
   "cell_type": "code",
   "execution_count": null,
   "metadata": {},
   "outputs": [],
   "source": []
  },
  {
   "cell_type": "code",
   "execution_count": null,
   "metadata": {},
   "outputs": [],
   "source": []
  },
  {
   "cell_type": "code",
   "execution_count": null,
   "metadata": {},
   "outputs": [],
   "source": []
  },
  {
   "cell_type": "markdown",
   "metadata": {},
   "source": [
    "## Creating Pos/Neg and Subjective/NotSubjective categorical features"
   ]
  },
  {
   "cell_type": "code",
   "execution_count": 44,
   "metadata": {},
   "outputs": [],
   "source": [
    "data[\"pos_sentiment\"] = data[\"sentiment_score\"].map(lambda x: 1 if x>=0 else 0)"
   ]
  },
  {
   "cell_type": "code",
   "execution_count": 45,
   "metadata": {},
   "outputs": [],
   "source": [
    "data[\"is_subjective\"] = data[\"subjectivity_score\"].map(lambda x: 1 if x>=0.5 else 0)"
   ]
  },
  {
   "cell_type": "code",
   "execution_count": 46,
   "metadata": {},
   "outputs": [
    {
     "data": {
      "text/html": [
       "<div>\n",
       "<style scoped>\n",
       "    .dataframe tbody tr th:only-of-type {\n",
       "        vertical-align: middle;\n",
       "    }\n",
       "\n",
       "    .dataframe tbody tr th {\n",
       "        vertical-align: top;\n",
       "    }\n",
       "\n",
       "    .dataframe thead th {\n",
       "        text-align: right;\n",
       "    }\n",
       "</style>\n",
       "<table border=\"1\" class=\"dataframe\">\n",
       "  <thead>\n",
       "    <tr style=\"text-align: right;\">\n",
       "      <th></th>\n",
       "      <th>business_id</th>\n",
       "      <th>review_id</th>\n",
       "      <th>user_id</th>\n",
       "      <th>stars</th>\n",
       "      <th>date</th>\n",
       "      <th>text</th>\n",
       "      <th>useful</th>\n",
       "      <th>funny</th>\n",
       "      <th>cool</th>\n",
       "      <th>name</th>\n",
       "      <th>...</th>\n",
       "      <th>review_length</th>\n",
       "      <th>subjectivity_score</th>\n",
       "      <th>1</th>\n",
       "      <th>2</th>\n",
       "      <th>3</th>\n",
       "      <th>4</th>\n",
       "      <th>5</th>\n",
       "      <th>above_4</th>\n",
       "      <th>pos_sentiment</th>\n",
       "      <th>is_subjective</th>\n",
       "    </tr>\n",
       "  </thead>\n",
       "  <tbody>\n",
       "    <tr>\n",
       "      <th>0</th>\n",
       "      <td>--9e1ONYQuAa-CB_Rrw7Tw</td>\n",
       "      <td>KEAHrqN-1DV0gmuNHM6Eww</td>\n",
       "      <td>xP1IYu2eGfxMWV9tjrurIw</td>\n",
       "      <td>5</td>\n",
       "      <td>2011-08-24</td>\n",
       "      <td>As part of a birthday celebration weekend for ...</td>\n",
       "      <td>1</td>\n",
       "      <td>0</td>\n",
       "      <td>0</td>\n",
       "      <td>\"Delmonico Steakhouse\"</td>\n",
       "      <td>...</td>\n",
       "      <td>1674</td>\n",
       "      <td>0.673525</td>\n",
       "      <td>0</td>\n",
       "      <td>0</td>\n",
       "      <td>0</td>\n",
       "      <td>0</td>\n",
       "      <td>1</td>\n",
       "      <td>1</td>\n",
       "      <td>1</td>\n",
       "      <td>1</td>\n",
       "    </tr>\n",
       "    <tr>\n",
       "      <th>1</th>\n",
       "      <td>--9e1ONYQuAa-CB_Rrw7Tw</td>\n",
       "      <td>6SgvNWJltnZhW7duJgZ42w</td>\n",
       "      <td>oFyOUOeGTRZhFPF9uTqrTQ</td>\n",
       "      <td>5</td>\n",
       "      <td>2016-03-31</td>\n",
       "      <td>This is mine and my fiancé's favorite steakhou...</td>\n",
       "      <td>0</td>\n",
       "      <td>0</td>\n",
       "      <td>0</td>\n",
       "      <td>\"Delmonico Steakhouse\"</td>\n",
       "      <td>...</td>\n",
       "      <td>341</td>\n",
       "      <td>0.684226</td>\n",
       "      <td>0</td>\n",
       "      <td>0</td>\n",
       "      <td>0</td>\n",
       "      <td>0</td>\n",
       "      <td>1</td>\n",
       "      <td>1</td>\n",
       "      <td>1</td>\n",
       "      <td>1</td>\n",
       "    </tr>\n",
       "    <tr>\n",
       "      <th>2</th>\n",
       "      <td>--9e1ONYQuAa-CB_Rrw7Tw</td>\n",
       "      <td>iwx6s6yQxc7yjS7NFANZig</td>\n",
       "      <td>2aeNFntqY2QDZLADNo8iQQ</td>\n",
       "      <td>4</td>\n",
       "      <td>2015-06-29</td>\n",
       "      <td>Nice atmosphere and wonderful service. I had t...</td>\n",
       "      <td>0</td>\n",
       "      <td>0</td>\n",
       "      <td>0</td>\n",
       "      <td>\"Delmonico Steakhouse\"</td>\n",
       "      <td>...</td>\n",
       "      <td>417</td>\n",
       "      <td>0.542698</td>\n",
       "      <td>0</td>\n",
       "      <td>0</td>\n",
       "      <td>0</td>\n",
       "      <td>1</td>\n",
       "      <td>0</td>\n",
       "      <td>1</td>\n",
       "      <td>1</td>\n",
       "      <td>1</td>\n",
       "    </tr>\n",
       "    <tr>\n",
       "      <th>3</th>\n",
       "      <td>--9e1ONYQuAa-CB_Rrw7Tw</td>\n",
       "      <td>UVUMu_bELdA56Ryfbur-DA</td>\n",
       "      <td>gmPP4YFrgYsYQqPYokMgFA</td>\n",
       "      <td>5</td>\n",
       "      <td>2015-03-16</td>\n",
       "      <td>Every year a group of us (we had 6 this year) ...</td>\n",
       "      <td>1</td>\n",
       "      <td>0</td>\n",
       "      <td>0</td>\n",
       "      <td>\"Delmonico Steakhouse\"</td>\n",
       "      <td>...</td>\n",
       "      <td>493</td>\n",
       "      <td>0.625476</td>\n",
       "      <td>0</td>\n",
       "      <td>0</td>\n",
       "      <td>0</td>\n",
       "      <td>0</td>\n",
       "      <td>1</td>\n",
       "      <td>1</td>\n",
       "      <td>1</td>\n",
       "      <td>1</td>\n",
       "    </tr>\n",
       "    <tr>\n",
       "      <th>4</th>\n",
       "      <td>--9e1ONYQuAa-CB_Rrw7Tw</td>\n",
       "      <td>Jjz9W-wBkoBoMcB8ZQs5zQ</td>\n",
       "      <td>9bxdPvAhP6cuipD5s2UnCg</td>\n",
       "      <td>5</td>\n",
       "      <td>2011-12-20</td>\n",
       "      <td>We had early reservations for a party of 9 for...</td>\n",
       "      <td>9</td>\n",
       "      <td>7</td>\n",
       "      <td>8</td>\n",
       "      <td>\"Delmonico Steakhouse\"</td>\n",
       "      <td>...</td>\n",
       "      <td>1997</td>\n",
       "      <td>0.688721</td>\n",
       "      <td>0</td>\n",
       "      <td>0</td>\n",
       "      <td>0</td>\n",
       "      <td>0</td>\n",
       "      <td>1</td>\n",
       "      <td>1</td>\n",
       "      <td>1</td>\n",
       "      <td>1</td>\n",
       "    </tr>\n",
       "  </tbody>\n",
       "</table>\n",
       "<p>5 rows × 30 columns</p>\n",
       "</div>"
      ],
      "text/plain": [
       "              business_id               review_id                 user_id  \\\n",
       "0  --9e1ONYQuAa-CB_Rrw7Tw  KEAHrqN-1DV0gmuNHM6Eww  xP1IYu2eGfxMWV9tjrurIw   \n",
       "1  --9e1ONYQuAa-CB_Rrw7Tw  6SgvNWJltnZhW7duJgZ42w  oFyOUOeGTRZhFPF9uTqrTQ   \n",
       "2  --9e1ONYQuAa-CB_Rrw7Tw  iwx6s6yQxc7yjS7NFANZig  2aeNFntqY2QDZLADNo8iQQ   \n",
       "3  --9e1ONYQuAa-CB_Rrw7Tw  UVUMu_bELdA56Ryfbur-DA  gmPP4YFrgYsYQqPYokMgFA   \n",
       "4  --9e1ONYQuAa-CB_Rrw7Tw  Jjz9W-wBkoBoMcB8ZQs5zQ  9bxdPvAhP6cuipD5s2UnCg   \n",
       "\n",
       "   stars        date                                               text  \\\n",
       "0      5  2011-08-24  As part of a birthday celebration weekend for ...   \n",
       "1      5  2016-03-31  This is mine and my fiancé's favorite steakhou...   \n",
       "2      4  2015-06-29  Nice atmosphere and wonderful service. I had t...   \n",
       "3      5  2015-03-16  Every year a group of us (we had 6 this year) ...   \n",
       "4      5  2011-12-20  We had early reservations for a party of 9 for...   \n",
       "\n",
       "  useful funny cool                    name      ...       review_length  \\\n",
       "0      1     0    0  \"Delmonico Steakhouse\"      ...                1674   \n",
       "1      0     0    0  \"Delmonico Steakhouse\"      ...                 341   \n",
       "2      0     0    0  \"Delmonico Steakhouse\"      ...                 417   \n",
       "3      1     0    0  \"Delmonico Steakhouse\"      ...                 493   \n",
       "4      9     7    8  \"Delmonico Steakhouse\"      ...                1997   \n",
       "\n",
       "  subjectivity_score  1  2  3  4  5  above_4 pos_sentiment  is_subjective  \n",
       "0           0.673525  0  0  0  0  1        1             1              1  \n",
       "1           0.684226  0  0  0  0  1        1             1              1  \n",
       "2           0.542698  0  0  0  1  0        1             1              1  \n",
       "3           0.625476  0  0  0  0  1        1             1              1  \n",
       "4           0.688721  0  0  0  0  1        1             1              1  \n",
       "\n",
       "[5 rows x 30 columns]"
      ]
     },
     "execution_count": 46,
     "metadata": {},
     "output_type": "execute_result"
    }
   ],
   "source": [
    "data.head()"
   ]
  },
  {
   "cell_type": "code",
   "execution_count": 47,
   "metadata": {},
   "outputs": [
    {
     "data": {
      "text/plain": [
       "Index([       'business_id',          'review_id',            'user_id',\n",
       "                    'stars',               'date',               'text',\n",
       "                   'useful',              'funny',               'cool',\n",
       "                     'name',               'city',              'state',\n",
       "                 'latitude',          'longitude',       'review_count',\n",
       "                  'is_open',         'categories',          'avg_stars',\n",
       "                     'lang',    'sentiment_score',      'review_length',\n",
       "       'subjectivity_score',                    1,                    2,\n",
       "                          3,                    4,                    5,\n",
       "                  'above_4',      'pos_sentiment',      'is_subjective'],\n",
       "      dtype='object')"
      ]
     },
     "execution_count": 47,
     "metadata": {},
     "output_type": "execute_result"
    }
   ],
   "source": [
    "data.columns"
   ]
  },
  {
   "cell_type": "markdown",
   "metadata": {},
   "source": [
    "## NLP Analysis: 1st pass "
   ]
  },
  {
   "cell_type": "markdown",
   "metadata": {},
   "source": [
    "The goal of this section is to explore and better understand what constitutes the different types of reviews."
   ]
  },
  {
   "cell_type": "markdown",
   "metadata": {},
   "source": [
    "**Step 1**: Subsection the data into different categories before tokenization and analysis "
   ]
  },
  {
   "cell_type": "code",
   "execution_count": 48,
   "metadata": {},
   "outputs": [],
   "source": [
    "# df of reviews with more than 4 stars \n",
    "mask = data[\"above_4\"] != 0\n",
    "above_4_stars = data[mask]"
   ]
  },
  {
   "cell_type": "code",
   "execution_count": 49,
   "metadata": {},
   "outputs": [],
   "source": [
    "# df of reviews with less than 4 stars \n",
    "mask = data[\"above_4\"] != 1\n",
    "below_4_stars = data[mask]"
   ]
  },
  {
   "cell_type": "code",
   "execution_count": 50,
   "metadata": {},
   "outputs": [],
   "source": [
    "# df of reviews with positive sentiment in reviews\n",
    "mask = data[\"pos_sentiment\"] !=0\n",
    "pos_sentiment = data[mask]"
   ]
  },
  {
   "cell_type": "code",
   "execution_count": 51,
   "metadata": {},
   "outputs": [],
   "source": [
    "# df of reviews with negative sentiment in reviews\n",
    "mask = data[\"pos_sentiment\"] !=1\n",
    "neg_sentiment = data[mask]"
   ]
  },
  {
   "cell_type": "code",
   "execution_count": 52,
   "metadata": {},
   "outputs": [],
   "source": [
    "# df ofsubjective reviews\n",
    "mask = data[\"is_subjective\"] !=0\n",
    "is_subjective = data[mask]"
   ]
  },
  {
   "cell_type": "code",
   "execution_count": 53,
   "metadata": {},
   "outputs": [],
   "source": [
    "# df of reviews that aren't subjective\n",
    "mask = data[\"is_subjective\"] !=1\n",
    "not_subjective = data[mask]"
   ]
  },
  {
   "cell_type": "code",
   "execution_count": 54,
   "metadata": {},
   "outputs": [],
   "source": [
    "# df of reviews that scored restaurant 1 star\n",
    "mask = data[1] !=0\n",
    "one_star = data[mask]"
   ]
  },
  {
   "cell_type": "code",
   "execution_count": 55,
   "metadata": {},
   "outputs": [],
   "source": [
    "# df of reviews that scored restaurant 5 stars\n",
    "mask = data[5] !=0\n",
    "five_stars = data[mask]"
   ]
  },
  {
   "cell_type": "code",
   "execution_count": null,
   "metadata": {},
   "outputs": [],
   "source": []
  },
  {
   "cell_type": "markdown",
   "metadata": {},
   "source": [
    "**Step 2**: isolate review text from the DataFrames created above "
   ]
  },
  {
   "cell_type": "code",
   "execution_count": 56,
   "metadata": {},
   "outputs": [],
   "source": [
    "all_review_text = data[\"text\"]\n",
    "above_4_stars_text = above_4_stars[\"text\"]\n",
    "below_4_stars_text = below_4_stars[\"text\"]\n",
    "pos_sentiment_text = pos_sentiment[\"text\"]\n",
    "neg_sentiment_text = neg_sentiment[\"text\"]\n",
    "is_subjective_text = is_subjective[\"text\"]\n",
    "not_subjective_text = not_subjective[\"text\"]\n",
    "one_star_text = one_star[\"text\"]\n",
    "five_stars_text = five_stars[\"text\"]"
   ]
  },
  {
   "cell_type": "code",
   "execution_count": 57,
   "metadata": {},
   "outputs": [
    {
     "data": {
      "text/plain": [
       "\"This is mine and my fiancé's favorite steakhouse here in Las Vegas! We often stop in and see our favorite server, Michael Jackson, who simply completes the fine dining experience for us. He is always so pleasant and knowledgable about the menu and suggests amazing dishes each time! I have never been disappointed here and will be back soon!\""
      ]
     },
     "execution_count": 57,
     "metadata": {},
     "output_type": "execute_result"
    }
   ],
   "source": [
    "all_review_text[1]"
   ]
  },
  {
   "cell_type": "code",
   "execution_count": 59,
   "metadata": {},
   "outputs": [],
   "source": [
    "# one_star_text[40]"
   ]
  },
  {
   "cell_type": "markdown",
   "metadata": {},
   "source": [
    "**Step 3**: Process and clean the review text\n",
    "Basically were going to clean and tokenize the text so that we can do further NLP analysis on it. "
   ]
  },
  {
   "cell_type": "code",
   "execution_count": 60,
   "metadata": {},
   "outputs": [],
   "source": [
    "def process(input_text):\n",
    "    '''\n",
    "    Processor function for tokenizing,\n",
    "    removing stop words, and stemming\n",
    "    '''\n",
    "    # Creates a regular expression tokenizer\n",
    "    tokenizer = RegexpTokenizer(r'\\w+')\n",
    "    \n",
    "    # Creates a Snowball stemmer\n",
    "    stemmer = SnowballStemmer('english')\n",
    "    stop_words = stopwords.words('english')\n",
    "    \n",
    "    # Tokenizes the input string\n",
    "    tokens = tokenizer.tokenize(input_text.lower())\n",
    "    tokens = [x for x in tokens if not x in stop_words]\n",
    "    \n",
    "    # Performs stemming on the tokenized words\n",
    "    tokens_stemmed = [stemmer.stem(x) for x in tokens]\n",
    "    return tokens_stemmed"
   ]
  },
  {
   "cell_type": "code",
   "execution_count": 61,
   "metadata": {},
   "outputs": [],
   "source": [
    "# creating tokens based on review text\n",
    "tokens_all = all_review_text.apply(process)\n",
    "tokens_above_4 = above_4_stars_text.apply(process)\n",
    "tokens_below_4 = below_4_stars_text.apply(process)\n",
    "tokens_pos_sent = pos_sentiment_text.apply(process)\n",
    "tokens_neg_sent = neg_sentiment_text.apply(process)\n",
    "tokens_is_subjective = is_subjective_text.apply(process)\n",
    "tokens_not_sibjective = not_subjective_text.apply(process)\n",
    "tokens_one_star = one_star_text.apply(process)\n",
    "tokens_5_stars = five_stars_text.apply(process)"
   ]
  },
  {
   "cell_type": "code",
   "execution_count": 62,
   "metadata": {
    "scrolled": true
   },
   "outputs": [
    {
     "data": {
      "text/plain": [
       "0          [part, birthday, celebr, weekend, two, cousin,...\n",
       "1          [mine, fiancé, favorit, steakhous, las, vega, ...\n",
       "3          [everi, year, group, us, 6, year, goe, vega, t...\n",
       "4          [earli, reserv, parti, 9, 40th, birthday, seat...\n",
       "5          [truli, fantast, best, steak, ever, servic, aw...\n",
       "6          [delmonico, steakhous, steakhous, own, emeril,...\n",
       "8          [everi, restaur, aspir, perfect, everyth, perf...\n",
       "10         [look, fanci, steakhous, vega, delmonico, go, ...\n",
       "11         [place, superb, custom, servic, food, area, hi...\n",
       "12         [decid, give, delmonico, tri, receiv, special,...\n",
       "15         [absolut, impress, restaur, entir, dine, exper...\n",
       "20         [walk, sunday, even, reserv, portion, size, ex...\n",
       "21         [long, time, sinc, delmonico, use, big, fan, e...\n",
       "26         [california, foie, gras, ban, foie, gras, miss...\n",
       "31         [ben, steakhous, las, vega, well, usual, stay,...\n",
       "32         [phenomen, came, back, celebr, birthday, every...\n",
       "37         [wow, first, word, come, mind, think, meal, hu...\n",
       "39         [favorit, restaur, unit, state, bar, none, bes...\n",
       "41         [forgot, review, restaur, week, back, say, nob...\n",
       "42         [blame, father, inordin, love, thing, gourmet,...\n",
       "43         [got, filet, mignon, sear, foigra, phenomen, s...\n",
       "45         [second, visit, one, emeril, steakhous, like, ...\n",
       "46         [awesom, food, excel, servic, share, bbq, shri...\n",
       "47         [great, servic, perfect, bone, ribey, steak, n...\n",
       "51         [went, dinner, wife, outstand, alway, spinach,...\n",
       "52         [absolut, splurg, place, dine, vacat, tabl, se...\n",
       "57         [love, went, delmonico, steakhous, day, ago, g...\n",
       "58         [part, steak, hous, review, las, vega, delmoni...\n",
       "59         [delmonico, easili, 5, star, restaur, famous, ...\n",
       "61         [look, best, steak, fine, dine, experi, team, ...\n",
       "                                 ...                        \n",
       "1041708    [far, best, taco, place, vega, husband, live, ...\n",
       "1041711    [saw, good, review, tri, walk, idea, would, bi...\n",
       "1041712    [confess, time, authent, mexican, food, place,...\n",
       "1041713    [taco, taco, one, best, taco, shop, tri, vega,...\n",
       "1041714    [say, omfg, look, perfect, taco, place, know, ...\n",
       "1041715    [delici, meat, breakfast, burrito, great, seri...\n",
       "1041716    [love, taco, spot, im, time, get, tye, el, pas...\n",
       "1041721    [delici, best, taco, side, border, authent, ta...\n",
       "1041722    [happi, find, awesom, mexican, restaur, near, ...\n",
       "1041724    [great, taco, especi, al, pastor, pineappl, pi...\n",
       "1041725    [al, pastor, tender, moist, bit, spici, al, pa...\n",
       "1041757    [one, favorit, great, custom, servic, appear, ...\n",
       "1041758    [excel, authent, chines, restaur, stop, ask, w...\n",
       "1041762    [small, clean, humbl, place, one, speak, engli...\n",
       "1041764    [wonder, shanghaines, dish, must, tri, vega, s...\n",
       "1041768    [excel, custom, servic, never, taco, bell, eve...\n",
       "1041770    [came, drive, thru, tonight, greet, jerri, 1, ...\n",
       "1041771    [still, amaz, gem, oper, almost, entir, femal,...\n",
       "1041773    [taco, bell, super, conveni, taco, bell, even,...\n",
       "1041776    [taco, bell, fail, us, locat, employe, line, b...\n",
       "1041780    [quit, possibl, nicest, staff, fast, food, pla...\n",
       "1041781    [zip, thru, drive, thru, last, week, yummi, do...\n",
       "1041800    [staff, alway, friend, sweet, tea, amaz, defin...\n",
       "1041803    [wonder, custom, servic, ador, femal, cashier,...\n",
       "1041804    [ok, fast, food, quick, hot, fast, chicken, st...\n",
       "1041806    [fast, servic, food, alway, fresh, hot, menu, ...\n",
       "1041818    [guthri, great, choic, peopl, fan, servic, qua...\n",
       "1041822    [guthri, hand, one, best, fast, food, place, t...\n",
       "1041826    [chicken, fri, excel, great, special, sauc, ex...\n",
       "1041833    [great, food, great, servic, nice, quiet, atmo...\n",
       "Name: text, Length: 421902, dtype: object"
      ]
     },
     "execution_count": 62,
     "metadata": {},
     "output_type": "execute_result"
    }
   ],
   "source": [
    "tokens_5_stars"
   ]
  },
  {
   "cell_type": "code",
   "execution_count": 63,
   "metadata": {
    "scrolled": true
   },
   "outputs": [
    {
     "data": {
      "text/plain": [
       "34         [suppos, special, dinner, 10, husband, 50th, b...\n",
       "53         [went, alon, eat, experi, expect, free, bread,...\n",
       "65         [ces, trade, show, look, lunch, show, 2, 03, h...\n",
       "78         [go, unless, love, salt, took, husband, delmon...\n",
       "109        [wow, believ, place, get, 4, star, bam, poof, ...\n",
       "110        [like, steak, ask, medium, rare, wel, done, co...\n",
       "118        [visit, place, friend, vega, wed, say, enough,...\n",
       "149        [famili, busi, associ, visit, delmonico, past,...\n",
       "180        [first, love, emeril, think, food, old, school...\n",
       "213        [read, bad, review, realiz, one, happen, first...\n",
       "215        [went, anniversari, know, emerald, restaur, ex...\n",
       "239        [disappoint, delmonico, steakhous, order, stea...\n",
       "308        [tradit, new, orlean, gumbo, tasteless, lobste...\n",
       "317        [dinner, reserv, 6, 00, march, 4th, excit, eat...\n",
       "407        [dine, delmonico, yesterday, lunch, total, fou...\n",
       "418        [perfect, end, memori, day, weekend, vega, gre...\n",
       "428        [fact, abl, chang, reserv, 8, peopl, three, di...\n",
       "629        [deserv, zero, high, disappoint, went, husband...\n",
       "682        [disappoint, experi, overal, went, new, year, ...\n",
       "686        [wow, super, disappoint, dinner, buddi, said, ...\n",
       "691        [restaur, emeril, lagass, name, expect, consis...\n",
       "705        [greasi, lacklust, food, confer, lunch, raviol...\n",
       "719        [updat, delmonico, emeril, staff, reach, via, ...\n",
       "722        [underwhelm, food, great, servic, way, would, ...\n",
       "757        [awe, bone, ribey, averag, bland, dri, au, gra...\n",
       "766        [sat, 9, 15, dinner, arriv, 10, 45, us, drink,...\n",
       "876        [place, horribl, overr, servic, terribl, act, ...\n",
       "881        [horribl, absolut, horribl, dental, surgeri, e...\n",
       "961        [ambianc, zilch, honest, know, decor, could, p...\n",
       "1045       [took, best, friend, delmonico, las, vega, las...\n",
       "                                 ...                        \n",
       "1041609    [came, first, time, radio, first, time, great,...\n",
       "1041619    [upset, get, tri, anyth, never, walk, slight, ...\n",
       "1041633    [husband, got, marri, celebr, small, parti, ho...\n",
       "1041646    [kid, four, half, star, first, thing, notic, c...\n",
       "1041647    [truli, baffl, place, good, review, fiancé, wa...\n",
       "1041656    [hi, take, veget, bowl, kind, meat, veget, ple...\n",
       "1041668    [first, time, go, wait, help, place, pretti, m...\n",
       "1041704    [price, except, plain, street, taco, bathroom,...\n",
       "1041720    [taco, taco, 12, time, accord, yelp, check, in...\n",
       "1041727    [came, saturday, night, girlfriend, crave, mex...\n",
       "1041728    [soo, friend, stop, snack, sinc, go, see, show...\n",
       "1041731    [decid, low, roll, second, night, vega, save, ...\n",
       "1041733    [locat, 5th, floor, imperi, palac, hotel, ques...\n",
       "1041735    [realli, bother, host, sat, us, also, turn, se...\n",
       "1041739    [bother, eat, quesadilla, restaur, locat, impe...\n",
       "1041740    [quesadilla, locat, 5th, floor, imperi, palac,...\n",
       "1041741    [place, terribl, food, bland, servic, slow, al...\n",
       "1041769    [order, two, crunch, wrap, specif, state, meat...\n",
       "1041786    [call, corpor, give, water, cup, night, visit,...\n",
       "1041788    [avoid, mc, donald, mean, rude, slow, gm, char...\n",
       "1041790    [probabl, worst, mcdonald, mcdonald, vega, tdr...\n",
       "1041791    [sinc, put, chees, filet, fish, sandwich, awhi...\n",
       "1041792    [crappi, servic, mediocr, food, last, straw, r...\n",
       "1041793    [got, worst, mcdonald, ever, never, go, mcdona...\n",
       "1041794    [go, order, two, hot, hot, n, spici, took, for...\n",
       "1041795    [health, inspector, examin, place, employe, wa...\n",
       "1041797    [way, overpr, 35, 99, famili, meal, tasteless,...\n",
       "1041801    [fan, fast, food, restaur, last, month, servic...\n",
       "1041809    [order, 7, strip, chicken, box, would, return,...\n",
       "1041816    [yeah, fri, dri, frozen, crinkl, kind, texa, t...\n",
       "Name: text, Length: 119857, dtype: object"
      ]
     },
     "execution_count": 63,
     "metadata": {},
     "output_type": "execute_result"
    }
   ],
   "source": [
    "tokens_one_star"
   ]
  },
  {
   "cell_type": "code",
   "execution_count": 64,
   "metadata": {},
   "outputs": [],
   "source": [
    "analyser = SentimentIntensityAnalyzer()"
   ]
  },
  {
   "cell_type": "code",
   "execution_count": 65,
   "metadata": {},
   "outputs": [],
   "source": [
    "def print_sentiment_scores(sentence):\n",
    "    snt = analyser.polarity_scores(sentence)\n",
    "    print(\"{:-<40} {}\".format(sentence, str(snt)))"
   ]
  },
  {
   "cell_type": "code",
   "execution_count": 67,
   "metadata": {
    "scrolled": true
   },
   "outputs": [],
   "source": [
    "# print_sentiment_scores(one_star[\"text\"][100])"
   ]
  },
  {
   "cell_type": "code",
   "execution_count": null,
   "metadata": {},
   "outputs": [],
   "source": []
  },
  {
   "cell_type": "code",
   "execution_count": 72,
   "metadata": {},
   "outputs": [],
   "source": [
    "# Creating dictonaries based on the sentence tokens\n",
    "dict_tokens0 = corpora.Dictionary(tokens_all)\n",
    "dict_tokens1 = corpora.Dictionary(tokens_above_4)\n",
    "dict_tokens2 = corpora.Dictionary(tokens_below_4)\n",
    "dict_tokens3 = corpora.Dictionary(tokens_pos_sent)\n",
    "dict_tokens4 = corpora.Dictionary(tokens_neg_sent)\n",
    "dict_tokens5 = corpora.Dictionary(tokens_is_subjective)\n",
    "dict_tokens6 = corpora.Dictionary(tokens_not_sibjective)\n",
    "dict_tokens7 = corpora.Dictionary(tokens_one_star)\n",
    "dict_tokens8 = corpora.Dictionary(tokens_5_stars)"
   ]
  },
  {
   "cell_type": "code",
   "execution_count": null,
   "metadata": {},
   "outputs": [],
   "source": [
    "# Creating a document-term matrix for each dictonary \n",
    "doc_term_mat0 = [dict_tokens0.doc2bow(token) for token in tokens_all]\n",
    "doc_term_mat1 = [dict_tokens1.doc2bow(token) for token in tokens_above_4]\n",
    "doc_term_mat2 = [dict_tokens2.doc2bow(token) for token in tokens_below_4]\n",
    "doc_term_mat3 = [dict_tokens3.doc2bow(token) for token in tokens_pos_sent]\n",
    "doc_term_mat4 = [dict_tokens4.doc2bow(token) for token in tokens_neg_sent]\n",
    "doc_term_mat5 = [dict_tokens5.doc2bow(token) for token in tokens_is_subjective]\n",
    "doc_term_mat6 = [dict_tokens6.doc2bow(token) for token in tokens_not_sibjective]\n",
    "doc_term_mat7 = [dict_tokens7.doc2bow(token) for token in tokens_one_star]\n",
    "doc_term_mat8 = [dict_tokens8.doc2bow(token) for token in tokens_5_stars]"
   ]
  },
  {
   "cell_type": "markdown",
   "metadata": {},
   "source": [
    "## Modeling and Analysis: Latent Derichlet Allocation "
   ]
  },
  {
   "cell_type": "code",
   "execution_count": null,
   "metadata": {},
   "outputs": [],
   "source": [
    "num_topics = 5"
   ]
  },
  {
   "cell_type": "code",
   "execution_count": null,
   "metadata": {},
   "outputs": [],
   "source": [
    "num_words = 5"
   ]
  },
  {
   "cell_type": "markdown",
   "metadata": {},
   "source": [
    "**All Reviews**"
   ]
  },
  {
   "cell_type": "code",
   "execution_count": null,
   "metadata": {},
   "outputs": [],
   "source": [
    "# Generating the LDA model\n",
    "ldamodel0 = models.ldamodel.LdaModel(doc_term_mat0,\n",
    "                                    num_topics=num_topics,\n",
    "                                    id2word=dict_tokens0,\n",
    "                                    passes=25, alpha=1)"
   ]
  },
  {
   "cell_type": "code",
   "execution_count": null,
   "metadata": {},
   "outputs": [],
   "source": [
    "ldamodel0.print_topics(num_topics=num_topics, num_words=num_words)"
   ]
  },
  {
   "cell_type": "code",
   "execution_count": null,
   "metadata": {},
   "outputs": [],
   "source": [
    "num_words = 5\n",
    "print('\\nTop ' + str(num_words) + ' contributing words to each topic:')\n",
    "for topic_id, tokens in ldamodel0.print_topics(num_topics=num_topics, num_words=num_words):\n",
    "\n",
    "\n",
    "    print('\\nTopic', topic_id)\n",
    "    print('\\nTokens', tokens)\n",
    "    \n",
    "# # Print the contributing words along with their relative contributions\n",
    "# list_of_strings = item[1].split(' + ')\n",
    "# for text in list_of_strings:\n",
    "#     weight = text.split('*')[0]\n",
    "#     word = text.split('*')[1]\n",
    "#     print(word, '==>', str(round(float(weight) * 100, 2)) + '%')"
   ]
  },
  {
   "cell_type": "markdown",
   "metadata": {},
   "source": [
    "**Reviews above 4 stars**"
   ]
  },
  {
   "cell_type": "code",
   "execution_count": null,
   "metadata": {},
   "outputs": [],
   "source": [
    "# Generating the LDA model\n",
    "ldamodel1 = models.ldamodel.LdaModel(doc_term_mat1,\n",
    "                                    num_topics=num_topics,\n",
    "                                    id2word=dict_tokens1,\n",
    "                                    passes=25, alpha=1)"
   ]
  },
  {
   "cell_type": "code",
   "execution_count": null,
   "metadata": {},
   "outputs": [],
   "source": [
    "ldamodel1.print_topics(num_topics=num_topics, num_words=num_words)"
   ]
  },
  {
   "cell_type": "code",
   "execution_count": null,
   "metadata": {},
   "outputs": [],
   "source": [
    "num_words = 5\n",
    "print('\\nTop ' + str(num_words) + ' contributing words to each topic:')\n",
    "for topic_id, tokens in ldamodel1.print_topics(num_topics=num_topics, num_words=num_words):\n",
    "\n",
    "\n",
    "    print('\\nTopic', topic_id)\n",
    "    print('\\nTokens', tokens)"
   ]
  },
  {
   "cell_type": "markdown",
   "metadata": {},
   "source": [
    "**Reviews Below 4 stars**"
   ]
  },
  {
   "cell_type": "code",
   "execution_count": null,
   "metadata": {},
   "outputs": [],
   "source": [
    "# Generating the LDA model\n",
    "ldamodel2 = models.ldamodel.LdaModel(doc_term_mat2,\n",
    "                                    num_topics=num_topics,\n",
    "                                    id2word=dict_tokens2,\n",
    "                                    passes=25, alpha=1)"
   ]
  },
  {
   "cell_type": "code",
   "execution_count": null,
   "metadata": {},
   "outputs": [],
   "source": [
    "ldamodel2.print_topics(num_topics=num_topics, num_words=num_words)"
   ]
  },
  {
   "cell_type": "code",
   "execution_count": null,
   "metadata": {},
   "outputs": [],
   "source": [
    "num_words = 5\n",
    "print('\\nTop ' + str(num_words) + ' contributing words to each topic:')\n",
    "for topic_id, tokens in ldamodel2.print_topics(num_topics=num_topics, num_words=num_words):\n",
    "\n",
    "\n",
    "    print('\\nTopic', topic_id)\n",
    "    print('\\nTokens', tokens)\n",
    "    "
   ]
  },
  {
   "cell_type": "markdown",
   "metadata": {},
   "source": [
    "**Reviews with Positive Sentiment**"
   ]
  },
  {
   "cell_type": "code",
   "execution_count": null,
   "metadata": {},
   "outputs": [],
   "source": [
    "# Generating the LDA model\n",
    "ldamodel3 = models.ldamodel.LdaModel(doc_term_mat3,\n",
    "                                    num_topics=num_topics,\n",
    "                                    id2word=dict_tokens3,\n",
    "                                    passes=25, alpha=1)"
   ]
  },
  {
   "cell_type": "code",
   "execution_count": null,
   "metadata": {},
   "outputs": [],
   "source": [
    "ldamodel3.print_topics(num_topics=num_topics, num_words=num_words)"
   ]
  },
  {
   "cell_type": "code",
   "execution_count": null,
   "metadata": {},
   "outputs": [],
   "source": [
    "num_words = 5\n",
    "print('\\nTop ' + str(num_words) + ' contributing words to each topic:')\n",
    "for topic_id, tokens in ldamodel3.print_topics(num_topics=num_topics, num_words=num_words):\n",
    "\n",
    "\n",
    "    print('\\nTopic', topic_id)\n",
    "    print('\\nTokens', tokens)\n",
    "    "
   ]
  },
  {
   "cell_type": "markdown",
   "metadata": {},
   "source": [
    "**Reviews with negative sentiment**"
   ]
  },
  {
   "cell_type": "code",
   "execution_count": null,
   "metadata": {},
   "outputs": [],
   "source": [
    "# Generating the LDA model\n",
    "ldamodel4 = models.ldamodel.LdaModel(doc_term_mat4,\n",
    "                                    num_topics=num_topics,\n",
    "                                    id2word=dict_tokens4,\n",
    "                                    passes=25, alpha=1)"
   ]
  },
  {
   "cell_type": "code",
   "execution_count": null,
   "metadata": {},
   "outputs": [],
   "source": [
    "ldamodel4.print_topics(num_topics=num_topics, num_words=num_words)"
   ]
  },
  {
   "cell_type": "code",
   "execution_count": null,
   "metadata": {},
   "outputs": [],
   "source": [
    "num_words = 5\n",
    "print('\\nTop ' + str(num_words) + ' contributing words to each topic:')\n",
    "for topic_id, tokens in ldamodel4.print_topics(num_topics=num_topics, num_words=num_words):\n",
    "\n",
    "\n",
    "    print('\\nTopic', topic_id)\n",
    "    print('\\nTokens', tokens)\n",
    "    "
   ]
  },
  {
   "cell_type": "markdown",
   "metadata": {},
   "source": [
    "**Subjective Reviews**"
   ]
  },
  {
   "cell_type": "code",
   "execution_count": null,
   "metadata": {},
   "outputs": [],
   "source": [
    "# Generating the LDA model\n",
    "ldamodel5 = models.ldamodel.LdaModel(doc_term_mat5,\n",
    "                                    num_topics=num_topics,\n",
    "                                    id2word=dict_tokens5,\n",
    "                                    passes=25, alpha=1)"
   ]
  },
  {
   "cell_type": "code",
   "execution_count": null,
   "metadata": {},
   "outputs": [],
   "source": [
    "ldamodel5.print_topics(num_topics=num_topics, num_words=num_words)"
   ]
  },
  {
   "cell_type": "code",
   "execution_count": null,
   "metadata": {},
   "outputs": [],
   "source": [
    "num_words = 5\n",
    "print('\\nTop ' + str(num_words) + ' contributing words to each topic:')\n",
    "for topic_id, tokens in ldamodel5.print_topics(num_topics=num_topics, num_words=num_words):\n",
    "\n",
    "\n",
    "    print('\\nTopic', topic_id)\n",
    "    print('\\nTokens', tokens)\n",
    "    "
   ]
  },
  {
   "cell_type": "markdown",
   "metadata": {},
   "source": [
    "**Objective Reviews"
   ]
  },
  {
   "cell_type": "code",
   "execution_count": null,
   "metadata": {},
   "outputs": [],
   "source": [
    "# Generating the LDA model\n",
    "ldamodel6 = models.ldamodel.LdaModel(doc_term_mat6,\n",
    "                                    num_topics=num_topics,\n",
    "                                    id2word=dict_tokens6,\n",
    "                                    passes=25, alpha=1)"
   ]
  },
  {
   "cell_type": "code",
   "execution_count": null,
   "metadata": {},
   "outputs": [],
   "source": [
    "ldamodel6.print_topics(num_topics=num_topics, num_words=num_words)"
   ]
  },
  {
   "cell_type": "code",
   "execution_count": null,
   "metadata": {},
   "outputs": [],
   "source": [
    "num_words = 5\n",
    "print('\\nTop ' + str(num_words) + ' contributing words to each topic:')\n",
    "for topic_id, tokens in ldamodel6.print_topics(num_topics=num_topics, num_words=num_words):\n",
    "\n",
    "\n",
    "    print('\\nTopic', topic_id)\n",
    "    print('\\nTokens', tokens)\n",
    "    "
   ]
  },
  {
   "cell_type": "markdown",
   "metadata": {},
   "source": [
    "**One Star Reviews**"
   ]
  },
  {
   "cell_type": "code",
   "execution_count": null,
   "metadata": {},
   "outputs": [],
   "source": [
    "# Generating the LDA model\n",
    "ldamodel7 = models.ldamodel.LdaModel(doc_term_mat7,\n",
    "                                    num_topics=num_topics,\n",
    "                                    id2word=dict_tokens7,\n",
    "                                    passes=25, alpha=1)"
   ]
  },
  {
   "cell_type": "code",
   "execution_count": null,
   "metadata": {},
   "outputs": [],
   "source": [
    "ldamodel7.print_topics(num_topics=num_topics, num_words=num_words)"
   ]
  },
  {
   "cell_type": "code",
   "execution_count": null,
   "metadata": {},
   "outputs": [],
   "source": [
    "num_words = 5\n",
    "print('\\nTop ' + str(num_words) + ' contributing words to each topic:')\n",
    "for topic_id, tokens in ldamodel7.print_topics(num_topics=num_topics, num_words=num_words):\n",
    "\n",
    "\n",
    "    print('\\nTopic', topic_id)\n",
    "    print('\\nTokens', tokens)\n",
    "    "
   ]
  },
  {
   "cell_type": "markdown",
   "metadata": {},
   "source": [
    "**5 Star Reviews** "
   ]
  },
  {
   "cell_type": "code",
   "execution_count": null,
   "metadata": {},
   "outputs": [],
   "source": [
    "# Generating the LDA model\n",
    "ldamodel8 = models.ldamodel.LdaModel(doc_term_mat8,\n",
    "                                    num_topics=num_topics,\n",
    "                                    id2word=dict_tokens8,\n",
    "                                    passes=25, alpha=1)"
   ]
  },
  {
   "cell_type": "code",
   "execution_count": null,
   "metadata": {},
   "outputs": [],
   "source": [
    "ldamodel8.print_topics(num_topics=num_topics, num_words=num_words)"
   ]
  },
  {
   "cell_type": "code",
   "execution_count": null,
   "metadata": {},
   "outputs": [],
   "source": [
    "num_words = 5\n",
    "print('\\nTop ' + str(num_words) + ' contributing words to each topic:')\n",
    "for topic_id, tokens in ldamodel8.print_topics(num_topics=num_topics, num_words=num_words):\n",
    "\n",
    "\n",
    "    print('\\nTopic', topic_id)\n",
    "    print('\\nTokens', tokens)\n",
    "    "
   ]
  },
  {
   "cell_type": "code",
   "execution_count": null,
   "metadata": {},
   "outputs": [],
   "source": []
  },
  {
   "cell_type": "markdown",
   "metadata": {},
   "source": [
    "Checking out TFIDF "
   ]
  },
  {
   "cell_type": "code",
   "execution_count": null,
   "metadata": {},
   "outputs": [],
   "source": [
    "from sklearn.feature_extraction.text import TfidfVectorizer\n",
    "\n",
    "tvec = TfidfVectorizer(stop_words='english')\n",
    "tvec.fit(one_star_text)"
   ]
  },
  {
   "cell_type": "code",
   "execution_count": null,
   "metadata": {},
   "outputs": [],
   "source": []
  },
  {
   "cell_type": "code",
   "execution_count": null,
   "metadata": {},
   "outputs": [],
   "source": []
  },
  {
   "cell_type": "code",
   "execution_count": null,
   "metadata": {},
   "outputs": [],
   "source": []
  },
  {
   "cell_type": "code",
   "execution_count": null,
   "metadata": {},
   "outputs": [],
   "source": []
  },
  {
   "cell_type": "code",
   "execution_count": null,
   "metadata": {},
   "outputs": [],
   "source": [
    "pyLDAvis.gensim.prepare(ldamodel0, doc_term_mat0, dict_tokens0)"
   ]
  },
  {
   "cell_type": "code",
   "execution_count": null,
   "metadata": {},
   "outputs": [],
   "source": []
  },
  {
   "cell_type": "code",
   "execution_count": null,
   "metadata": {},
   "outputs": [],
   "source": [
    "pyLDAvis.gensim.prepare(ldamodel1, doc_term_mat1, dict_tokens1)"
   ]
  },
  {
   "cell_type": "code",
   "execution_count": null,
   "metadata": {},
   "outputs": [],
   "source": []
  },
  {
   "cell_type": "code",
   "execution_count": null,
   "metadata": {},
   "outputs": [],
   "source": [
    "pyLDAvis.gensim.prepare(ldamodel2, doc_term_mat2, dict_tokens2)"
   ]
  },
  {
   "cell_type": "code",
   "execution_count": null,
   "metadata": {},
   "outputs": [],
   "source": [
    "pyLDAvis.gensim.prepare(ldamodel3, doc_term_mat3, dict_tokens3)"
   ]
  },
  {
   "cell_type": "code",
   "execution_count": null,
   "metadata": {},
   "outputs": [],
   "source": []
  },
  {
   "cell_type": "code",
   "execution_count": null,
   "metadata": {},
   "outputs": [],
   "source": []
  },
  {
   "cell_type": "code",
   "execution_count": null,
   "metadata": {},
   "outputs": [],
   "source": []
  },
  {
   "cell_type": "code",
   "execution_count": null,
   "metadata": {},
   "outputs": [],
   "source": []
  },
  {
   "cell_type": "code",
   "execution_count": null,
   "metadata": {},
   "outputs": [],
   "source": []
  },
  {
   "cell_type": "code",
   "execution_count": null,
   "metadata": {},
   "outputs": [],
   "source": []
  },
  {
   "cell_type": "code",
   "execution_count": null,
   "metadata": {},
   "outputs": [],
   "source": []
  },
  {
   "cell_type": "code",
   "execution_count": null,
   "metadata": {},
   "outputs": [],
   "source": []
  },
  {
   "cell_type": "code",
   "execution_count": null,
   "metadata": {
    "scrolled": true
   },
   "outputs": [],
   "source": [
    "# ldamodel.print_topics(num_topics=num_topics, num_words=num_words)"
   ]
  },
  {
   "cell_type": "code",
   "execution_count": null,
   "metadata": {},
   "outputs": [],
   "source": [
    "# num_words = 5\n",
    "# print('\\nTop ' + str(num_words) + ' contributing words to each topic:')\n",
    "# for topic_id, tokens in ldamodel.print_topics(num_topics=num_topics, num_words=num_words):\n",
    "\n",
    "\n",
    "#     print('\\nTopic', topic_id)\n",
    "#     print('\\nTokens', tokens)\n",
    "    \n",
    "# # Print the contributing words along with their relative contributions\n",
    "# list_of_strings = item[1].split(' + ')\n",
    "# for text in list_of_strings:\n",
    "#     weight = text.split('*')[0]\n",
    "#     word = text.split('*')[1]\n",
    "#     print(word, '==>', str(round(float(weight) * 100, 2)) + '%')"
   ]
  },
  {
   "cell_type": "code",
   "execution_count": null,
   "metadata": {},
   "outputs": [],
   "source": [
    "# vader = SentimentIntensityAnalyzer()\n",
    "# print(vader.polarity_scores(review_text[100]))\n",
    "# # turn it to dataframe and then concatenate ?"
   ]
  },
  {
   "cell_type": "code",
   "execution_count": null,
   "metadata": {},
   "outputs": [],
   "source": []
  },
  {
   "cell_type": "code",
   "execution_count": null,
   "metadata": {},
   "outputs": [],
   "source": [
    "blob = TextBlob(data[\"text\"][0])"
   ]
  },
  {
   "cell_type": "code",
   "execution_count": null,
   "metadata": {},
   "outputs": [],
   "source": [
    "blob.tags"
   ]
  },
  {
   "cell_type": "code",
   "execution_count": null,
   "metadata": {},
   "outputs": [],
   "source": [
    "blob.noun_phrases"
   ]
  },
  {
   "cell_type": "code",
   "execution_count": null,
   "metadata": {},
   "outputs": [],
   "source": [
    "# seperate out good and bad\n",
    "# 3 filter out negative ordinals \n",
    "\n",
    "# look into taking average of text blobs \n",
    "\n",
    "for sentence in blob.sentences:\n",
    "    print(sentence.sentiment.polarity)"
   ]
  },
  {
   "cell_type": "code",
   "execution_count": null,
   "metadata": {},
   "outputs": [],
   "source": []
  },
  {
   "cell_type": "markdown",
   "metadata": {},
   "source": [
    "## Stating with the Basics"
   ]
  },
  {
   "cell_type": "code",
   "execution_count": null,
   "metadata": {},
   "outputs": [],
   "source": [
    "# Train test split \n",
    "X_train, X_test, y_train, y_test = train_test_split(data[\"text\"], y, test_size=0.30, random_state=42)"
   ]
  },
  {
   "cell_type": "markdown",
   "metadata": {},
   "source": [
    "#### Bag of Words Model\n",
    "Here, we will create a bag of words model to get a better sense of our data. What words are hot, whats not ext... "
   ]
  },
  {
   "cell_type": "code",
   "execution_count": null,
   "metadata": {
    "scrolled": true
   },
   "outputs": [],
   "source": [
    "X_train.head"
   ]
  },
  {
   "cell_type": "code",
   "execution_count": null,
   "metadata": {},
   "outputs": [],
   "source": []
  },
  {
   "cell_type": "code",
   "execution_count": null,
   "metadata": {},
   "outputs": [],
   "source": [
    "# instantiaing CountVectorizer \n",
    "cvec = CountVectorizer(stop_words='english') # should I be setting max_df\n",
    "\n",
    "# making our corpus \n",
    "corpus = data[\"text\"]"
   ]
  },
  {
   "cell_type": "code",
   "execution_count": null,
   "metadata": {},
   "outputs": [],
   "source": [
    "cvec.fit(corpus)\n",
    "\n",
    "# tansforming corpus \n",
    "new_corpus = cvec.transform(corpus)"
   ]
  },
  {
   "cell_type": "code",
   "execution_count": null,
   "metadata": {},
   "outputs": [],
   "source": [
    "new_corpus"
   ]
  },
  {
   "cell_type": "code",
   "execution_count": null,
   "metadata": {},
   "outputs": [],
   "source": [
    "new_corpus.todense()"
   ]
  },
  {
   "cell_type": "code",
   "execution_count": null,
   "metadata": {},
   "outputs": [],
   "source": [
    "cvec.get_feature_names()"
   ]
  },
  {
   "cell_type": "code",
   "execution_count": null,
   "metadata": {},
   "outputs": [],
   "source": [
    "# X_train = pd.DataFrame(cvec.transform(data[\"text\"]).todense(),\n",
    "#                        columns=cvec.get_feature_names())"
   ]
  },
  {
   "cell_type": "code",
   "execution_count": null,
   "metadata": {},
   "outputs": [],
   "source": [
    "word_counts = X_train.sum(axis=0)\n",
    "word_counts.sort_values(ascending = False).head(20)"
   ]
  },
  {
   "cell_type": "code",
   "execution_count": null,
   "metadata": {},
   "outputs": [],
   "source": [
    "y_train = data[\"stars\"]"
   ]
  },
  {
   "cell_type": "code",
   "execution_count": null,
   "metadata": {},
   "outputs": [],
   "source": [
    "# closer look at the most common words"
   ]
  },
  {
   "cell_type": "markdown",
   "metadata": {},
   "source": [
    "# Recommender System Based on Sentiment Score "
   ]
  },
  {
   "cell_type": "code",
   "execution_count": null,
   "metadata": {},
   "outputs": [],
   "source": [
    "from scipy import sparse\n",
    "from sklearn.metrics.pairwise import pairwise_distances, cosine_similarity"
   ]
  },
  {
   "cell_type": "code",
   "execution_count": null,
   "metadata": {},
   "outputs": [],
   "source": [
    "data.head()"
   ]
  },
  {
   "cell_type": "code",
   "execution_count": null,
   "metadata": {},
   "outputs": [],
   "source": [
    "data.columns"
   ]
  },
  {
   "cell_type": "code",
   "execution_count": null,
   "metadata": {},
   "outputs": [],
   "source": [
    "# pure rec dataframe \n",
    "rec_data = data[[\"business_id\", \"name\", \"user_id\", \"sentiment_score\"]]"
   ]
  },
  {
   "cell_type": "code",
   "execution_count": null,
   "metadata": {},
   "outputs": [],
   "source": [
    "rec_data.head()"
   ]
  },
  {
   "cell_type": "code",
   "execution_count": null,
   "metadata": {},
   "outputs": [],
   "source": [
    "rec_data.to_csv(\"sent_rec_data\", encoding='utf-8', index=False)"
   ]
  },
  {
   "cell_type": "code",
   "execution_count": null,
   "metadata": {},
   "outputs": [],
   "source": [
    "# need an index of all users, and single column for every restaurant \n",
    "pivot = pd.pivot_table(rec_data, index='user_id', columns='name', values='sentiment_score')"
   ]
  },
  {
   "cell_type": "code",
   "execution_count": null,
   "metadata": {},
   "outputs": [],
   "source": [
    "pivot.head()"
   ]
  },
  {
   "cell_type": "code",
   "execution_count": null,
   "metadata": {},
   "outputs": [],
   "source": [
    "# item based colaborative filter, so we transpose, and create a sparse dataframe \n",
    "sparse_pivot = sparse.csr_matrix(pivot.T.fillna(0))"
   ]
  },
  {
   "cell_type": "code",
   "execution_count": null,
   "metadata": {
    "scrolled": true
   },
   "outputs": [],
   "source": [
    "# print(sparse_pivot)"
   ]
  },
  {
   "cell_type": "markdown",
   "metadata": {},
   "source": [
    "### Calculating Cosine Similarity "
   ]
  },
  {
   "cell_type": "code",
   "execution_count": null,
   "metadata": {},
   "outputs": [],
   "source": [
    "sparse_pivot.shape"
   ]
  },
  {
   "cell_type": "code",
   "execution_count": null,
   "metadata": {},
   "outputs": [],
   "source": [
    "distances = pairwise_distances(sparse_pivot, metric='cosine')"
   ]
  },
  {
   "cell_type": "code",
   "execution_count": null,
   "metadata": {},
   "outputs": [],
   "source": [
    "distances.shape"
   ]
  },
  {
   "cell_type": "code",
   "execution_count": null,
   "metadata": {},
   "outputs": [],
   "source": [
    "distance_df = pd.DataFrame(distances, index=pivot.columns, columns=pivot.columns)\n",
    "distance_df.head()"
   ]
  },
  {
   "cell_type": "code",
   "execution_count": null,
   "metadata": {},
   "outputs": [],
   "source": [
    "search = '\"Angelos of Fort Mill\"'\n",
    "for resto in rec_data.loc[rec_data['name'].str.contains(search), 'name'].values:\n",
    "    print(resto)\n",
    "    print('Average Sentiment', pivot[resto].mean())\n",
    "    print('Count of Sentiment Scores', pivot[resto].count())\n",
    "    print('Similar Restaurants')\n",
    "    print(distance_df[resto].sort_values()[1:11])\n",
    "    print('')\n",
    "    print('')"
   ]
  },
  {
   "cell_type": "code",
   "execution_count": null,
   "metadata": {},
   "outputs": [],
   "source": []
  }
 ],
 "metadata": {
  "kernelspec": {
   "display_name": "Python [default]",
   "language": "python",
   "name": "python3"
  },
  "language_info": {
   "codemirror_mode": {
    "name": "ipython",
    "version": 3
   },
   "file_extension": ".py",
   "mimetype": "text/x-python",
   "name": "python",
   "nbconvert_exporter": "python",
   "pygments_lexer": "ipython3",
   "version": "3.6.4"
  }
 },
 "nbformat": 4,
 "nbformat_minor": 2
}
